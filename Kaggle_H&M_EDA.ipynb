{
  "nbformat": 4,
  "nbformat_minor": 0,
  "metadata": {
    "colab": {
      "name": "Kaggle H&M EDA.ipynb",
      "provenance": [],
      "authorship_tag": "ABX9TyO/mKNDcCd7pdTHDepOA4qN"
    },
    "kernelspec": {
      "name": "python3",
      "display_name": "Python 3"
    },
    "language_info": {
      "name": "python"
    }
  },
  "cells": [
    {
      "cell_type": "markdown",
      "source": [
        "#Environment Setup And Imports, Loading The Dataset"
      ],
      "metadata": {
        "id": "Xf1GjeJlzITq"
      }
    },
    {
      "cell_type": "code",
      "execution_count": null,
      "metadata": {
        "id": "mfJM7SdCc7Cm",
        "colab": {
          "base_uri": "https://localhost:8080/"
        },
        "outputId": "14591bb2-45d4-4c05-c27d-aa877191430c"
      },
      "outputs": [
        {
          "output_type": "stream",
          "name": "stdout",
          "text": [
            "Requirement already satisfied: kaggle in /usr/local/lib/python3.7/dist-packages (1.5.12)\n",
            "Requirement already satisfied: tqdm in /usr/local/lib/python3.7/dist-packages (from kaggle) (4.63.0)\n",
            "Requirement already satisfied: urllib3 in /usr/local/lib/python3.7/dist-packages (from kaggle) (1.24.3)\n",
            "Requirement already satisfied: python-dateutil in /usr/local/lib/python3.7/dist-packages (from kaggle) (2.8.2)\n",
            "Requirement already satisfied: python-slugify in /usr/local/lib/python3.7/dist-packages (from kaggle) (6.1.1)\n",
            "Requirement already satisfied: six>=1.10 in /usr/local/lib/python3.7/dist-packages (from kaggle) (1.15.0)\n",
            "Requirement already satisfied: requests in /usr/local/lib/python3.7/dist-packages (from kaggle) (2.23.0)\n",
            "Requirement already satisfied: certifi in /usr/local/lib/python3.7/dist-packages (from kaggle) (2021.10.8)\n",
            "Requirement already satisfied: text-unidecode>=1.3 in /usr/local/lib/python3.7/dist-packages (from python-slugify->kaggle) (1.3)\n",
            "Requirement already satisfied: chardet<4,>=3.0.2 in /usr/local/lib/python3.7/dist-packages (from requests->kaggle) (3.0.4)\n",
            "Requirement already satisfied: idna<3,>=2.5 in /usr/local/lib/python3.7/dist-packages (from requests->kaggle) (2.10)\n"
          ]
        }
      ],
      "source": [
        "#@title Kaggle Setup For Colab {display-mode: \"form\"}\n",
        "\n",
        "! pip install kaggle\n",
        "! mkdir ~/.kaggle\n",
        "! cp kaggle.json ~/.kaggle/\n",
        "! chmod 600 ~/.kaggle/kaggle.json"
      ]
    },
    {
      "cell_type": "code",
      "source": [
        "#@title Download and Unzip The Data {display-mode: \"form\"}\n",
        "#Don't download the images, file size too large\n",
        "! kaggle competitions download h-and-m-personalized-fashion-recommendations -f articles.csv\n",
        "! kaggle competitions download h-and-m-personalized-fashion-recommendations -f customers.csv\n",
        "! kaggle competitions download h-and-m-personalized-fashion-recommendations -f transactions_train.csv\n",
        "! unzip articles.csv.zip\n",
        "! unzip customers.csv.zip\n",
        "! unzip transactions_train.csv.zip"
      ],
      "metadata": {
        "id": "IkST1iMAdvQc",
        "colab": {
          "base_uri": "https://localhost:8080/"
        },
        "outputId": "95494121-3e28-41fc-b532-f26dede48ed1"
      },
      "execution_count": null,
      "outputs": [
        {
          "output_type": "stream",
          "name": "stdout",
          "text": [
            "Downloading articles.csv.zip to /content\n",
            "\r  0% 0.00/4.26M [00:00<?, ?B/s]\n",
            "100% 4.26M/4.26M [00:00<00:00, 100MB/s]\n",
            "Downloading customers.csv.zip to /content\n",
            " 94% 92.0M/97.9M [00:00<00:00, 139MB/s]\n",
            "100% 97.9M/97.9M [00:00<00:00, 144MB/s]\n",
            "Downloading transactions_train.csv.zip to /content\n",
            " 99% 577M/584M [00:04<00:00, 97.6MB/s]\n",
            "100% 584M/584M [00:04<00:00, 126MB/s] \n",
            "Archive:  articles.csv.zip\n",
            "  inflating: articles.csv            \n",
            "Archive:  customers.csv.zip\n",
            "  inflating: customers.csv           \n",
            "Archive:  transactions_train.csv.zip\n",
            "  inflating: transactions_train.csv  \n"
          ]
        }
      ]
    },
    {
      "cell_type": "code",
      "source": [
        "#@title Library Imports {display-mode: \"form\"}\n",
        "\n",
        "import pandas as pd\n",
        "import matplotlib.pyplot as plt\n",
        "%matplotlib inline\n",
        "import seaborn as sns\n",
        "\n",
        "from tqdm import tqdm"
      ],
      "metadata": {
        "id": "JXKAGSeQetoo"
      },
      "execution_count": null,
      "outputs": []
    },
    {
      "cell_type": "code",
      "source": [
        "#@title Load The Data {display-mode: \"form\"}\n",
        "articles = pd.read_csv('articles.csv')\n",
        "customers = pd.read_csv('customers.csv')\n",
        "transactions = pd.read_csv('transactions_train.csv')"
      ],
      "metadata": {
        "id": "X-b_Ybpvge33"
      },
      "execution_count": null,
      "outputs": []
    },
    {
      "cell_type": "markdown",
      "source": [
        "#EDA"
      ],
      "metadata": {
        "id": "2gyDN7PGjtv-"
      }
    },
    {
      "cell_type": "markdown",
      "source": [
        "## Articles Data\n",
        "Let's start with the articles data and take a look at the features\n",
        "\n",
        "-  <b>article_id(int)</b>: Id of the clothing\n",
        "-  <b>product_code(int)</b>\n",
        "-  <b>prod_name(str)</b>: Name of the product, includes category information\n",
        "-  <b>product_type_no(int)</b>: Category code, can be based on product_group_name\n",
        "-  <b>product_type_name(str)</b>: Subcategory name (ie: trousers, leggins, pants)\n",
        "-  <b>product_group_name(nominal)</b>: Product category (ie: underwear, garment upper body)\n",
        "-  <b>graphical_appearance_no(int)</b>\n",
        "-  <b>graphical_appearance_name(nominal)</b>: Describes if the clothing has any design or pattern on it. (ie: solid, stripe)\n",
        "-  <b>colour_group_code(int), colour_group_name(nominal)</b>\n",
        "-  <b>perceived_colour_value_id(int), perceived_colour_value_name(nominal)</b>\n",
        "-  <b>perceived_colour_master_id(int), perceived_colour_master_name(nominal)</b>\n",
        "-  <b>department_no(int), department_name(nominal)</b>\n",
        "-  <b>index_code(str), index_name(nominal)</b>\n",
        "-  <b>index_group_no(int),index_group_name(nominal)</b>\n",
        "-  <b>section_no(int), section_name(nominal)</b>\n",
        "-  <b>garment_group_no(int), garment_group_name(nominal)</b>\n",
        "-  <b>detail_desc(str):</b>Detailed description of the item (ie: Sweatshirt in soft organic cotton with a  press-stud on one shoulder)"
      ],
      "metadata": {
        "id": "08a-c9H3jw0d"
      }
    },
    {
      "cell_type": "code",
      "source": [
        "#@title {display-mode: \"form\"}\n",
        "articles.head()"
      ],
      "metadata": {
        "colab": {
          "base_uri": "https://localhost:8080/",
          "height": 280
        },
        "id": "RJtTwixnhgyp",
        "outputId": "47b26e74-1bfb-4b67-da3c-8f99a7f4d2e4"
      },
      "execution_count": null,
      "outputs": [
        {
          "output_type": "execute_result",
          "data": {
            "text/plain": [
              "   article_id  product_code          prod_name  product_type_no  \\\n",
              "0   108775015        108775          Strap top              253   \n",
              "1   108775044        108775          Strap top              253   \n",
              "2   108775051        108775      Strap top (1)              253   \n",
              "3   110065001        110065  OP T-shirt (Idro)              306   \n",
              "4   110065002        110065  OP T-shirt (Idro)              306   \n",
              "\n",
              "  product_type_name  product_group_name  graphical_appearance_no  \\\n",
              "0          Vest top  Garment Upper body                  1010016   \n",
              "1          Vest top  Garment Upper body                  1010016   \n",
              "2          Vest top  Garment Upper body                  1010017   \n",
              "3               Bra           Underwear                  1010016   \n",
              "4               Bra           Underwear                  1010016   \n",
              "\n",
              "  graphical_appearance_name  colour_group_code colour_group_name  ...  \\\n",
              "0                     Solid                  9             Black  ...   \n",
              "1                     Solid                 10             White  ...   \n",
              "2                    Stripe                 11         Off White  ...   \n",
              "3                     Solid                  9             Black  ...   \n",
              "4                     Solid                 10             White  ...   \n",
              "\n",
              "   department_name index_code        index_name index_group_no  \\\n",
              "0     Jersey Basic          A        Ladieswear              1   \n",
              "1     Jersey Basic          A        Ladieswear              1   \n",
              "2     Jersey Basic          A        Ladieswear              1   \n",
              "3   Clean Lingerie          B  Lingeries/Tights              1   \n",
              "4   Clean Lingerie          B  Lingeries/Tights              1   \n",
              "\n",
              "   index_group_name section_no            section_name garment_group_no  \\\n",
              "0        Ladieswear         16  Womens Everyday Basics             1002   \n",
              "1        Ladieswear         16  Womens Everyday Basics             1002   \n",
              "2        Ladieswear         16  Womens Everyday Basics             1002   \n",
              "3        Ladieswear         61         Womens Lingerie             1017   \n",
              "4        Ladieswear         61         Womens Lingerie             1017   \n",
              "\n",
              "   garment_group_name                                        detail_desc  \n",
              "0        Jersey Basic            Jersey top with narrow shoulder straps.  \n",
              "1        Jersey Basic            Jersey top with narrow shoulder straps.  \n",
              "2        Jersey Basic            Jersey top with narrow shoulder straps.  \n",
              "3   Under-, Nightwear  Microfibre T-shirt bra with underwired, moulde...  \n",
              "4   Under-, Nightwear  Microfibre T-shirt bra with underwired, moulde...  \n",
              "\n",
              "[5 rows x 25 columns]"
            ],
            "text/html": [
              "\n",
              "  <div id=\"df-6c117e95-b430-4f64-a623-04539cba1969\">\n",
              "    <div class=\"colab-df-container\">\n",
              "      <div>\n",
              "<style scoped>\n",
              "    .dataframe tbody tr th:only-of-type {\n",
              "        vertical-align: middle;\n",
              "    }\n",
              "\n",
              "    .dataframe tbody tr th {\n",
              "        vertical-align: top;\n",
              "    }\n",
              "\n",
              "    .dataframe thead th {\n",
              "        text-align: right;\n",
              "    }\n",
              "</style>\n",
              "<table border=\"1\" class=\"dataframe\">\n",
              "  <thead>\n",
              "    <tr style=\"text-align: right;\">\n",
              "      <th></th>\n",
              "      <th>article_id</th>\n",
              "      <th>product_code</th>\n",
              "      <th>prod_name</th>\n",
              "      <th>product_type_no</th>\n",
              "      <th>product_type_name</th>\n",
              "      <th>product_group_name</th>\n",
              "      <th>graphical_appearance_no</th>\n",
              "      <th>graphical_appearance_name</th>\n",
              "      <th>colour_group_code</th>\n",
              "      <th>colour_group_name</th>\n",
              "      <th>...</th>\n",
              "      <th>department_name</th>\n",
              "      <th>index_code</th>\n",
              "      <th>index_name</th>\n",
              "      <th>index_group_no</th>\n",
              "      <th>index_group_name</th>\n",
              "      <th>section_no</th>\n",
              "      <th>section_name</th>\n",
              "      <th>garment_group_no</th>\n",
              "      <th>garment_group_name</th>\n",
              "      <th>detail_desc</th>\n",
              "    </tr>\n",
              "  </thead>\n",
              "  <tbody>\n",
              "    <tr>\n",
              "      <th>0</th>\n",
              "      <td>108775015</td>\n",
              "      <td>108775</td>\n",
              "      <td>Strap top</td>\n",
              "      <td>253</td>\n",
              "      <td>Vest top</td>\n",
              "      <td>Garment Upper body</td>\n",
              "      <td>1010016</td>\n",
              "      <td>Solid</td>\n",
              "      <td>9</td>\n",
              "      <td>Black</td>\n",
              "      <td>...</td>\n",
              "      <td>Jersey Basic</td>\n",
              "      <td>A</td>\n",
              "      <td>Ladieswear</td>\n",
              "      <td>1</td>\n",
              "      <td>Ladieswear</td>\n",
              "      <td>16</td>\n",
              "      <td>Womens Everyday Basics</td>\n",
              "      <td>1002</td>\n",
              "      <td>Jersey Basic</td>\n",
              "      <td>Jersey top with narrow shoulder straps.</td>\n",
              "    </tr>\n",
              "    <tr>\n",
              "      <th>1</th>\n",
              "      <td>108775044</td>\n",
              "      <td>108775</td>\n",
              "      <td>Strap top</td>\n",
              "      <td>253</td>\n",
              "      <td>Vest top</td>\n",
              "      <td>Garment Upper body</td>\n",
              "      <td>1010016</td>\n",
              "      <td>Solid</td>\n",
              "      <td>10</td>\n",
              "      <td>White</td>\n",
              "      <td>...</td>\n",
              "      <td>Jersey Basic</td>\n",
              "      <td>A</td>\n",
              "      <td>Ladieswear</td>\n",
              "      <td>1</td>\n",
              "      <td>Ladieswear</td>\n",
              "      <td>16</td>\n",
              "      <td>Womens Everyday Basics</td>\n",
              "      <td>1002</td>\n",
              "      <td>Jersey Basic</td>\n",
              "      <td>Jersey top with narrow shoulder straps.</td>\n",
              "    </tr>\n",
              "    <tr>\n",
              "      <th>2</th>\n",
              "      <td>108775051</td>\n",
              "      <td>108775</td>\n",
              "      <td>Strap top (1)</td>\n",
              "      <td>253</td>\n",
              "      <td>Vest top</td>\n",
              "      <td>Garment Upper body</td>\n",
              "      <td>1010017</td>\n",
              "      <td>Stripe</td>\n",
              "      <td>11</td>\n",
              "      <td>Off White</td>\n",
              "      <td>...</td>\n",
              "      <td>Jersey Basic</td>\n",
              "      <td>A</td>\n",
              "      <td>Ladieswear</td>\n",
              "      <td>1</td>\n",
              "      <td>Ladieswear</td>\n",
              "      <td>16</td>\n",
              "      <td>Womens Everyday Basics</td>\n",
              "      <td>1002</td>\n",
              "      <td>Jersey Basic</td>\n",
              "      <td>Jersey top with narrow shoulder straps.</td>\n",
              "    </tr>\n",
              "    <tr>\n",
              "      <th>3</th>\n",
              "      <td>110065001</td>\n",
              "      <td>110065</td>\n",
              "      <td>OP T-shirt (Idro)</td>\n",
              "      <td>306</td>\n",
              "      <td>Bra</td>\n",
              "      <td>Underwear</td>\n",
              "      <td>1010016</td>\n",
              "      <td>Solid</td>\n",
              "      <td>9</td>\n",
              "      <td>Black</td>\n",
              "      <td>...</td>\n",
              "      <td>Clean Lingerie</td>\n",
              "      <td>B</td>\n",
              "      <td>Lingeries/Tights</td>\n",
              "      <td>1</td>\n",
              "      <td>Ladieswear</td>\n",
              "      <td>61</td>\n",
              "      <td>Womens Lingerie</td>\n",
              "      <td>1017</td>\n",
              "      <td>Under-, Nightwear</td>\n",
              "      <td>Microfibre T-shirt bra with underwired, moulde...</td>\n",
              "    </tr>\n",
              "    <tr>\n",
              "      <th>4</th>\n",
              "      <td>110065002</td>\n",
              "      <td>110065</td>\n",
              "      <td>OP T-shirt (Idro)</td>\n",
              "      <td>306</td>\n",
              "      <td>Bra</td>\n",
              "      <td>Underwear</td>\n",
              "      <td>1010016</td>\n",
              "      <td>Solid</td>\n",
              "      <td>10</td>\n",
              "      <td>White</td>\n",
              "      <td>...</td>\n",
              "      <td>Clean Lingerie</td>\n",
              "      <td>B</td>\n",
              "      <td>Lingeries/Tights</td>\n",
              "      <td>1</td>\n",
              "      <td>Ladieswear</td>\n",
              "      <td>61</td>\n",
              "      <td>Womens Lingerie</td>\n",
              "      <td>1017</td>\n",
              "      <td>Under-, Nightwear</td>\n",
              "      <td>Microfibre T-shirt bra with underwired, moulde...</td>\n",
              "    </tr>\n",
              "  </tbody>\n",
              "</table>\n",
              "<p>5 rows × 25 columns</p>\n",
              "</div>\n",
              "      <button class=\"colab-df-convert\" onclick=\"convertToInteractive('df-6c117e95-b430-4f64-a623-04539cba1969')\"\n",
              "              title=\"Convert this dataframe to an interactive table.\"\n",
              "              style=\"display:none;\">\n",
              "        \n",
              "  <svg xmlns=\"http://www.w3.org/2000/svg\" height=\"24px\"viewBox=\"0 0 24 24\"\n",
              "       width=\"24px\">\n",
              "    <path d=\"M0 0h24v24H0V0z\" fill=\"none\"/>\n",
              "    <path d=\"M18.56 5.44l.94 2.06.94-2.06 2.06-.94-2.06-.94-.94-2.06-.94 2.06-2.06.94zm-11 1L8.5 8.5l.94-2.06 2.06-.94-2.06-.94L8.5 2.5l-.94 2.06-2.06.94zm10 10l.94 2.06.94-2.06 2.06-.94-2.06-.94-.94-2.06-.94 2.06-2.06.94z\"/><path d=\"M17.41 7.96l-1.37-1.37c-.4-.4-.92-.59-1.43-.59-.52 0-1.04.2-1.43.59L10.3 9.45l-7.72 7.72c-.78.78-.78 2.05 0 2.83L4 21.41c.39.39.9.59 1.41.59.51 0 1.02-.2 1.41-.59l7.78-7.78 2.81-2.81c.8-.78.8-2.07 0-2.86zM5.41 20L4 18.59l7.72-7.72 1.47 1.35L5.41 20z\"/>\n",
              "  </svg>\n",
              "      </button>\n",
              "      \n",
              "  <style>\n",
              "    .colab-df-container {\n",
              "      display:flex;\n",
              "      flex-wrap:wrap;\n",
              "      gap: 12px;\n",
              "    }\n",
              "\n",
              "    .colab-df-convert {\n",
              "      background-color: #E8F0FE;\n",
              "      border: none;\n",
              "      border-radius: 50%;\n",
              "      cursor: pointer;\n",
              "      display: none;\n",
              "      fill: #1967D2;\n",
              "      height: 32px;\n",
              "      padding: 0 0 0 0;\n",
              "      width: 32px;\n",
              "    }\n",
              "\n",
              "    .colab-df-convert:hover {\n",
              "      background-color: #E2EBFA;\n",
              "      box-shadow: 0px 1px 2px rgba(60, 64, 67, 0.3), 0px 1px 3px 1px rgba(60, 64, 67, 0.15);\n",
              "      fill: #174EA6;\n",
              "    }\n",
              "\n",
              "    [theme=dark] .colab-df-convert {\n",
              "      background-color: #3B4455;\n",
              "      fill: #D2E3FC;\n",
              "    }\n",
              "\n",
              "    [theme=dark] .colab-df-convert:hover {\n",
              "      background-color: #434B5C;\n",
              "      box-shadow: 0px 1px 3px 1px rgba(0, 0, 0, 0.15);\n",
              "      filter: drop-shadow(0px 1px 2px rgba(0, 0, 0, 0.3));\n",
              "      fill: #FFFFFF;\n",
              "    }\n",
              "  </style>\n",
              "\n",
              "      <script>\n",
              "        const buttonEl =\n",
              "          document.querySelector('#df-6c117e95-b430-4f64-a623-04539cba1969 button.colab-df-convert');\n",
              "        buttonEl.style.display =\n",
              "          google.colab.kernel.accessAllowed ? 'block' : 'none';\n",
              "\n",
              "        async function convertToInteractive(key) {\n",
              "          const element = document.querySelector('#df-6c117e95-b430-4f64-a623-04539cba1969');\n",
              "          const dataTable =\n",
              "            await google.colab.kernel.invokeFunction('convertToInteractive',\n",
              "                                                     [key], {});\n",
              "          if (!dataTable) return;\n",
              "\n",
              "          const docLinkHtml = 'Like what you see? Visit the ' +\n",
              "            '<a target=\"_blank\" href=https://colab.research.google.com/notebooks/data_table.ipynb>data table notebook</a>'\n",
              "            + ' to learn more about interactive tables.';\n",
              "          element.innerHTML = '';\n",
              "          dataTable['output_type'] = 'display_data';\n",
              "          await google.colab.output.renderOutput(dataTable, element);\n",
              "          const docLink = document.createElement('div');\n",
              "          docLink.innerHTML = docLinkHtml;\n",
              "          element.appendChild(docLink);\n",
              "        }\n",
              "      </script>\n",
              "    </div>\n",
              "  </div>\n",
              "  "
            ]
          },
          "metadata": {},
          "execution_count": 17
        },
        {
          "output_type": "stream",
          "name": "stdout",
          "text": [
            "Warning: Total number of columns (25) exceeds max_columns (20) limiting to first (20) columns.\n"
          ]
        }
      ]
    },
    {
      "cell_type": "markdown",
      "source": [
        "Most of the features are paired as id and name, data types are int and string. Features are nominal, no ordinal features in the articles data."
      ],
      "metadata": {
        "id": "1UF1xOxazlNa"
      }
    },
    {
      "cell_type": "code",
      "source": [
        "#@title {display-mode: \"form\"}\n",
        "articles.info()"
      ],
      "metadata": {
        "colab": {
          "base_uri": "https://localhost:8080/"
        },
        "id": "g3PqCG8tzdZf",
        "outputId": "530314f4-83a8-46e8-8124-ecbb56491bb6"
      },
      "execution_count": null,
      "outputs": [
        {
          "output_type": "stream",
          "name": "stdout",
          "text": [
            "<class 'pandas.core.frame.DataFrame'>\n",
            "RangeIndex: 105542 entries, 0 to 105541\n",
            "Data columns (total 25 columns):\n",
            " #   Column                        Non-Null Count   Dtype \n",
            "---  ------                        --------------   ----- \n",
            " 0   article_id                    105542 non-null  int64 \n",
            " 1   product_code                  105542 non-null  int64 \n",
            " 2   prod_name                     105542 non-null  object\n",
            " 3   product_type_no               105542 non-null  int64 \n",
            " 4   product_type_name             105542 non-null  object\n",
            " 5   product_group_name            105542 non-null  object\n",
            " 6   graphical_appearance_no       105542 non-null  int64 \n",
            " 7   graphical_appearance_name     105542 non-null  object\n",
            " 8   colour_group_code             105542 non-null  int64 \n",
            " 9   colour_group_name             105542 non-null  object\n",
            " 10  perceived_colour_value_id     105542 non-null  int64 \n",
            " 11  perceived_colour_value_name   105542 non-null  object\n",
            " 12  perceived_colour_master_id    105542 non-null  int64 \n",
            " 13  perceived_colour_master_name  105542 non-null  object\n",
            " 14  department_no                 105542 non-null  int64 \n",
            " 15  department_name               105542 non-null  object\n",
            " 16  index_code                    105542 non-null  object\n",
            " 17  index_name                    105542 non-null  object\n",
            " 18  index_group_no                105542 non-null  int64 \n",
            " 19  index_group_name              105542 non-null  object\n",
            " 20  section_no                    105542 non-null  int64 \n",
            " 21  section_name                  105542 non-null  object\n",
            " 22  garment_group_no              105542 non-null  int64 \n",
            " 23  garment_group_name            105542 non-null  object\n",
            " 24  detail_desc                   105126 non-null  object\n",
            "dtypes: int64(11), object(14)\n",
            "memory usage: 20.1+ MB\n"
          ]
        }
      ]
    },
    {
      "cell_type": "code",
      "source": [
        "#@title {display-mode: \"form\"}\n",
        "print(\"The size of the articles file is: \", articles.shape, \"\\n\")\n",
        "print(\"The number of null entries in 105542 rows for each feature are:\\n\")\n",
        "articles.isnull().sum()"
      ],
      "metadata": {
        "colab": {
          "base_uri": "https://localhost:8080/"
        },
        "id": "dA0FS2O8q4FO",
        "outputId": "7a4e41a3-a5c4-4e8c-973a-7fff841a1ed9"
      },
      "execution_count": null,
      "outputs": [
        {
          "output_type": "stream",
          "name": "stdout",
          "text": [
            "The size of the articles file is:  (105542, 25) \n",
            "\n",
            "The number of null entries in 105542 rows for each feature are:\n",
            "\n"
          ]
        },
        {
          "output_type": "execute_result",
          "data": {
            "text/plain": [
              "article_id                        0\n",
              "product_code                      0\n",
              "prod_name                         0\n",
              "product_type_no                   0\n",
              "product_type_name                 0\n",
              "product_group_name                0\n",
              "graphical_appearance_no           0\n",
              "graphical_appearance_name         0\n",
              "colour_group_code                 0\n",
              "colour_group_name                 0\n",
              "perceived_colour_value_id         0\n",
              "perceived_colour_value_name       0\n",
              "perceived_colour_master_id        0\n",
              "perceived_colour_master_name      0\n",
              "department_no                     0\n",
              "department_name                   0\n",
              "index_code                        0\n",
              "index_name                        0\n",
              "index_group_no                    0\n",
              "index_group_name                  0\n",
              "section_no                        0\n",
              "section_name                      0\n",
              "garment_group_no                  0\n",
              "garment_group_name                0\n",
              "detail_desc                     416\n",
              "dtype: int64"
            ]
          },
          "metadata": {},
          "execution_count": 25
        }
      ]
    },
    {
      "cell_type": "markdown",
      "source": [
        "This is a relatively large dataset with 100k+ rows of data. And almost none of the feature have any missing values, except for detail_desc."
      ],
      "metadata": {
        "id": "-MkvB2Zkt5a3"
      }
    },
    {
      "cell_type": "code",
      "source": [
        "#@title {display-mode: \"form\"}\n",
        "print(\"The number of items in each category are:\\n\")\n",
        "pd.value_counts(articles['index_name'])"
      ],
      "metadata": {
        "colab": {
          "base_uri": "https://localhost:8080/"
        },
        "id": "EQOm1p5yqXaE",
        "outputId": "eb8cae72-114e-4842-d9a0-34d5ee19e6ea"
      },
      "execution_count": null,
      "outputs": [
        {
          "output_type": "stream",
          "name": "stdout",
          "text": [
            "The number of items in each category are:\n",
            "\n"
          ]
        },
        {
          "output_type": "execute_result",
          "data": {
            "text/plain": [
              "Ladieswear                        26001\n",
              "Divided                           15149\n",
              "Menswear                          12553\n",
              "Children Sizes 92-140             12007\n",
              "Children Sizes 134-170             9214\n",
              "Baby Sizes 50-98                   8875\n",
              "Ladies Accessories                 6961\n",
              "Lingeries/Tights                   6775\n",
              "Children Accessories, Swimwear     4615\n",
              "Sport                              3392\n",
              "Name: index_name, dtype: int64"
            ]
          },
          "metadata": {},
          "execution_count": 26
        }
      ]
    },
    {
      "cell_type": "markdown",
      "source": [
        "Ladieswear, Divided, Menswear and Children categories make up most of the data. Let's visualize this with a distplot."
      ],
      "metadata": {
        "id": "J-REyWRZwBK7"
      }
    },
    {
      "cell_type": "markdown",
      "source": [
        "Let's look at the distribution of products for each category, which is product_group_name."
      ],
      "metadata": {
        "id": "ra7JbQ0mppkM"
      }
    },
    {
      "cell_type": "code",
      "source": [
        "#@title {display-mode: \"form\"}\n",
        "ax = sns.displot(data=articles, y='index_name', aspect=3)\n",
        "ax.set_axis_labels('Product Count', 'Prod Category')"
      ],
      "metadata": {
        "colab": {
          "base_uri": "https://localhost:8080/",
          "height": 386
        },
        "id": "pKNo5j5lp2YQ",
        "outputId": "7eedd95b-d70b-42f0-81c7-267e5c1c4f49"
      },
      "execution_count": null,
      "outputs": [
        {
          "output_type": "execute_result",
          "data": {
            "text/plain": [
              "<seaborn.axisgrid.FacetGrid at 0x7f4bcca03290>"
            ]
          },
          "metadata": {},
          "execution_count": 128
        },
        {
          "output_type": "display_data",
          "data": {
            "text/plain": [
              "<Figure size 1080x360 with 1 Axes>"
            ],
            "image/png": "[encoded data removed]"
          },
          "metadata": {
            "needs_background": "light"
          }
        }
      ]
    },
    {
      "cell_type": "markdown",
      "source": [
        "It can now be seen easier that the dominant category is Ladieswear, which has almost as much products as Divided (unisex products of h&m) and Menswear combined."
      ],
      "metadata": {
        "id": "RnqjWo0ezHxI"
      }
    },
    {
      "cell_type": "markdown",
      "source": [
        "### Distribution of Categories (menswear, ladieswear, divided etc.) in the product categories (trousers, shirts etc.)"
      ],
      "metadata": {
        "id": "Wi87bX3eOAbI"
      }
    },
    {
      "cell_type": "code",
      "source": [
        "#@title\n",
        "ax = sns.displot(data=articles, y='product_group_name', color='orange', hue='index_group_name', multiple='stack', aspect=3)\n",
        "ax.set_axis_labels('Count By Garment Group', 'Garment Group')"
      ],
      "metadata": {
        "colab": {
          "base_uri": "https://localhost:8080/",
          "height": 386
        },
        "cellView": "form",
        "id": "Tq3rXVzv2gQM",
        "outputId": "d3434fbe-c6e9-4aa7-8aa7-9409cf295810"
      },
      "execution_count": null,
      "outputs": [
        {
          "output_type": "execute_result",
          "data": {
            "text/plain": [
              "<seaborn.axisgrid.FacetGrid at 0x7f4bce4b2a90>"
            ]
          },
          "metadata": {},
          "execution_count": 125
        },
        {
          "output_type": "display_data",
          "data": {
            "text/plain": [
              "<Figure size 1186.25x360 with 1 Axes>"
            ],
            "image/png": "[encoded data removed]"
          },
          "metadata": {
            "needs_background": "light"
          }
        }
      ]
    },
    {
      "cell_type": "markdown",
      "source": [
        "A more detailed plot of product subcategories in the index_group_name categories. Let's examine a few. Shoes category is mainly for women and children, knitwear and trousers look more evenly distributed. "
      ],
      "metadata": {
        "id": "bXHsrjUFt3Mp"
      }
    },
    {
      "cell_type": "code",
      "source": [
        "#@title {display-mode: \"form\"}\n",
        "ax = sns.displot(data=articles, y='garment_group_name', color='orange', hue='index_group_name', multiple='stack', aspect=3)\n",
        "ax.set_axis_labels('Count By Garment Group', 'Garment Group')"
      ],
      "metadata": {
        "colab": {
          "base_uri": "https://localhost:8080/",
          "height": 386
        },
        "id": "8UbYY8OErVIX",
        "outputId": "5eda84fc-ffb0-4b3e-e3b1-6240c90c501d"
      },
      "execution_count": null,
      "outputs": [
        {
          "output_type": "execute_result",
          "data": {
            "text/plain": [
              "<seaborn.axisgrid.FacetGrid at 0x7f4bcd641810>"
            ]
          },
          "metadata": {},
          "execution_count": 126
        },
        {
          "output_type": "display_data",
          "data": {
            "text/plain": [
              "<Figure size 1186.25x360 with 1 Axes>"
            ],
            "image/png": "[encoded data removed]"
          },
          "metadata": {
            "needs_background": "light"
          }
        }
      ]
    },
    {
      "cell_type": "markdown",
      "source": [
        "Total number of products in each category (index_group_name) and subcategory (index_name)\n",
        "(feature names are really confusing...)"
      ],
      "metadata": {
        "id": "Y4I4vSXAw4P0"
      }
    },
    {
      "cell_type": "code",
      "source": [
        "#@title\n",
        "articles.groupby(['index_group_name', 'index_name']).count()['article_id']"
      ],
      "metadata": {
        "colab": {
          "base_uri": "https://localhost:8080/"
        },
        "cellView": "form",
        "id": "RTTnQ0GglRcF",
        "outputId": "3e17d882-e3b2-404e-ee49-5b6a412b5a07"
      },
      "execution_count": null,
      "outputs": [
        {
          "output_type": "execute_result",
          "data": {
            "text/plain": [
              "index_group_name  index_name                    \n",
              "Baby/Children     Baby Sizes 50-98                   8875\n",
              "                  Children Accessories, Swimwear     4615\n",
              "                  Children Sizes 134-170             9214\n",
              "                  Children Sizes 92-140             12007\n",
              "Divided           Divided                           15149\n",
              "Ladieswear        Ladies Accessories                 6961\n",
              "                  Ladieswear                        26001\n",
              "                  Lingeries/Tights                   6775\n",
              "Menswear          Menswear                          12553\n",
              "Sport             Sport                              3392\n",
              "Name: article_id, dtype: int64"
            ]
          },
          "metadata": {},
          "execution_count": 95
        }
      ]
    },
    {
      "cell_type": "markdown",
      "source": [
        "Product counts in each category (product_group_name), equivalent of the second plot."
      ],
      "metadata": {
        "id": "3qaYVnxjxbjv"
      }
    },
    {
      "cell_type": "code",
      "source": [
        "#@title\n",
        "articles.groupby('product_group_name').count()['index_group_name']"
      ],
      "metadata": {
        "colab": {
          "base_uri": "https://localhost:8080/"
        },
        "cellView": "form",
        "id": "yz1eIEtGmPiZ",
        "outputId": "5acbb9fa-b4b3-4ff6-9974-796aab0a6286"
      },
      "execution_count": null,
      "outputs": [
        {
          "output_type": "execute_result",
          "data": {
            "text/plain": [
              "product_group_name\n",
              "Accessories              11158\n",
              "Bags                        25\n",
              "Cosmetic                    49\n",
              "Fun                          2\n",
              "Furniture                   13\n",
              "Garment Full body        13292\n",
              "Garment Lower body       19812\n",
              "Garment Upper body       42741\n",
              "Garment and Shoe care        9\n",
              "Interior textile             3\n",
              "Items                       17\n",
              "Nightwear                 1899\n",
              "Shoes                     5283\n",
              "Socks & Tights            2442\n",
              "Stationery                   5\n",
              "Swimwear                  3127\n",
              "Underwear                 5490\n",
              "Underwear/nightwear         54\n",
              "Unknown                    121\n",
              "Name: index_group_name, dtype: int64"
            ]
          },
          "metadata": {},
          "execution_count": 124
        }
      ]
    },
    {
      "cell_type": "code",
      "source": [
        "#@title\n",
        "print(\"Number of unique categories in index_group_name (ladieswear, menswear etc): \",articles['index_group_name'].nunique())\n",
        "print(\"Number of unique colours:\", articles['colour_group_name'].nunique())\n",
        "print(\"Number of unique product categories (shoes, accessories, underwear etc): \", articles[\"product_group_name\"].nunique())\n",
        "print(\"Number of unique product subcategory (boots - sneakers, bras - boxers etc): \", articles['product_type_name'].nunique())"
      ],
      "metadata": {
        "colab": {
          "base_uri": "https://localhost:8080/"
        },
        "cellView": "form",
        "id": "coXBJaRL2GjE",
        "outputId": "8bfc5f97-548a-4a57-f131-a8ad43e9174c"
      },
      "execution_count": null,
      "outputs": [
        {
          "output_type": "stream",
          "name": "stdout",
          "text": [
            "Number of unique categories in index_group_name (ladieswear, menswear etc):  5\n",
            "Number of unique colours: 50\n",
            "Number of unique product categories (shoes, accessories, underwear etc):  19\n",
            "Number of unique product subcategory (boots - sneakers, bras - boxers etc):  131\n"
          ]
        }
      ]
    },
    {
      "cell_type": "markdown",
      "source": [
        "## Customers Data"
      ],
      "metadata": {
        "id": "btX8-eSZ_3j2"
      }
    },
    {
      "cell_type": "code",
      "source": [
        "#@title {display-mode: \"form\"}\n",
        "print(\"The shape of the customers data is:\",customers.shape)"
      ],
      "metadata": {
        "colab": {
          "base_uri": "https://localhost:8080/"
        },
        "id": "ZgSysaH1AQG4",
        "outputId": "9a42d47a-dde0-43b5-a59b-a1cf2feab43f"
      },
      "execution_count": null,
      "outputs": [
        {
          "output_type": "stream",
          "name": "stdout",
          "text": [
            "The shape of the customers data is: (1371980, 7)\n"
          ]
        }
      ]
    },
    {
      "cell_type": "markdown",
      "source": [
        "Let's take a look at the data and see what the features are."
      ],
      "metadata": {
        "id": "DBDqSgOw9bSr"
      }
    },
    {
      "cell_type": "code",
      "source": [
        "#@title {display-mode: \"form\"}\n",
        "customers.head()"
      ],
      "metadata": {
        "colab": {
          "base_uri": "https://localhost:8080/",
          "height": 215
        },
        "id": "ZlqHUZ3nAHJY",
        "outputId": "86544239-3abc-447a-d93c-dcab891bd8e2"
      },
      "execution_count": null,
      "outputs": [
        {
          "output_type": "execute_result",
          "data": {
            "text/plain": [
              "                                         customer_id   FN  Active  \\\n",
              "0  00000dbacae5abe5e23885899a1fa44253a17956c6d1c3...  NaN     NaN   \n",
              "1  0000423b00ade91418cceaf3b26c6af3dd342b51fd051e...  NaN     NaN   \n",
              "2  000058a12d5b43e67d225668fa1f8d618c13dc232df0ca...  NaN     NaN   \n",
              "3  00005ca1c9ed5f5146b52ac8639a40ca9d57aeff4d1bd2...  NaN     NaN   \n",
              "4  00006413d8573cd20ed7128e53b7b13819fe5cfc2d801f...  1.0     1.0   \n",
              "\n",
              "  club_member_status fashion_news_frequency   age  \\\n",
              "0             ACTIVE                   NONE  49.0   \n",
              "1             ACTIVE                   NONE  25.0   \n",
              "2             ACTIVE                   NONE  24.0   \n",
              "3             ACTIVE                   NONE  54.0   \n",
              "4             ACTIVE              Regularly  52.0   \n",
              "\n",
              "                                         postal_code  \n",
              "0  52043ee2162cf5aa7ee79974281641c6f11a68d276429a...  \n",
              "1  2973abc54daa8a5f8ccfe9362140c63247c5eee03f1d93...  \n",
              "2  64f17e6a330a85798e4998f62d0930d14db8db1c054af6...  \n",
              "3  5d36574f52495e81f019b680c843c443bd343d5ca5b1c2...  \n",
              "4  25fa5ddee9aac01b35208d01736e57942317d756b32ddd...  "
            ],
            "text/html": [
              "\n",
              "  <div id=\"df-3bc5e227-14fe-4ce0-9618-631c29be67ff\">\n",
              "    <div class=\"colab-df-container\">\n",
              "      <div>\n",
              "<style scoped>\n",
              "    .dataframe tbody tr th:only-of-type {\n",
              "        vertical-align: middle;\n",
              "    }\n",
              "\n",
              "    .dataframe tbody tr th {\n",
              "        vertical-align: top;\n",
              "    }\n",
              "\n",
              "    .dataframe thead th {\n",
              "        text-align: right;\n",
              "    }\n",
              "</style>\n",
              "<table border=\"1\" class=\"dataframe\">\n",
              "  <thead>\n",
              "    <tr style=\"text-align: right;\">\n",
              "      <th></th>\n",
              "      <th>customer_id</th>\n",
              "      <th>FN</th>\n",
              "      <th>Active</th>\n",
              "      <th>club_member_status</th>\n",
              "      <th>fashion_news_frequency</th>\n",
              "      <th>age</th>\n",
              "      <th>postal_code</th>\n",
              "    </tr>\n",
              "  </thead>\n",
              "  <tbody>\n",
              "    <tr>\n",
              "      <th>0</th>\n",
              "      <td>00000dbacae5abe5e23885899a1fa44253a17956c6d1c3...</td>\n",
              "      <td>NaN</td>\n",
              "      <td>NaN</td>\n",
              "      <td>ACTIVE</td>\n",
              "      <td>NONE</td>\n",
              "      <td>49.0</td>\n",
              "      <td>52043ee2162cf5aa7ee79974281641c6f11a68d276429a...</td>\n",
              "    </tr>\n",
              "    <tr>\n",
              "      <th>1</th>\n",
              "      <td>0000423b00ade91418cceaf3b26c6af3dd342b51fd051e...</td>\n",
              "      <td>NaN</td>\n",
              "      <td>NaN</td>\n",
              "      <td>ACTIVE</td>\n",
              "      <td>NONE</td>\n",
              "      <td>25.0</td>\n",
              "      <td>2973abc54daa8a5f8ccfe9362140c63247c5eee03f1d93...</td>\n",
              "    </tr>\n",
              "    <tr>\n",
              "      <th>2</th>\n",
              "      <td>000058a12d5b43e67d225668fa1f8d618c13dc232df0ca...</td>\n",
              "      <td>NaN</td>\n",
              "      <td>NaN</td>\n",
              "      <td>ACTIVE</td>\n",
              "      <td>NONE</td>\n",
              "      <td>24.0</td>\n",
              "      <td>64f17e6a330a85798e4998f62d0930d14db8db1c054af6...</td>\n",
              "    </tr>\n",
              "    <tr>\n",
              "      <th>3</th>\n",
              "      <td>00005ca1c9ed5f5146b52ac8639a40ca9d57aeff4d1bd2...</td>\n",
              "      <td>NaN</td>\n",
              "      <td>NaN</td>\n",
              "      <td>ACTIVE</td>\n",
              "      <td>NONE</td>\n",
              "      <td>54.0</td>\n",
              "      <td>5d36574f52495e81f019b680c843c443bd343d5ca5b1c2...</td>\n",
              "    </tr>\n",
              "    <tr>\n",
              "      <th>4</th>\n",
              "      <td>00006413d8573cd20ed7128e53b7b13819fe5cfc2d801f...</td>\n",
              "      <td>1.0</td>\n",
              "      <td>1.0</td>\n",
              "      <td>ACTIVE</td>\n",
              "      <td>Regularly</td>\n",
              "      <td>52.0</td>\n",
              "      <td>25fa5ddee9aac01b35208d01736e57942317d756b32ddd...</td>\n",
              "    </tr>\n",
              "  </tbody>\n",
              "</table>\n",
              "</div>\n",
              "      <button class=\"colab-df-convert\" onclick=\"convertToInteractive('df-3bc5e227-14fe-4ce0-9618-631c29be67ff')\"\n",
              "              title=\"Convert this dataframe to an interactive table.\"\n",
              "              style=\"display:none;\">\n",
              "        \n",
              "  <svg xmlns=\"http://www.w3.org/2000/svg\" height=\"24px\"viewBox=\"0 0 24 24\"\n",
              "       width=\"24px\">\n",
              "    <path d=\"M0 0h24v24H0V0z\" fill=\"none\"/>\n",
              "    <path d=\"M18.56 5.44l.94 2.06.94-2.06 2.06-.94-2.06-.94-.94-2.06-.94 2.06-2.06.94zm-11 1L8.5 8.5l.94-2.06 2.06-.94-2.06-.94L8.5 2.5l-.94 2.06-2.06.94zm10 10l.94 2.06.94-2.06 2.06-.94-2.06-.94-.94-2.06-.94 2.06-2.06.94z\"/><path d=\"M17.41 7.96l-1.37-1.37c-.4-.4-.92-.59-1.43-.59-.52 0-1.04.2-1.43.59L10.3 9.45l-7.72 7.72c-.78.78-.78 2.05 0 2.83L4 21.41c.39.39.9.59 1.41.59.51 0 1.02-.2 1.41-.59l7.78-7.78 2.81-2.81c.8-.78.8-2.07 0-2.86zM5.41 20L4 18.59l7.72-7.72 1.47 1.35L5.41 20z\"/>\n",
              "  </svg>\n",
              "      </button>\n",
              "      \n",
              "  <style>\n",
              "    .colab-df-container {\n",
              "      display:flex;\n",
              "      flex-wrap:wrap;\n",
              "      gap: 12px;\n",
              "    }\n",
              "\n",
              "    .colab-df-convert {\n",
              "      background-color: #E8F0FE;\n",
              "      border: none;\n",
              "      border-radius: 50%;\n",
              "      cursor: pointer;\n",
              "      display: none;\n",
              "      fill: #1967D2;\n",
              "      height: 32px;\n",
              "      padding: 0 0 0 0;\n",
              "      width: 32px;\n",
              "    }\n",
              "\n",
              "    .colab-df-convert:hover {\n",
              "      background-color: #E2EBFA;\n",
              "      box-shadow: 0px 1px 2px rgba(60, 64, 67, 0.3), 0px 1px 3px 1px rgba(60, 64, 67, 0.15);\n",
              "      fill: #174EA6;\n",
              "    }\n",
              "\n",
              "    [theme=dark] .colab-df-convert {\n",
              "      background-color: #3B4455;\n",
              "      fill: #D2E3FC;\n",
              "    }\n",
              "\n",
              "    [theme=dark] .colab-df-convert:hover {\n",
              "      background-color: #434B5C;\n",
              "      box-shadow: 0px 1px 3px 1px rgba(0, 0, 0, 0.15);\n",
              "      filter: drop-shadow(0px 1px 2px rgba(0, 0, 0, 0.3));\n",
              "      fill: #FFFFFF;\n",
              "    }\n",
              "  </style>\n",
              "\n",
              "      <script>\n",
              "        const buttonEl =\n",
              "          document.querySelector('#df-3bc5e227-14fe-4ce0-9618-631c29be67ff button.colab-df-convert');\n",
              "        buttonEl.style.display =\n",
              "          google.colab.kernel.accessAllowed ? 'block' : 'none';\n",
              "\n",
              "        async function convertToInteractive(key) {\n",
              "          const element = document.querySelector('#df-3bc5e227-14fe-4ce0-9618-631c29be67ff');\n",
              "          const dataTable =\n",
              "            await google.colab.kernel.invokeFunction('convertToInteractive',\n",
              "                                                     [key], {});\n",
              "          if (!dataTable) return;\n",
              "\n",
              "          const docLinkHtml = 'Like what you see? Visit the ' +\n",
              "            '<a target=\"_blank\" href=https://colab.research.google.com/notebooks/data_table.ipynb>data table notebook</a>'\n",
              "            + ' to learn more about interactive tables.';\n",
              "          element.innerHTML = '';\n",
              "          dataTable['output_type'] = 'display_data';\n",
              "          await google.colab.output.renderOutput(dataTable, element);\n",
              "          const docLink = document.createElement('div');\n",
              "          docLink.innerHTML = docLinkHtml;\n",
              "          element.appendChild(docLink);\n",
              "        }\n",
              "      </script>\n",
              "    </div>\n",
              "  </div>\n",
              "  "
            ]
          },
          "metadata": {},
          "execution_count": 9
        }
      ]
    },
    {
      "cell_type": "markdown",
      "source": [
        "The customers data stores the customer id's, their membership informations for H&M and some personal information, customer metadata. Let's take a look.\n",
        "-  customer_id(int): The id of each customer in the database\n",
        "-  FN(categorical): ?\n",
        "-  Active(categorical): ?\n",
        "-  club_member_status(categorical): Whether the customer is using an h&m card actively?\n",
        "-  fashion_news_frequency(categorical): How frequently the customer is notified of new products, sales etc.? (regularly, monthly)\n",
        "-  age(int): The age of each customer\n",
        "-  postal_code(str): Postal code of each customer, can be duplicates"
      ],
      "metadata": {
        "id": "e-vjygidCkWC"
      }
    },
    {
      "cell_type": "code",
      "source": [
        "#@title {display-mode: \"form\"}\n",
        "customers.info()"
      ],
      "metadata": {
        "colab": {
          "base_uri": "https://localhost:8080/"
        },
        "id": "AP_Pa7eb_5Gb",
        "outputId": "9edf7ccd-870a-4d5e-ca67-df0b68369558"
      },
      "execution_count": null,
      "outputs": [
        {
          "output_type": "stream",
          "name": "stdout",
          "text": [
            "<class 'pandas.core.frame.DataFrame'>\n",
            "RangeIndex: 1371980 entries, 0 to 1371979\n",
            "Data columns (total 7 columns):\n",
            " #   Column                  Non-Null Count    Dtype  \n",
            "---  ------                  --------------    -----  \n",
            " 0   customer_id             1371980 non-null  object \n",
            " 1   FN                      476930 non-null   float64\n",
            " 2   Active                  464404 non-null   float64\n",
            " 3   club_member_status      1365918 non-null  object \n",
            " 4   fashion_news_frequency  1355971 non-null  object \n",
            " 5   age                     1356119 non-null  float64\n",
            " 6   postal_code             1371980 non-null  object \n",
            "dtypes: float64(3), object(4)\n",
            "memory usage: 73.3+ MB\n"
          ]
        }
      ]
    },
    {
      "cell_type": "markdown",
      "source": [
        "The row count we got from the shape and info is 1371980 so we can see from the info results, we've a lot of missing values in FN and Active columns, and also some missing values in columns 3, 4 and 5. Let's examine those and the unique values in those columns to better understand what they represent before we sum up the features.\n",
        "\n",
        "- Unique values in the 'fashion_news_frequency' column and their distributions are:"
      ],
      "metadata": {
        "id": "73g1ahK6ADIK"
      }
    },
    {
      "cell_type": "code",
      "source": [
        "#@title {display-mode: \"form\"}\n",
        "print(\"The entries in fashion_news_frequency and their distributions are:\\n\", customers['fashion_news_frequency'].value_counts(), \"\\n\")\n",
        "print(\"The number of null values in fashion_news_frequency are:\", customers['fashion_news_frequency'].isnull().sum(), \"\\n\")\n",
        "print(\"The null values make up \", \"{:.2f}\".format((customers['fashion_news_frequency'].isnull().sum()*100)/len(customers['fashion_news_frequency'])),\"%\\n\")\n",
        "#print(((customers['fashion_news_frequency'] == 'NONE').count()*100/len(customers['fashion_news_frequency'])) ,\"% of the customers do not get any notifications for sales or new products.\")\n",
        "print(\"{:.2f}\".format((877711*100)/1355971), \"% of the customers do not get any notifications for sales or new products.\")"
      ],
      "metadata": {
        "colab": {
          "base_uri": "https://localhost:8080/"
        },
        "id": "_w3rqWVRCESA",
        "outputId": "8ec91e73-0ed4-4631-f788-2cf418ecf781"
      },
      "execution_count": null,
      "outputs": [
        {
          "output_type": "stream",
          "name": "stdout",
          "text": [
            "The entries in fashion_news_frequency and their distributions are:\n",
            " NONE         877711\n",
            "Regularly    477416\n",
            "Monthly         842\n",
            "None              2\n",
            "Name: fashion_news_frequency, dtype: int64 \n",
            "\n",
            "The number of null values in fashion_news_frequency are: 16009 \n",
            "\n",
            "The null values make up  1.17 %\n",
            "\n",
            "64.73 % of the customers do not get any notifications for sales or new products.\n"
          ]
        }
      ]
    },
    {
      "cell_type": "code",
      "source": [
        "#@title {display-mode: \"form\"}\n",
        "customers[customers['fashion_news_frequency'] == 'NONE'].sum()"
      ],
      "metadata": {
        "id": "SXaoH_rfllWa"
      },
      "execution_count": null,
      "outputs": []
    },
    {
      "cell_type": "markdown",
      "source": [
        "There are 16k data points missing in this column but since the dataset is pretty large, that makes up of only 1.17% of the whole column and that's permissable. Let me just replace the 2 None values with NONE so that it is consistent."
      ],
      "metadata": {
        "id": "MGT6ZOutEfyI"
      }
    },
    {
      "cell_type": "code",
      "source": [
        "#@title {display-mode: \"form\"}\n",
        "customers['fashion_news_frequency'] = customers['fashion_news_frequency'].replace(['None'], 'NONE')\n",
        "print(\"The entries in fashion_news_frequency and their distributions are:\\n\", customers['fashion_news_frequency'].value_counts(), \"\\n\")"
      ],
      "metadata": {
        "id": "syKyxDyeUTdJ",
        "colab": {
          "base_uri": "https://localhost:8080/"
        },
        "outputId": "349a5411-8ab1-42ed-e496-4e71f3c3a4c4"
      },
      "execution_count": null,
      "outputs": [
        {
          "output_type": "stream",
          "name": "stdout",
          "text": [
            "The entries in fashion_news_frequency and their distributions are:\n",
            " NONE         877713\n",
            "Regularly    477416\n",
            "Monthly         842\n",
            "Name: fashion_news_frequency, dtype: int64 \n",
            "\n"
          ]
        }
      ]
    },
    {
      "cell_type": "markdown",
      "source": [
        "There we go.\n",
        "\n",
        "Let's now look at the worst features, FN and Active."
      ],
      "metadata": {
        "id": "p1ralf4NUmqV"
      }
    },
    {
      "cell_type": "code",
      "source": [
        "#@title {display-mode: \"form\"}\n",
        "print(\"The entries in FN and their distributions are:\\n\", customers['FN'].value_counts(), \"\\n\")\n",
        "print(\"The number of null values in FN are:\", customers['FN'].isnull().sum(), \"\\n\")\n",
        "print(\"The null values make up \", \"{:.2f}\".format((customers['FN'].isnull().sum()*100)/len(customers['FN'])),\"%\")"
      ],
      "metadata": {
        "colab": {
          "base_uri": "https://localhost:8080/"
        },
        "id": "4fEVwbyREsbE",
        "outputId": "4c89e6ce-5ad2-42aa-b311-2ed6bbd2ad46"
      },
      "execution_count": null,
      "outputs": [
        {
          "output_type": "stream",
          "name": "stdout",
          "text": [
            "The entries in FN and their distributions are:\n",
            " 1.0    476930\n",
            "Name: FN, dtype: int64 \n",
            "\n",
            "The number of null values in FN are: 895050 \n",
            "\n",
            "The null values make up  65.24 %\n"
          ]
        }
      ]
    },
    {
      "cell_type": "markdown",
      "source": [
        "More than half of the FN column is null and we don't know what the feature represents so it looks like a good idea to discard it."
      ],
      "metadata": {
        "id": "JEmbgD0xWLPK"
      }
    },
    {
      "cell_type": "code",
      "source": [
        "#@title {display-mode: \"form\"}\n",
        "print(\"The entries in Active and their distributions are:\\n\", customers['Active'].value_counts(), \"\\n\")\n",
        "print(\"The number of null values in Active are:\", customers['Active'].isnull().sum(), \"\\n\")\n",
        "print(\"The null values make up \", \"{:.2f}\".format((customers['Active'].isnull().sum()*100)/len(customers['Active'])),\"%\")"
      ],
      "metadata": {
        "colab": {
          "base_uri": "https://localhost:8080/"
        },
        "id": "ySuMVAF6FzUB",
        "outputId": "28ea4013-e8e4-48df-c574-c58f7ebb2ac0"
      },
      "execution_count": null,
      "outputs": [
        {
          "output_type": "stream",
          "name": "stdout",
          "text": [
            "The entries in Active and their distributions are:\n",
            " 1.0    464404\n",
            "Name: Active, dtype: int64 \n",
            "\n",
            "The number of null values in Active are: 907576 \n",
            "\n",
            "The null values make up  66.15 %\n"
          ]
        }
      ]
    },
    {
      "cell_type": "markdown",
      "source": [
        "Same with the Active column, 66.15% is null. I'd guess that this column represents that the customer is active(1.0) if they shop at h&m at some predetermined frequency but still having a column with 90k null values is not good."
      ],
      "metadata": {
        "id": "a4YAOtj3W8yI"
      }
    },
    {
      "cell_type": "markdown",
      "source": [
        "Let's see the age distribution and how many people did not register their age so that we can maybe impute the null values for this."
      ],
      "metadata": {
        "id": "dlO3o3GsXZ7s"
      }
    },
    {
      "cell_type": "code",
      "source": [
        "#@title {display-mode: \"form\"}\n",
        "print(\"The number of null values in age are:\", customers['age'].isnull().sum(), \"\\n\")\n",
        "print(\"The null values make up \", \"{:.2f}\".format((customers['age'].isnull().sum()*100)/len(customers['age'])),\"%\")"
      ],
      "metadata": {
        "colab": {
          "base_uri": "https://localhost:8080/"
        },
        "id": "FJOQDmm7XV1U",
        "outputId": "fb1a7a94-519c-4b4e-d539-331814def2a6"
      },
      "execution_count": null,
      "outputs": [
        {
          "output_type": "stream",
          "name": "stdout",
          "text": [
            "The number of null values in age are: 15861 \n",
            "\n",
            "The null values make up  1.16 %\n"
          ]
        }
      ]
    },
    {
      "cell_type": "code",
      "source": [
        "#@title {display-mode: \"form\"}\n",
        "age_plot = sns.displot(data=customers, x='age', aspect=2)\n",
        "age_plot.set_axis_labels('Ages', 'Count')\n",
        "plt.show()"
      ],
      "metadata": {
        "colab": {
          "base_uri": "https://localhost:8080/",
          "height": 369
        },
        "id": "VfSNasvEaXuW",
        "outputId": "eb6bac51-8ab6-44c5-ee40-8d3181f2aaaf"
      },
      "execution_count": null,
      "outputs": [
        {
          "output_type": "display_data",
          "data": {
            "text/plain": [
              "<Figure size 720x360 with 1 Axes>"
            ],
            "image/png": "[encoded data removed]"
          },
          "metadata": {
            "needs_background": "light"
          }
        }
      ]
    },
    {
      "cell_type": "markdown",
      "source": [
        "Most of the customers are between ages 20 and 30, a significant amount is between 45-55.Let's take a closer look into the age data, see some descriptive statistics and examine the outliers. We can replace the outliers with the mean or median value of the age column, depending on which one represents the age better. But we can also remove them if we want since the number of outliers is really low, probably < 1%."
      ],
      "metadata": {
        "id": "XCs9x4TQgQwE"
      }
    },
    {
      "cell_type": "markdown",
      "source": [
        "Let's bin the age values and see how they're grouped"
      ],
      "metadata": {
        "id": "jwueOwsQDdht"
      }
    },
    {
      "cell_type": "code",
      "source": [
        "#@title {display-mode: \"form\"}\n",
        "print(\"Range Of Ages    Count\\n\")\n",
        "customers['age'].value_counts(bins=10, ascending=False)"
      ],
      "metadata": {
        "colab": {
          "base_uri": "https://localhost:8080/"
        },
        "id": "gmQVzt5TjPN7",
        "outputId": "7dc76930-b9de-486d-e6e7-9a4720bf2624"
      },
      "execution_count": null,
      "outputs": [
        {
          "output_type": "stream",
          "name": "stdout",
          "text": [
            "Range Of Ages    Count\n",
            "\n"
          ]
        },
        {
          "output_type": "execute_result",
          "data": {
            "text/plain": [
              "(15.916, 24.3]    357169\n",
              "(24.3, 32.6]      346715\n",
              "(49.2, 57.5]      196469\n",
              "(40.9, 49.2]      187960\n",
              "(32.6, 40.9]      146283\n",
              "(57.5, 65.8]       83956\n",
              "(65.8, 74.1]       31583\n",
              "(74.1, 82.4]        5388\n",
              "(82.4, 90.7]         519\n",
              "(90.7, 99.0]          77\n",
              "Name: age, dtype: int64"
            ]
          },
          "metadata": {},
          "execution_count": 26
        }
      ]
    },
    {
      "cell_type": "code",
      "source": [
        "#@title {display-mode: \"form\"}\n",
        "print(\"{:.2f}\".format((703884*100)/1356119), \"% of the customers are between the ages of 15.9 and 32.6\")"
      ],
      "metadata": {
        "colab": {
          "base_uri": "https://localhost:8080/"
        },
        "id": "X0pnsYsVHe6a",
        "outputId": "daa298e5-6040-4dc0-c91e-60ea1d2519ac"
      },
      "execution_count": null,
      "outputs": [
        {
          "output_type": "stream",
          "name": "stdout",
          "text": [
            "51.90 % of the customers are between the ages of 15.9 and 32.6\n"
          ]
        }
      ]
    },
    {
      "cell_type": "markdown",
      "source": [
        "The results of the describe function for the age column are a bit ugly so let's do some of them manually."
      ],
      "metadata": {
        "id": "46bmC5y-JtY2"
      }
    },
    {
      "cell_type": "code",
      "source": [
        "#@title {display-mode: \"form\"}\n",
        "print(\"Mean age value:\", customers['age'].mean())\n",
        "print(\"The median age value is:\", customers['age'].median())\n",
        "print(\"Standard deviation of age:\", customers['age'].std())"
      ],
      "metadata": {
        "colab": {
          "base_uri": "https://localhost:8080/"
        },
        "id": "D5hTNsX0J_6g",
        "outputId": "768fe894-654f-4e02-d08b-cb460c038b17"
      },
      "execution_count": null,
      "outputs": [
        {
          "output_type": "stream",
          "name": "stdout",
          "text": [
            "Mean age value: 36.386964565794\n",
            "The median age value is: 32.0\n",
            "Standard deviation of age: 14.313627981635868\n"
          ]
        }
      ]
    },
    {
      "cell_type": "markdown",
      "source": [
        "Now let's plot a boxplot for age."
      ],
      "metadata": {
        "id": "BOn8U5ZtHdJt"
      }
    },
    {
      "cell_type": "code",
      "source": [
        "#@title {display-mode: \"form\"}\n",
        "sns.boxplot(data=customers, x='age')"
      ],
      "metadata": {
        "colab": {
          "base_uri": "https://localhost:8080/",
          "height": 296
        },
        "id": "240_fmc4FD_E",
        "outputId": "8ba741c9-4ff8-412f-c759-ae002020db08"
      },
      "execution_count": null,
      "outputs": [
        {
          "output_type": "execute_result",
          "data": {
            "text/plain": [
              "<matplotlib.axes._subplots.AxesSubplot at 0x7fea823fa410>"
            ]
          },
          "metadata": {},
          "execution_count": 51
        },
        {
          "output_type": "display_data",
          "data": {
            "text/plain": [
              "<Figure size 432x288 with 1 Axes>"
            ],
            "image/png": "[encoded data removed]"
          },
          "metadata": {
            "needs_background": "light"
          }
        }
      ]
    },
    {
      "cell_type": "markdown",
      "source": [
        "There are outliers past the age 85 up to 100 and we can probably remove them, let's check how many there are first."
      ],
      "metadata": {
        "id": "Dbk2Q7uYXp3U"
      }
    },
    {
      "cell_type": "code",
      "source": [
        "customers[customers['age'] > 85].count()"
      ],
      "metadata": {
        "colab": {
          "base_uri": "https://localhost:8080/"
        },
        "id": "LgKm8ELQX6dy",
        "outputId": "1b245ee3-a599-4e29-ef61-c587e3401ec4"
      },
      "execution_count": null,
      "outputs": [
        {
          "output_type": "execute_result",
          "data": {
            "text/plain": [
              "customer_id               264\n",
              "FN                         75\n",
              "Active                     67\n",
              "club_member_status        261\n",
              "fashion_news_frequency    260\n",
              "age                       264\n",
              "postal_code               264\n",
              "dtype: int64"
            ]
          },
          "metadata": {},
          "execution_count": 11
        }
      ]
    },
    {
      "cell_type": "code",
      "source": [
        "customers['customer_id'].nunique()"
      ],
      "metadata": {
        "colab": {
          "base_uri": "https://localhost:8080/"
        },
        "id": "SsAHTYjrZFwQ",
        "outputId": "4d7bedea-53fb-401a-c7c5-121b81ee99b5"
      },
      "execution_count": null,
      "outputs": [
        {
          "output_type": "execute_result",
          "data": {
            "text/plain": [
              "1371980"
            ]
          },
          "metadata": {},
          "execution_count": 15
        }
      ]
    },
    {
      "cell_type": "markdown",
      "source": [
        "Since each customer_id is unique in the dataset and the age filter returned 264 customer_id's, we can say that there are 264 rows with age > 85 so 264 outliers which is 0.02% of the whole dataset."
      ],
      "metadata": {
        "id": "t62We9h5ZfeX"
      }
    },
    {
      "cell_type": "code",
      "source": [
        "customers.drop(customers[customers['age'] > 85].index, inplace=True)"
      ],
      "metadata": {
        "id": "AfLtzYkDchJe"
      },
      "execution_count": null,
      "outputs": []
    },
    {
      "cell_type": "code",
      "source": [
        "customers[customers['age'] > 85]"
      ],
      "metadata": {
        "colab": {
          "base_uri": "https://localhost:8080/",
          "height": 49
        },
        "id": "sSsCl9b3er9q",
        "outputId": "056ec221-7e95-4712-d94d-10b85ae0231a"
      },
      "execution_count": null,
      "outputs": [
        {
          "output_type": "execute_result",
          "data": {
            "text/plain": [
              "Empty DataFrame\n",
              "Columns: [customer_id, FN, Active, club_member_status, fashion_news_frequency, age, postal_code]\n",
              "Index: []"
            ],
            "text/html": [
              "\n",
              "  <div id=\"df-ef93f18f-c501-4564-a3a6-03a8208a6269\">\n",
              "    <div class=\"colab-df-container\">\n",
              "      <div>\n",
              "<style scoped>\n",
              "    .dataframe tbody tr th:only-of-type {\n",
              "        vertical-align: middle;\n",
              "    }\n",
              "\n",
              "    .dataframe tbody tr th {\n",
              "        vertical-align: top;\n",
              "    }\n",
              "\n",
              "    .dataframe thead th {\n",
              "        text-align: right;\n",
              "    }\n",
              "</style>\n",
              "<table border=\"1\" class=\"dataframe\">\n",
              "  <thead>\n",
              "    <tr style=\"text-align: right;\">\n",
              "      <th></th>\n",
              "      <th>customer_id</th>\n",
              "      <th>FN</th>\n",
              "      <th>Active</th>\n",
              "      <th>club_member_status</th>\n",
              "      <th>fashion_news_frequency</th>\n",
              "      <th>age</th>\n",
              "      <th>postal_code</th>\n",
              "    </tr>\n",
              "  </thead>\n",
              "  <tbody>\n",
              "  </tbody>\n",
              "</table>\n",
              "</div>\n",
              "      <button class=\"colab-df-convert\" onclick=\"convertToInteractive('df-ef93f18f-c501-4564-a3a6-03a8208a6269')\"\n",
              "              title=\"Convert this dataframe to an interactive table.\"\n",
              "              style=\"display:none;\">\n",
              "        \n",
              "  <svg xmlns=\"http://www.w3.org/2000/svg\" height=\"24px\"viewBox=\"0 0 24 24\"\n",
              "       width=\"24px\">\n",
              "    <path d=\"M0 0h24v24H0V0z\" fill=\"none\"/>\n",
              "    <path d=\"M18.56 5.44l.94 2.06.94-2.06 2.06-.94-2.06-.94-.94-2.06-.94 2.06-2.06.94zm-11 1L8.5 8.5l.94-2.06 2.06-.94-2.06-.94L8.5 2.5l-.94 2.06-2.06.94zm10 10l.94 2.06.94-2.06 2.06-.94-2.06-.94-.94-2.06-.94 2.06-2.06.94z\"/><path d=\"M17.41 7.96l-1.37-1.37c-.4-.4-.92-.59-1.43-.59-.52 0-1.04.2-1.43.59L10.3 9.45l-7.72 7.72c-.78.78-.78 2.05 0 2.83L4 21.41c.39.39.9.59 1.41.59.51 0 1.02-.2 1.41-.59l7.78-7.78 2.81-2.81c.8-.78.8-2.07 0-2.86zM5.41 20L4 18.59l7.72-7.72 1.47 1.35L5.41 20z\"/>\n",
              "  </svg>\n",
              "      </button>\n",
              "      \n",
              "  <style>\n",
              "    .colab-df-container {\n",
              "      display:flex;\n",
              "      flex-wrap:wrap;\n",
              "      gap: 12px;\n",
              "    }\n",
              "\n",
              "    .colab-df-convert {\n",
              "      background-color: #E8F0FE;\n",
              "      border: none;\n",
              "      border-radius: 50%;\n",
              "      cursor: pointer;\n",
              "      display: none;\n",
              "      fill: #1967D2;\n",
              "      height: 32px;\n",
              "      padding: 0 0 0 0;\n",
              "      width: 32px;\n",
              "    }\n",
              "\n",
              "    .colab-df-convert:hover {\n",
              "      background-color: #E2EBFA;\n",
              "      box-shadow: 0px 1px 2px rgba(60, 64, 67, 0.3), 0px 1px 3px 1px rgba(60, 64, 67, 0.15);\n",
              "      fill: #174EA6;\n",
              "    }\n",
              "\n",
              "    [theme=dark] .colab-df-convert {\n",
              "      background-color: #3B4455;\n",
              "      fill: #D2E3FC;\n",
              "    }\n",
              "\n",
              "    [theme=dark] .colab-df-convert:hover {\n",
              "      background-color: #434B5C;\n",
              "      box-shadow: 0px 1px 3px 1px rgba(0, 0, 0, 0.15);\n",
              "      filter: drop-shadow(0px 1px 2px rgba(0, 0, 0, 0.3));\n",
              "      fill: #FFFFFF;\n",
              "    }\n",
              "  </style>\n",
              "\n",
              "      <script>\n",
              "        const buttonEl =\n",
              "          document.querySelector('#df-ef93f18f-c501-4564-a3a6-03a8208a6269 button.colab-df-convert');\n",
              "        buttonEl.style.display =\n",
              "          google.colab.kernel.accessAllowed ? 'block' : 'none';\n",
              "\n",
              "        async function convertToInteractive(key) {\n",
              "          const element = document.querySelector('#df-ef93f18f-c501-4564-a3a6-03a8208a6269');\n",
              "          const dataTable =\n",
              "            await google.colab.kernel.invokeFunction('convertToInteractive',\n",
              "                                                     [key], {});\n",
              "          if (!dataTable) return;\n",
              "\n",
              "          const docLinkHtml = 'Like what you see? Visit the ' +\n",
              "            '<a target=\"_blank\" href=https://colab.research.google.com/notebooks/data_table.ipynb>data table notebook</a>'\n",
              "            + ' to learn more about interactive tables.';\n",
              "          element.innerHTML = '';\n",
              "          dataTable['output_type'] = 'display_data';\n",
              "          await google.colab.output.renderOutput(dataTable, element);\n",
              "          const docLink = document.createElement('div');\n",
              "          docLink.innerHTML = docLinkHtml;\n",
              "          element.appendChild(docLink);\n",
              "        }\n",
              "      </script>\n",
              "    </div>\n",
              "  </div>\n",
              "  "
            ]
          },
          "metadata": {},
          "execution_count": 29
        }
      ]
    },
    {
      "cell_type": "markdown",
      "source": [
        "Done and done. Now we don't get anything when we apply the >85 filter to the age column. That is because we set the inplace parameter to True, which does whatever change we are doing over the original dataframe and does not return a copy of it."
      ],
      "metadata": {
        "id": "dwnFeaKSeyHF"
      }
    },
    {
      "cell_type": "markdown",
      "source": [
        "Of course my evaluation here about the outliers is just based on my examination of the boxplot, preferably we should've calculated the interquartile range and did a more thorough analysis before coming to a decision."
      ],
      "metadata": {
        "id": "UPPPw6A3fL5L"
      }
    },
    {
      "cell_type": "code",
      "source": [
        "#@title {display-mode: \"form\"}\n",
        "customers.groupby('age', as_index=False).count()"
      ],
      "metadata": {
        "colab": {
          "base_uri": "https://localhost:8080/",
          "height": 419
        },
        "id": "opPEF3WUj-3S",
        "outputId": "c43458a2-425f-4d95-9f32-d7eddd50abd7"
      },
      "execution_count": null,
      "outputs": [
        {
          "output_type": "execute_result",
          "data": {
            "text/plain": [
              "     age  customer_id     FN  Active  club_member_status  \\\n",
              "0   16.0          161     74      73                 159   \n",
              "1   17.0         9392   2981    2924                9379   \n",
              "2   18.0        24323   8105    7860               24295   \n",
              "3   19.0        37707  15070   14515               37627   \n",
              "4   20.0        55196  21915   21091               55050   \n",
              "..   ...          ...    ...     ...                 ...   \n",
              "65  81.0          298    129     122                 297   \n",
              "66  82.0          218     86      82                 217   \n",
              "67  83.0          124     50      49                 124   \n",
              "68  84.0          113     42      40                 112   \n",
              "69  85.0           95     27      27                  95   \n",
              "\n",
              "    fashion_news_frequency  postal_code  \n",
              "0                      161          161  \n",
              "1                     9367         9392  \n",
              "2                    23930        24323  \n",
              "3                    37380        37707  \n",
              "4                    54701        55196  \n",
              "..                     ...          ...  \n",
              "65                     296          298  \n",
              "66                     215          218  \n",
              "67                     120          124  \n",
              "68                     112          113  \n",
              "69                      93           95  \n",
              "\n",
              "[70 rows x 7 columns]"
            ],
            "text/html": [
              "\n",
              "  <div id=\"df-73842093-faa8-44c0-a082-8f386eb2521b\">\n",
              "    <div class=\"colab-df-container\">\n",
              "      <div>\n",
              "<style scoped>\n",
              "    .dataframe tbody tr th:only-of-type {\n",
              "        vertical-align: middle;\n",
              "    }\n",
              "\n",
              "    .dataframe tbody tr th {\n",
              "        vertical-align: top;\n",
              "    }\n",
              "\n",
              "    .dataframe thead th {\n",
              "        text-align: right;\n",
              "    }\n",
              "</style>\n",
              "<table border=\"1\" class=\"dataframe\">\n",
              "  <thead>\n",
              "    <tr style=\"text-align: right;\">\n",
              "      <th></th>\n",
              "      <th>age</th>\n",
              "      <th>customer_id</th>\n",
              "      <th>FN</th>\n",
              "      <th>Active</th>\n",
              "      <th>club_member_status</th>\n",
              "      <th>fashion_news_frequency</th>\n",
              "      <th>postal_code</th>\n",
              "    </tr>\n",
              "  </thead>\n",
              "  <tbody>\n",
              "    <tr>\n",
              "      <th>0</th>\n",
              "      <td>16.0</td>\n",
              "      <td>161</td>\n",
              "      <td>74</td>\n",
              "      <td>73</td>\n",
              "      <td>159</td>\n",
              "      <td>161</td>\n",
              "      <td>161</td>\n",
              "    </tr>\n",
              "    <tr>\n",
              "      <th>1</th>\n",
              "      <td>17.0</td>\n",
              "      <td>9392</td>\n",
              "      <td>2981</td>\n",
              "      <td>2924</td>\n",
              "      <td>9379</td>\n",
              "      <td>9367</td>\n",
              "      <td>9392</td>\n",
              "    </tr>\n",
              "    <tr>\n",
              "      <th>2</th>\n",
              "      <td>18.0</td>\n",
              "      <td>24323</td>\n",
              "      <td>8105</td>\n",
              "      <td>7860</td>\n",
              "      <td>24295</td>\n",
              "      <td>23930</td>\n",
              "      <td>24323</td>\n",
              "    </tr>\n",
              "    <tr>\n",
              "      <th>3</th>\n",
              "      <td>19.0</td>\n",
              "      <td>37707</td>\n",
              "      <td>15070</td>\n",
              "      <td>14515</td>\n",
              "      <td>37627</td>\n",
              "      <td>37380</td>\n",
              "      <td>37707</td>\n",
              "    </tr>\n",
              "    <tr>\n",
              "      <th>4</th>\n",
              "      <td>20.0</td>\n",
              "      <td>55196</td>\n",
              "      <td>21915</td>\n",
              "      <td>21091</td>\n",
              "      <td>55050</td>\n",
              "      <td>54701</td>\n",
              "      <td>55196</td>\n",
              "    </tr>\n",
              "    <tr>\n",
              "      <th>...</th>\n",
              "      <td>...</td>\n",
              "      <td>...</td>\n",
              "      <td>...</td>\n",
              "      <td>...</td>\n",
              "      <td>...</td>\n",
              "      <td>...</td>\n",
              "      <td>...</td>\n",
              "    </tr>\n",
              "    <tr>\n",
              "      <th>65</th>\n",
              "      <td>81.0</td>\n",
              "      <td>298</td>\n",
              "      <td>129</td>\n",
              "      <td>122</td>\n",
              "      <td>297</td>\n",
              "      <td>296</td>\n",
              "      <td>298</td>\n",
              "    </tr>\n",
              "    <tr>\n",
              "      <th>66</th>\n",
              "      <td>82.0</td>\n",
              "      <td>218</td>\n",
              "      <td>86</td>\n",
              "      <td>82</td>\n",
              "      <td>217</td>\n",
              "      <td>215</td>\n",
              "      <td>218</td>\n",
              "    </tr>\n",
              "    <tr>\n",
              "      <th>67</th>\n",
              "      <td>83.0</td>\n",
              "      <td>124</td>\n",
              "      <td>50</td>\n",
              "      <td>49</td>\n",
              "      <td>124</td>\n",
              "      <td>120</td>\n",
              "      <td>124</td>\n",
              "    </tr>\n",
              "    <tr>\n",
              "      <th>68</th>\n",
              "      <td>84.0</td>\n",
              "      <td>113</td>\n",
              "      <td>42</td>\n",
              "      <td>40</td>\n",
              "      <td>112</td>\n",
              "      <td>112</td>\n",
              "      <td>113</td>\n",
              "    </tr>\n",
              "    <tr>\n",
              "      <th>69</th>\n",
              "      <td>85.0</td>\n",
              "      <td>95</td>\n",
              "      <td>27</td>\n",
              "      <td>27</td>\n",
              "      <td>95</td>\n",
              "      <td>93</td>\n",
              "      <td>95</td>\n",
              "    </tr>\n",
              "  </tbody>\n",
              "</table>\n",
              "<p>70 rows × 7 columns</p>\n",
              "</div>\n",
              "      <button class=\"colab-df-convert\" onclick=\"convertToInteractive('df-73842093-faa8-44c0-a082-8f386eb2521b')\"\n",
              "              title=\"Convert this dataframe to an interactive table.\"\n",
              "              style=\"display:none;\">\n",
              "        \n",
              "  <svg xmlns=\"http://www.w3.org/2000/svg\" height=\"24px\"viewBox=\"0 0 24 24\"\n",
              "       width=\"24px\">\n",
              "    <path d=\"M0 0h24v24H0V0z\" fill=\"none\"/>\n",
              "    <path d=\"M18.56 5.44l.94 2.06.94-2.06 2.06-.94-2.06-.94-.94-2.06-.94 2.06-2.06.94zm-11 1L8.5 8.5l.94-2.06 2.06-.94-2.06-.94L8.5 2.5l-.94 2.06-2.06.94zm10 10l.94 2.06.94-2.06 2.06-.94-2.06-.94-.94-2.06-.94 2.06-2.06.94z\"/><path d=\"M17.41 7.96l-1.37-1.37c-.4-.4-.92-.59-1.43-.59-.52 0-1.04.2-1.43.59L10.3 9.45l-7.72 7.72c-.78.78-.78 2.05 0 2.83L4 21.41c.39.39.9.59 1.41.59.51 0 1.02-.2 1.41-.59l7.78-7.78 2.81-2.81c.8-.78.8-2.07 0-2.86zM5.41 20L4 18.59l7.72-7.72 1.47 1.35L5.41 20z\"/>\n",
              "  </svg>\n",
              "      </button>\n",
              "      \n",
              "  <style>\n",
              "    .colab-df-container {\n",
              "      display:flex;\n",
              "      flex-wrap:wrap;\n",
              "      gap: 12px;\n",
              "    }\n",
              "\n",
              "    .colab-df-convert {\n",
              "      background-color: #E8F0FE;\n",
              "      border: none;\n",
              "      border-radius: 50%;\n",
              "      cursor: pointer;\n",
              "      display: none;\n",
              "      fill: #1967D2;\n",
              "      height: 32px;\n",
              "      padding: 0 0 0 0;\n",
              "      width: 32px;\n",
              "    }\n",
              "\n",
              "    .colab-df-convert:hover {\n",
              "      background-color: #E2EBFA;\n",
              "      box-shadow: 0px 1px 2px rgba(60, 64, 67, 0.3), 0px 1px 3px 1px rgba(60, 64, 67, 0.15);\n",
              "      fill: #174EA6;\n",
              "    }\n",
              "\n",
              "    [theme=dark] .colab-df-convert {\n",
              "      background-color: #3B4455;\n",
              "      fill: #D2E3FC;\n",
              "    }\n",
              "\n",
              "    [theme=dark] .colab-df-convert:hover {\n",
              "      background-color: #434B5C;\n",
              "      box-shadow: 0px 1px 3px 1px rgba(0, 0, 0, 0.15);\n",
              "      filter: drop-shadow(0px 1px 2px rgba(0, 0, 0, 0.3));\n",
              "      fill: #FFFFFF;\n",
              "    }\n",
              "  </style>\n",
              "\n",
              "      <script>\n",
              "        const buttonEl =\n",
              "          document.querySelector('#df-73842093-faa8-44c0-a082-8f386eb2521b button.colab-df-convert');\n",
              "        buttonEl.style.display =\n",
              "          google.colab.kernel.accessAllowed ? 'block' : 'none';\n",
              "\n",
              "        async function convertToInteractive(key) {\n",
              "          const element = document.querySelector('#df-73842093-faa8-44c0-a082-8f386eb2521b');\n",
              "          const dataTable =\n",
              "            await google.colab.kernel.invokeFunction('convertToInteractive',\n",
              "                                                     [key], {});\n",
              "          if (!dataTable) return;\n",
              "\n",
              "          const docLinkHtml = 'Like what you see? Visit the ' +\n",
              "            '<a target=\"_blank\" href=https://colab.research.google.com/notebooks/data_table.ipynb>data table notebook</a>'\n",
              "            + ' to learn more about interactive tables.';\n",
              "          element.innerHTML = '';\n",
              "          dataTable['output_type'] = 'display_data';\n",
              "          await google.colab.output.renderOutput(dataTable, element);\n",
              "          const docLink = document.createElement('div');\n",
              "          docLink.innerHTML = docLinkHtml;\n",
              "          element.appendChild(docLink);\n",
              "        }\n",
              "      </script>\n",
              "    </div>\n",
              "  </div>\n",
              "  "
            ]
          },
          "metadata": {},
          "execution_count": 30
        }
      ]
    },
    {
      "cell_type": "markdown",
      "source": [
        "Let's move on to the postal codes now."
      ],
      "metadata": {
        "id": "xdiErNgRiw76"
      }
    },
    {
      "cell_type": "code",
      "source": [
        "customers['postal_code'].nunique()"
      ],
      "metadata": {
        "colab": {
          "base_uri": "https://localhost:8080/"
        },
        "id": "Qj-bb3hhhmLD",
        "outputId": "3d8271e4-d73b-4fa4-e82e-d0baa8bdec2d"
      },
      "execution_count": null,
      "outputs": [
        {
          "output_type": "execute_result",
          "data": {
            "text/plain": [
              "352856"
            ]
          },
          "metadata": {},
          "execution_count": 33
        }
      ]
    },
    {
      "cell_type": "markdown",
      "source": [
        "352856 unique postal codes. Let's also check the customers distribution for each of them by grouping the rows by postal_code and counting the customer_id's since they are all unique."
      ],
      "metadata": {
        "id": "Mhnc2EGEhzCY"
      }
    },
    {
      "cell_type": "code",
      "source": [
        "#@title {display-mode: \"form\"}\n",
        "customers.groupby('postal_code', as_index=True).count().sort_values('customer_id', ascending=False)"
      ],
      "metadata": {
        "colab": {
          "base_uri": "https://localhost:8080/",
          "height": 450
        },
        "id": "S1TBSj0ze738",
        "outputId": "326be5f4-345f-48de-a39c-75150cc3586c"
      },
      "execution_count": null,
      "outputs": [
        {
          "output_type": "execute_result",
          "data": {
            "text/plain": [
              "                                                    customer_id     FN  \\\n",
              "postal_code                                                              \n",
              "2c29ae653a9282cce4151bd87643c907644e09541abc28a...       120255  42854   \n",
              "cc4ed85e30f4977dae47662ddc468cd2eec11472de6fac5...          261    109   \n",
              "714976379549eb90aae4a71bca6c7402cc646ae7c40f6c1...          159     90   \n",
              "7c1fa3b0ec1d37ce2c3f34f63bd792f3b4494f324b6be5d...          157     55   \n",
              "5b7eb31eabebd3277de632b82267286d847fd5d44287ee1...          156     42   \n",
              "...                                                         ...    ...   \n",
              "881061848febc0ed07abec4002622bc86159c9c454e24a9...            1      0   \n",
              "881060db7f12243d490fee451bd9f97f3e25b99ae2b4780...            1      1   \n",
              "880f38c05ecb753e71f474a6394775192884cc57f35f1a0...            1      0   \n",
              "880b20a1bd89809c7d753b3cc3eede006c51d4f08e3cef6...            1      0   \n",
              "7fffad4930b7cc5f93c717ece9b8cc9eebb28132d1dbf54...            1      0   \n",
              "\n",
              "                                                    Active  \\\n",
              "postal_code                                                  \n",
              "2c29ae653a9282cce4151bd87643c907644e09541abc28a...   39869   \n",
              "cc4ed85e30f4977dae47662ddc468cd2eec11472de6fac5...     104   \n",
              "714976379549eb90aae4a71bca6c7402cc646ae7c40f6c1...      88   \n",
              "7c1fa3b0ec1d37ce2c3f34f63bd792f3b4494f324b6be5d...      54   \n",
              "5b7eb31eabebd3277de632b82267286d847fd5d44287ee1...      41   \n",
              "...                                                    ...   \n",
              "881061848febc0ed07abec4002622bc86159c9c454e24a9...       0   \n",
              "881060db7f12243d490fee451bd9f97f3e25b99ae2b4780...       1   \n",
              "880f38c05ecb753e71f474a6394775192884cc57f35f1a0...       0   \n",
              "880b20a1bd89809c7d753b3cc3eede006c51d4f08e3cef6...       0   \n",
              "7fffad4930b7cc5f93c717ece9b8cc9eebb28132d1dbf54...       0   \n",
              "\n",
              "                                                    club_member_status  \\\n",
              "postal_code                                                              \n",
              "2c29ae653a9282cce4151bd87643c907644e09541abc28a...              118233   \n",
              "cc4ed85e30f4977dae47662ddc468cd2eec11472de6fac5...                 261   \n",
              "714976379549eb90aae4a71bca6c7402cc646ae7c40f6c1...                 159   \n",
              "7c1fa3b0ec1d37ce2c3f34f63bd792f3b4494f324b6be5d...                 157   \n",
              "5b7eb31eabebd3277de632b82267286d847fd5d44287ee1...                 156   \n",
              "...                                                                ...   \n",
              "881061848febc0ed07abec4002622bc86159c9c454e24a9...                   1   \n",
              "881060db7f12243d490fee451bd9f97f3e25b99ae2b4780...                   1   \n",
              "880f38c05ecb753e71f474a6394775192884cc57f35f1a0...                   1   \n",
              "880b20a1bd89809c7d753b3cc3eede006c51d4f08e3cef6...                   1   \n",
              "7fffad4930b7cc5f93c717ece9b8cc9eebb28132d1dbf54...                   1   \n",
              "\n",
              "                                                    fashion_news_frequency  \\\n",
              "postal_code                                                                  \n",
              "2c29ae653a9282cce4151bd87643c907644e09541abc28a...                  114330   \n",
              "cc4ed85e30f4977dae47662ddc468cd2eec11472de6fac5...                     261   \n",
              "714976379549eb90aae4a71bca6c7402cc646ae7c40f6c1...                     159   \n",
              "7c1fa3b0ec1d37ce2c3f34f63bd792f3b4494f324b6be5d...                     156   \n",
              "5b7eb31eabebd3277de632b82267286d847fd5d44287ee1...                     156   \n",
              "...                                                                    ...   \n",
              "881061848febc0ed07abec4002622bc86159c9c454e24a9...                       1   \n",
              "881060db7f12243d490fee451bd9f97f3e25b99ae2b4780...                       1   \n",
              "880f38c05ecb753e71f474a6394775192884cc57f35f1a0...                       1   \n",
              "880b20a1bd89809c7d753b3cc3eede006c51d4f08e3cef6...                       1   \n",
              "7fffad4930b7cc5f93c717ece9b8cc9eebb28132d1dbf54...                       1   \n",
              "\n",
              "                                                       age  \n",
              "postal_code                                                 \n",
              "2c29ae653a9282cce4151bd87643c907644e09541abc28a...  117954  \n",
              "cc4ed85e30f4977dae47662ddc468cd2eec11472de6fac5...     260  \n",
              "714976379549eb90aae4a71bca6c7402cc646ae7c40f6c1...     158  \n",
              "7c1fa3b0ec1d37ce2c3f34f63bd792f3b4494f324b6be5d...     156  \n",
              "5b7eb31eabebd3277de632b82267286d847fd5d44287ee1...     155  \n",
              "...                                                    ...  \n",
              "881061848febc0ed07abec4002622bc86159c9c454e24a9...       1  \n",
              "881060db7f12243d490fee451bd9f97f3e25b99ae2b4780...       1  \n",
              "880f38c05ecb753e71f474a6394775192884cc57f35f1a0...       1  \n",
              "880b20a1bd89809c7d753b3cc3eede006c51d4f08e3cef6...       1  \n",
              "7fffad4930b7cc5f93c717ece9b8cc9eebb28132d1dbf54...       1  \n",
              "\n",
              "[352856 rows x 6 columns]"
            ],
            "text/html": [
              "\n",
              "  <div id=\"df-bdb4f2e4-1013-469b-b8db-cbc141ec8446\">\n",
              "    <div class=\"colab-df-container\">\n",
              "      <div>\n",
              "<style scoped>\n",
              "    .dataframe tbody tr th:only-of-type {\n",
              "        vertical-align: middle;\n",
              "    }\n",
              "\n",
              "    .dataframe tbody tr th {\n",
              "        vertical-align: top;\n",
              "    }\n",
              "\n",
              "    .dataframe thead th {\n",
              "        text-align: right;\n",
              "    }\n",
              "</style>\n",
              "<table border=\"1\" class=\"dataframe\">\n",
              "  <thead>\n",
              "    <tr style=\"text-align: right;\">\n",
              "      <th></th>\n",
              "      <th>customer_id</th>\n",
              "      <th>FN</th>\n",
              "      <th>Active</th>\n",
              "      <th>club_member_status</th>\n",
              "      <th>fashion_news_frequency</th>\n",
              "      <th>age</th>\n",
              "    </tr>\n",
              "    <tr>\n",
              "      <th>postal_code</th>\n",
              "      <th></th>\n",
              "      <th></th>\n",
              "      <th></th>\n",
              "      <th></th>\n",
              "      <th></th>\n",
              "      <th></th>\n",
              "    </tr>\n",
              "  </thead>\n",
              "  <tbody>\n",
              "    <tr>\n",
              "      <th>2c29ae653a9282cce4151bd87643c907644e09541abc28ae87dea0d1f6603b1c</th>\n",
              "      <td>120255</td>\n",
              "      <td>42854</td>\n",
              "      <td>39869</td>\n",
              "      <td>118233</td>\n",
              "      <td>114330</td>\n",
              "      <td>117954</td>\n",
              "    </tr>\n",
              "    <tr>\n",
              "      <th>cc4ed85e30f4977dae47662ddc468cd2eec11472de6fac5ec985080fd92243c8</th>\n",
              "      <td>261</td>\n",
              "      <td>109</td>\n",
              "      <td>104</td>\n",
              "      <td>261</td>\n",
              "      <td>261</td>\n",
              "      <td>260</td>\n",
              "    </tr>\n",
              "    <tr>\n",
              "      <th>714976379549eb90aae4a71bca6c7402cc646ae7c40f6c1cb91d4b5a18623fc1</th>\n",
              "      <td>159</td>\n",
              "      <td>90</td>\n",
              "      <td>88</td>\n",
              "      <td>159</td>\n",
              "      <td>159</td>\n",
              "      <td>158</td>\n",
              "    </tr>\n",
              "    <tr>\n",
              "      <th>7c1fa3b0ec1d37ce2c3f34f63bd792f3b4494f324b6be5d1e4ba6a75456b96a7</th>\n",
              "      <td>157</td>\n",
              "      <td>55</td>\n",
              "      <td>54</td>\n",
              "      <td>157</td>\n",
              "      <td>156</td>\n",
              "      <td>156</td>\n",
              "    </tr>\n",
              "    <tr>\n",
              "      <th>5b7eb31eabebd3277de632b82267286d847fd5d44287ee150bb4206b48439145</th>\n",
              "      <td>156</td>\n",
              "      <td>42</td>\n",
              "      <td>41</td>\n",
              "      <td>156</td>\n",
              "      <td>156</td>\n",
              "      <td>155</td>\n",
              "    </tr>\n",
              "    <tr>\n",
              "      <th>...</th>\n",
              "      <td>...</td>\n",
              "      <td>...</td>\n",
              "      <td>...</td>\n",
              "      <td>...</td>\n",
              "      <td>...</td>\n",
              "      <td>...</td>\n",
              "    </tr>\n",
              "    <tr>\n",
              "      <th>881061848febc0ed07abec4002622bc86159c9c454e24a9ccceadf5073e2b60b</th>\n",
              "      <td>1</td>\n",
              "      <td>0</td>\n",
              "      <td>0</td>\n",
              "      <td>1</td>\n",
              "      <td>1</td>\n",
              "      <td>1</td>\n",
              "    </tr>\n",
              "    <tr>\n",
              "      <th>881060db7f12243d490fee451bd9f97f3e25b99ae2b4780ee895e96d78df3c4a</th>\n",
              "      <td>1</td>\n",
              "      <td>1</td>\n",
              "      <td>1</td>\n",
              "      <td>1</td>\n",
              "      <td>1</td>\n",
              "      <td>1</td>\n",
              "    </tr>\n",
              "    <tr>\n",
              "      <th>880f38c05ecb753e71f474a6394775192884cc57f35f1a0f79ddb3190a64ecf3</th>\n",
              "      <td>1</td>\n",
              "      <td>0</td>\n",
              "      <td>0</td>\n",
              "      <td>1</td>\n",
              "      <td>1</td>\n",
              "      <td>1</td>\n",
              "    </tr>\n",
              "    <tr>\n",
              "      <th>880b20a1bd89809c7d753b3cc3eede006c51d4f08e3cef68b2927af0b0123464</th>\n",
              "      <td>1</td>\n",
              "      <td>0</td>\n",
              "      <td>0</td>\n",
              "      <td>1</td>\n",
              "      <td>1</td>\n",
              "      <td>1</td>\n",
              "    </tr>\n",
              "    <tr>\n",
              "      <th>7fffad4930b7cc5f93c717ece9b8cc9eebb28132d1dbf54f24ced12d992d214c</th>\n",
              "      <td>1</td>\n",
              "      <td>0</td>\n",
              "      <td>0</td>\n",
              "      <td>1</td>\n",
              "      <td>1</td>\n",
              "      <td>1</td>\n",
              "    </tr>\n",
              "  </tbody>\n",
              "</table>\n",
              "<p>352856 rows × 6 columns</p>\n",
              "</div>\n",
              "      <button class=\"colab-df-convert\" onclick=\"convertToInteractive('df-bdb4f2e4-1013-469b-b8db-cbc141ec8446')\"\n",
              "              title=\"Convert this dataframe to an interactive table.\"\n",
              "              style=\"display:none;\">\n",
              "        \n",
              "  <svg xmlns=\"http://www.w3.org/2000/svg\" height=\"24px\"viewBox=\"0 0 24 24\"\n",
              "       width=\"24px\">\n",
              "    <path d=\"M0 0h24v24H0V0z\" fill=\"none\"/>\n",
              "    <path d=\"M18.56 5.44l.94 2.06.94-2.06 2.06-.94-2.06-.94-.94-2.06-.94 2.06-2.06.94zm-11 1L8.5 8.5l.94-2.06 2.06-.94-2.06-.94L8.5 2.5l-.94 2.06-2.06.94zm10 10l.94 2.06.94-2.06 2.06-.94-2.06-.94-.94-2.06-.94 2.06-2.06.94z\"/><path d=\"M17.41 7.96l-1.37-1.37c-.4-.4-.92-.59-1.43-.59-.52 0-1.04.2-1.43.59L10.3 9.45l-7.72 7.72c-.78.78-.78 2.05 0 2.83L4 21.41c.39.39.9.59 1.41.59.51 0 1.02-.2 1.41-.59l7.78-7.78 2.81-2.81c.8-.78.8-2.07 0-2.86zM5.41 20L4 18.59l7.72-7.72 1.47 1.35L5.41 20z\"/>\n",
              "  </svg>\n",
              "      </button>\n",
              "      \n",
              "  <style>\n",
              "    .colab-df-container {\n",
              "      display:flex;\n",
              "      flex-wrap:wrap;\n",
              "      gap: 12px;\n",
              "    }\n",
              "\n",
              "    .colab-df-convert {\n",
              "      background-color: #E8F0FE;\n",
              "      border: none;\n",
              "      border-radius: 50%;\n",
              "      cursor: pointer;\n",
              "      display: none;\n",
              "      fill: #1967D2;\n",
              "      height: 32px;\n",
              "      padding: 0 0 0 0;\n",
              "      width: 32px;\n",
              "    }\n",
              "\n",
              "    .colab-df-convert:hover {\n",
              "      background-color: #E2EBFA;\n",
              "      box-shadow: 0px 1px 2px rgba(60, 64, 67, 0.3), 0px 1px 3px 1px rgba(60, 64, 67, 0.15);\n",
              "      fill: #174EA6;\n",
              "    }\n",
              "\n",
              "    [theme=dark] .colab-df-convert {\n",
              "      background-color: #3B4455;\n",
              "      fill: #D2E3FC;\n",
              "    }\n",
              "\n",
              "    [theme=dark] .colab-df-convert:hover {\n",
              "      background-color: #434B5C;\n",
              "      box-shadow: 0px 1px 3px 1px rgba(0, 0, 0, 0.15);\n",
              "      filter: drop-shadow(0px 1px 2px rgba(0, 0, 0, 0.3));\n",
              "      fill: #FFFFFF;\n",
              "    }\n",
              "  </style>\n",
              "\n",
              "      <script>\n",
              "        const buttonEl =\n",
              "          document.querySelector('#df-bdb4f2e4-1013-469b-b8db-cbc141ec8446 button.colab-df-convert');\n",
              "        buttonEl.style.display =\n",
              "          google.colab.kernel.accessAllowed ? 'block' : 'none';\n",
              "\n",
              "        async function convertToInteractive(key) {\n",
              "          const element = document.querySelector('#df-bdb4f2e4-1013-469b-b8db-cbc141ec8446');\n",
              "          const dataTable =\n",
              "            await google.colab.kernel.invokeFunction('convertToInteractive',\n",
              "                                                     [key], {});\n",
              "          if (!dataTable) return;\n",
              "\n",
              "          const docLinkHtml = 'Like what you see? Visit the ' +\n",
              "            '<a target=\"_blank\" href=https://colab.research.google.com/notebooks/data_table.ipynb>data table notebook</a>'\n",
              "            + ' to learn more about interactive tables.';\n",
              "          element.innerHTML = '';\n",
              "          dataTable['output_type'] = 'display_data';\n",
              "          await google.colab.output.renderOutput(dataTable, element);\n",
              "          const docLink = document.createElement('div');\n",
              "          docLink.innerHTML = docLinkHtml;\n",
              "          element.appendChild(docLink);\n",
              "        }\n",
              "      </script>\n",
              "    </div>\n",
              "  </div>\n",
              "  "
            ]
          },
          "metadata": {},
          "execution_count": 36
        }
      ]
    },
    {
      "cell_type": "markdown",
      "source": [
        "1.2 million of 1.37 million customers are registered with the postal_code starting with 2c29. The postal_code column is not likely to provide us any insight."
      ],
      "metadata": {
        "id": "0FWHTuBRinp0"
      }
    },
    {
      "cell_type": "markdown",
      "source": [
        "## Transactions"
      ],
      "metadata": {
        "id": "E-ptj6jRjjZ8"
      }
    },
    {
      "cell_type": "code",
      "source": [
        "pd.set_option('display.float_format', '{:.4f}'.format) #Format to make the describe results more readable, affects everything below\n",
        "transactions.describe()"
      ],
      "metadata": {
        "colab": {
          "base_uri": "https://localhost:8080/",
          "height": 297
        },
        "id": "lQzo3knR1_3z",
        "outputId": "73e4fd23-373f-4bcc-ba52-df62e2afba5d"
      },
      "execution_count": 65,
      "outputs": [
        {
          "output_type": "execute_result",
          "data": {
            "text/plain": [
              "          article_id         price  sales_channel_id\n",
              "count  31788324.0000 31788324.0000     31788324.0000\n",
              "mean  696227219.0051        0.0278            1.7040\n",
              "std   133448003.4874        0.0192            0.4565\n",
              "min   108775015.0000        0.0000            1.0000\n",
              "25%   632803008.0000        0.0158            1.0000\n",
              "50%   714582003.0000        0.0254            2.0000\n",
              "75%   786524001.0000        0.0339            2.0000\n",
              "max   956217002.0000        0.5915            2.0000"
            ],
            "text/html": [
              "\n",
              "  <div id=\"df-75d649e1-deaa-47f7-a52b-cfe97c28bec4\">\n",
              "    <div class=\"colab-df-container\">\n",
              "      <div>\n",
              "<style scoped>\n",
              "    .dataframe tbody tr th:only-of-type {\n",
              "        vertical-align: middle;\n",
              "    }\n",
              "\n",
              "    .dataframe tbody tr th {\n",
              "        vertical-align: top;\n",
              "    }\n",
              "\n",
              "    .dataframe thead th {\n",
              "        text-align: right;\n",
              "    }\n",
              "</style>\n",
              "<table border=\"1\" class=\"dataframe\">\n",
              "  <thead>\n",
              "    <tr style=\"text-align: right;\">\n",
              "      <th></th>\n",
              "      <th>article_id</th>\n",
              "      <th>price</th>\n",
              "      <th>sales_channel_id</th>\n",
              "    </tr>\n",
              "  </thead>\n",
              "  <tbody>\n",
              "    <tr>\n",
              "      <th>count</th>\n",
              "      <td>31788324.0000</td>\n",
              "      <td>31788324.0000</td>\n",
              "      <td>31788324.0000</td>\n",
              "    </tr>\n",
              "    <tr>\n",
              "      <th>mean</th>\n",
              "      <td>696227219.0051</td>\n",
              "      <td>0.0278</td>\n",
              "      <td>1.7040</td>\n",
              "    </tr>\n",
              "    <tr>\n",
              "      <th>std</th>\n",
              "      <td>133448003.4874</td>\n",
              "      <td>0.0192</td>\n",
              "      <td>0.4565</td>\n",
              "    </tr>\n",
              "    <tr>\n",
              "      <th>min</th>\n",
              "      <td>108775015.0000</td>\n",
              "      <td>0.0000</td>\n",
              "      <td>1.0000</td>\n",
              "    </tr>\n",
              "    <tr>\n",
              "      <th>25%</th>\n",
              "      <td>632803008.0000</td>\n",
              "      <td>0.0158</td>\n",
              "      <td>1.0000</td>\n",
              "    </tr>\n",
              "    <tr>\n",
              "      <th>50%</th>\n",
              "      <td>714582003.0000</td>\n",
              "      <td>0.0254</td>\n",
              "      <td>2.0000</td>\n",
              "    </tr>\n",
              "    <tr>\n",
              "      <th>75%</th>\n",
              "      <td>786524001.0000</td>\n",
              "      <td>0.0339</td>\n",
              "      <td>2.0000</td>\n",
              "    </tr>\n",
              "    <tr>\n",
              "      <th>max</th>\n",
              "      <td>956217002.0000</td>\n",
              "      <td>0.5915</td>\n",
              "      <td>2.0000</td>\n",
              "    </tr>\n",
              "  </tbody>\n",
              "</table>\n",
              "</div>\n",
              "      <button class=\"colab-df-convert\" onclick=\"convertToInteractive('df-75d649e1-deaa-47f7-a52b-cfe97c28bec4')\"\n",
              "              title=\"Convert this dataframe to an interactive table.\"\n",
              "              style=\"display:none;\">\n",
              "        \n",
              "  <svg xmlns=\"http://www.w3.org/2000/svg\" height=\"24px\"viewBox=\"0 0 24 24\"\n",
              "       width=\"24px\">\n",
              "    <path d=\"M0 0h24v24H0V0z\" fill=\"none\"/>\n",
              "    <path d=\"M18.56 5.44l.94 2.06.94-2.06 2.06-.94-2.06-.94-.94-2.06-.94 2.06-2.06.94zm-11 1L8.5 8.5l.94-2.06 2.06-.94-2.06-.94L8.5 2.5l-.94 2.06-2.06.94zm10 10l.94 2.06.94-2.06 2.06-.94-2.06-.94-.94-2.06-.94 2.06-2.06.94z\"/><path d=\"M17.41 7.96l-1.37-1.37c-.4-.4-.92-.59-1.43-.59-.52 0-1.04.2-1.43.59L10.3 9.45l-7.72 7.72c-.78.78-.78 2.05 0 2.83L4 21.41c.39.39.9.59 1.41.59.51 0 1.02-.2 1.41-.59l7.78-7.78 2.81-2.81c.8-.78.8-2.07 0-2.86zM5.41 20L4 18.59l7.72-7.72 1.47 1.35L5.41 20z\"/>\n",
              "  </svg>\n",
              "      </button>\n",
              "      \n",
              "  <style>\n",
              "    .colab-df-container {\n",
              "      display:flex;\n",
              "      flex-wrap:wrap;\n",
              "      gap: 12px;\n",
              "    }\n",
              "\n",
              "    .colab-df-convert {\n",
              "      background-color: #E8F0FE;\n",
              "      border: none;\n",
              "      border-radius: 50%;\n",
              "      cursor: pointer;\n",
              "      display: none;\n",
              "      fill: #1967D2;\n",
              "      height: 32px;\n",
              "      padding: 0 0 0 0;\n",
              "      width: 32px;\n",
              "    }\n",
              "\n",
              "    .colab-df-convert:hover {\n",
              "      background-color: #E2EBFA;\n",
              "      box-shadow: 0px 1px 2px rgba(60, 64, 67, 0.3), 0px 1px 3px 1px rgba(60, 64, 67, 0.15);\n",
              "      fill: #174EA6;\n",
              "    }\n",
              "\n",
              "    [theme=dark] .colab-df-convert {\n",
              "      background-color: #3B4455;\n",
              "      fill: #D2E3FC;\n",
              "    }\n",
              "\n",
              "    [theme=dark] .colab-df-convert:hover {\n",
              "      background-color: #434B5C;\n",
              "      box-shadow: 0px 1px 3px 1px rgba(0, 0, 0, 0.15);\n",
              "      filter: drop-shadow(0px 1px 2px rgba(0, 0, 0, 0.3));\n",
              "      fill: #FFFFFF;\n",
              "    }\n",
              "  </style>\n",
              "\n",
              "      <script>\n",
              "        const buttonEl =\n",
              "          document.querySelector('#df-75d649e1-deaa-47f7-a52b-cfe97c28bec4 button.colab-df-convert');\n",
              "        buttonEl.style.display =\n",
              "          google.colab.kernel.accessAllowed ? 'block' : 'none';\n",
              "\n",
              "        async function convertToInteractive(key) {\n",
              "          const element = document.querySelector('#df-75d649e1-deaa-47f7-a52b-cfe97c28bec4');\n",
              "          const dataTable =\n",
              "            await google.colab.kernel.invokeFunction('convertToInteractive',\n",
              "                                                     [key], {});\n",
              "          if (!dataTable) return;\n",
              "\n",
              "          const docLinkHtml = 'Like what you see? Visit the ' +\n",
              "            '<a target=\"_blank\" href=https://colab.research.google.com/notebooks/data_table.ipynb>data table notebook</a>'\n",
              "            + ' to learn more about interactive tables.';\n",
              "          element.innerHTML = '';\n",
              "          dataTable['output_type'] = 'display_data';\n",
              "          await google.colab.output.renderOutput(dataTable, element);\n",
              "          const docLink = document.createElement('div');\n",
              "          docLink.innerHTML = docLinkHtml;\n",
              "          element.appendChild(docLink);\n",
              "        }\n",
              "      </script>\n",
              "    </div>\n",
              "  </div>\n",
              "  "
            ]
          },
          "metadata": {},
          "execution_count": 65
        }
      ]
    },
    {
      "cell_type": "code",
      "source": [
        "transactions.head()"
      ],
      "metadata": {
        "colab": {
          "base_uri": "https://localhost:8080/",
          "height": 232
        },
        "id": "aDZcSIEojlYk",
        "outputId": "8bb8fb9c-d9d2-4a00-d176-c7fe9546d15d"
      },
      "execution_count": null,
      "outputs": [
        {
          "output_type": "execute_result",
          "data": {
            "text/plain": [
              "        t_dat                                        customer_id  article_id  \\\n",
              "0  2018-09-20  000058a12d5b43e67d225668fa1f8d618c13dc232df0ca...   663713001   \n",
              "1  2018-09-20  000058a12d5b43e67d225668fa1f8d618c13dc232df0ca...   541518023   \n",
              "2  2018-09-20  00007d2de826758b65a93dd24ce629ed66842531df6699...   505221004   \n",
              "3  2018-09-20  00007d2de826758b65a93dd24ce629ed66842531df6699...   685687003   \n",
              "4  2018-09-20  00007d2de826758b65a93dd24ce629ed66842531df6699...   685687004   \n",
              "\n",
              "   price  sales_channel_id  \n",
              "0 0.0508                 2  \n",
              "1 0.0305                 2  \n",
              "2 0.0152                 2  \n",
              "3 0.0169                 2  \n",
              "4 0.0169                 2  "
            ],
            "text/html": [
              "\n",
              "  <div id=\"df-99699b89-db59-42bf-bfaf-0c6f539274b8\">\n",
              "    <div class=\"colab-df-container\">\n",
              "      <div>\n",
              "<style scoped>\n",
              "    .dataframe tbody tr th:only-of-type {\n",
              "        vertical-align: middle;\n",
              "    }\n",
              "\n",
              "    .dataframe tbody tr th {\n",
              "        vertical-align: top;\n",
              "    }\n",
              "\n",
              "    .dataframe thead th {\n",
              "        text-align: right;\n",
              "    }\n",
              "</style>\n",
              "<table border=\"1\" class=\"dataframe\">\n",
              "  <thead>\n",
              "    <tr style=\"text-align: right;\">\n",
              "      <th></th>\n",
              "      <th>t_dat</th>\n",
              "      <th>customer_id</th>\n",
              "      <th>article_id</th>\n",
              "      <th>price</th>\n",
              "      <th>sales_channel_id</th>\n",
              "    </tr>\n",
              "  </thead>\n",
              "  <tbody>\n",
              "    <tr>\n",
              "      <th>0</th>\n",
              "      <td>2018-09-20</td>\n",
              "      <td>000058a12d5b43e67d225668fa1f8d618c13dc232df0ca...</td>\n",
              "      <td>663713001</td>\n",
              "      <td>0.0508</td>\n",
              "      <td>2</td>\n",
              "    </tr>\n",
              "    <tr>\n",
              "      <th>1</th>\n",
              "      <td>2018-09-20</td>\n",
              "      <td>000058a12d5b43e67d225668fa1f8d618c13dc232df0ca...</td>\n",
              "      <td>541518023</td>\n",
              "      <td>0.0305</td>\n",
              "      <td>2</td>\n",
              "    </tr>\n",
              "    <tr>\n",
              "      <th>2</th>\n",
              "      <td>2018-09-20</td>\n",
              "      <td>00007d2de826758b65a93dd24ce629ed66842531df6699...</td>\n",
              "      <td>505221004</td>\n",
              "      <td>0.0152</td>\n",
              "      <td>2</td>\n",
              "    </tr>\n",
              "    <tr>\n",
              "      <th>3</th>\n",
              "      <td>2018-09-20</td>\n",
              "      <td>00007d2de826758b65a93dd24ce629ed66842531df6699...</td>\n",
              "      <td>685687003</td>\n",
              "      <td>0.0169</td>\n",
              "      <td>2</td>\n",
              "    </tr>\n",
              "    <tr>\n",
              "      <th>4</th>\n",
              "      <td>2018-09-20</td>\n",
              "      <td>00007d2de826758b65a93dd24ce629ed66842531df6699...</td>\n",
              "      <td>685687004</td>\n",
              "      <td>0.0169</td>\n",
              "      <td>2</td>\n",
              "    </tr>\n",
              "  </tbody>\n",
              "</table>\n",
              "</div>\n",
              "      <button class=\"colab-df-convert\" onclick=\"convertToInteractive('df-99699b89-db59-42bf-bfaf-0c6f539274b8')\"\n",
              "              title=\"Convert this dataframe to an interactive table.\"\n",
              "              style=\"display:none;\">\n",
              "        \n",
              "  <svg xmlns=\"http://www.w3.org/2000/svg\" height=\"24px\"viewBox=\"0 0 24 24\"\n",
              "       width=\"24px\">\n",
              "    <path d=\"M0 0h24v24H0V0z\" fill=\"none\"/>\n",
              "    <path d=\"M18.56 5.44l.94 2.06.94-2.06 2.06-.94-2.06-.94-.94-2.06-.94 2.06-2.06.94zm-11 1L8.5 8.5l.94-2.06 2.06-.94-2.06-.94L8.5 2.5l-.94 2.06-2.06.94zm10 10l.94 2.06.94-2.06 2.06-.94-2.06-.94-.94-2.06-.94 2.06-2.06.94z\"/><path d=\"M17.41 7.96l-1.37-1.37c-.4-.4-.92-.59-1.43-.59-.52 0-1.04.2-1.43.59L10.3 9.45l-7.72 7.72c-.78.78-.78 2.05 0 2.83L4 21.41c.39.39.9.59 1.41.59.51 0 1.02-.2 1.41-.59l7.78-7.78 2.81-2.81c.8-.78.8-2.07 0-2.86zM5.41 20L4 18.59l7.72-7.72 1.47 1.35L5.41 20z\"/>\n",
              "  </svg>\n",
              "      </button>\n",
              "      \n",
              "  <style>\n",
              "    .colab-df-container {\n",
              "      display:flex;\n",
              "      flex-wrap:wrap;\n",
              "      gap: 12px;\n",
              "    }\n",
              "\n",
              "    .colab-df-convert {\n",
              "      background-color: #E8F0FE;\n",
              "      border: none;\n",
              "      border-radius: 50%;\n",
              "      cursor: pointer;\n",
              "      display: none;\n",
              "      fill: #1967D2;\n",
              "      height: 32px;\n",
              "      padding: 0 0 0 0;\n",
              "      width: 32px;\n",
              "    }\n",
              "\n",
              "    .colab-df-convert:hover {\n",
              "      background-color: #E2EBFA;\n",
              "      box-shadow: 0px 1px 2px rgba(60, 64, 67, 0.3), 0px 1px 3px 1px rgba(60, 64, 67, 0.15);\n",
              "      fill: #174EA6;\n",
              "    }\n",
              "\n",
              "    [theme=dark] .colab-df-convert {\n",
              "      background-color: #3B4455;\n",
              "      fill: #D2E3FC;\n",
              "    }\n",
              "\n",
              "    [theme=dark] .colab-df-convert:hover {\n",
              "      background-color: #434B5C;\n",
              "      box-shadow: 0px 1px 3px 1px rgba(0, 0, 0, 0.15);\n",
              "      filter: drop-shadow(0px 1px 2px rgba(0, 0, 0, 0.3));\n",
              "      fill: #FFFFFF;\n",
              "    }\n",
              "  </style>\n",
              "\n",
              "      <script>\n",
              "        const buttonEl =\n",
              "          document.querySelector('#df-99699b89-db59-42bf-bfaf-0c6f539274b8 button.colab-df-convert');\n",
              "        buttonEl.style.display =\n",
              "          google.colab.kernel.accessAllowed ? 'block' : 'none';\n",
              "\n",
              "        async function convertToInteractive(key) {\n",
              "          const element = document.querySelector('#df-99699b89-db59-42bf-bfaf-0c6f539274b8');\n",
              "          const dataTable =\n",
              "            await google.colab.kernel.invokeFunction('convertToInteractive',\n",
              "                                                     [key], {});\n",
              "          if (!dataTable) return;\n",
              "\n",
              "          const docLinkHtml = 'Like what you see? Visit the ' +\n",
              "            '<a target=\"_blank\" href=https://colab.research.google.com/notebooks/data_table.ipynb>data table notebook</a>'\n",
              "            + ' to learn more about interactive tables.';\n",
              "          element.innerHTML = '';\n",
              "          dataTable['output_type'] = 'display_data';\n",
              "          await google.colab.output.renderOutput(dataTable, element);\n",
              "          const docLink = document.createElement('div');\n",
              "          docLink.innerHTML = docLinkHtml;\n",
              "          element.appendChild(docLink);\n",
              "        }\n",
              "      </script>\n",
              "    </div>\n",
              "  </div>\n",
              "  "
            ]
          },
          "metadata": {},
          "execution_count": 18
        }
      ]
    },
    {
      "cell_type": "code",
      "source": [
        "transactions_for_each_cust = transactions.groupby('customer_id').count()"
      ],
      "metadata": {
        "id": "3MrdGWo-29PV"
      },
      "execution_count": null,
      "outputs": []
    },
    {
      "cell_type": "markdown",
      "source": [
        "Here are the top customers. The number one customer has made 1895 transactions."
      ],
      "metadata": {
        "id": "XKqBJo0Mo2rj"
      }
    },
    {
      "cell_type": "code",
      "source": [
        "transactions_for_each_cust.sort_values(by='price', ascending=False)['price'][:10]"
      ],
      "metadata": {
        "colab": {
          "base_uri": "https://localhost:8080/"
        },
        "id": "ja-yNcjP3V4c",
        "outputId": "64f92759-ad8b-457a-fbc3-033f87375b4d"
      },
      "execution_count": null,
      "outputs": [
        {
          "output_type": "execute_result",
          "data": {
            "text/plain": [
              "customer_id\n",
              "be1981ab818cf4ef6765b2ecaea7a2cbf14ccd6e8a7ee985513d9e8e53c6d91b    1895\n",
              "b4db5e5259234574edfff958e170fe3a5e13b6f146752ca066abca3c156acc71    1441\n",
              "49beaacac0c7801c2ce2d189efe525fe80b5d37e46ed05b50a4cd88e34d0748f    1364\n",
              "a65f77281a528bf5c1e9f270141d601d116e1df33bf9df512f495ee06647a9cc    1361\n",
              "cd04ec2726dd58a8c753e0d6423e57716fd9ebcf2f14ed6012e7e5bea016b4d6    1237\n",
              "55d15396193dfd45836af3a6269a079efea339e875eff42cc0c228b002548a9d    1208\n",
              "c140410d72a41ee5e2e3ba3d7f5a860f337f1b5e41c27cf9bda5517c8774f8fa    1170\n",
              "8df45859ccd71ef1e48e2ee9d1c65d5728c31c46ae957d659fa4e5c3af6cc076    1169\n",
              "03d0011487606c37c1b1ed147fc72f285a50c05f00b9712e0fc3da400c864296    1157\n",
              "6cc121e5cc202d2bf344ffe795002bdbf87178054bcda2e57161f0ef810a4b55    1143\n",
              "Name: price, dtype: int64"
            ]
          },
          "metadata": {},
          "execution_count": 23
        }
      ]
    },
    {
      "cell_type": "code",
      "source": [
        "num_one_cust_transactions = pd.DataFrame(transactions[transactions['customer_id'] == '000058a12d5b43e67d225668fa1f8d618c13dc232df0cad8ffe7ad4a1091e318'])"
      ],
      "metadata": {
        "id": "YzCLJR7v5wIs"
      },
      "execution_count": null,
      "outputs": []
    },
    {
      "cell_type": "code",
      "source": [
        "print(\"Total number of transactions for the number one customer:\", num_one_cust_transactions.shape[0])\n",
        "print(\"Of those transactions, sales made using sales_channel_id 2:\", (num_one_cust_transactions['sales_channel_id'] == 2).count())"
      ],
      "metadata": {
        "colab": {
          "base_uri": "https://localhost:8080/"
        },
        "id": "DcHoUuAd-aNJ",
        "outputId": "8215c94d-2471-4f2d-b454-ea0236ce3f55"
      },
      "execution_count": null,
      "outputs": [
        {
          "output_type": "stream",
          "name": "stdout",
          "text": [
            "Total number of transactions for the number one customer: 18\n",
            "Of those transactions, sales made using sales_channel_id 2: 18\n"
          ]
        }
      ]
    },
    {
      "cell_type": "code",
      "source": [
        "transactions.info()"
      ],
      "metadata": {
        "colab": {
          "base_uri": "https://localhost:8080/"
        },
        "id": "XlC-R5oDjsSe",
        "outputId": "d804b128-f1a1-4942-f6bd-f0a9e4ae0edb"
      },
      "execution_count": null,
      "outputs": [
        {
          "output_type": "stream",
          "name": "stdout",
          "text": [
            "<class 'pandas.core.frame.DataFrame'>\n",
            "RangeIndex: 31788324 entries, 0 to 31788323\n",
            "Data columns (total 5 columns):\n",
            " #   Column            Dtype  \n",
            "---  ------            -----  \n",
            " 0   t_dat             object \n",
            " 1   customer_id       object \n",
            " 2   article_id        int64  \n",
            " 3   price             float64\n",
            " 4   sales_channel_id  int64  \n",
            "dtypes: float64(1), int64(2), object(2)\n",
            "memory usage: 1.2+ GB\n"
          ]
        }
      ]
    },
    {
      "cell_type": "markdown",
      "source": [
        "31788324 rows and 5 features in the transactions data.\n",
        "\n",
        "Transactions Features:\n",
        "-  <b>t_dat (object):</b> Date of the transactions. Can be converted to datetime?\n",
        "-  <b>customer_id</b>\n",
        "-  <b>article_id (int):</b> Id of the clothing bought\n",
        "-  <b>price(int)</b>: Price of the clothing item\n",
        "-  <b>sales_channel_id(categorical):</b>Sales Channel Category (store, online) - values are 1 and 2, we do not know which is which."
      ],
      "metadata": {
        "id": "nUZMNRjyjyl6"
      }
    },
    {
      "cell_type": "code",
      "source": [
        "print(\"Percentage of transactions from sales channel 1:\", \"{:.1f}\".format((transactions[transactions['sales_channel_id'] == 1]['sales_channel_id'].count()*100)/transactions['sales_channel_id'].count()))\n",
        "print(f\"Percentage of transactions from sales channel 2:\", \"{:.1f}\".format((transactions[transactions['sales_channel_id'] == 2]['sales_channel_id'].count()*100)/transactions['sales_channel_id'].count()))"
      ],
      "metadata": {
        "colab": {
          "base_uri": "https://localhost:8080/"
        },
        "id": "Er9jwdnXu8tl",
        "outputId": "dd18adad-2f48-4baf-9d17-f12c7c01fd2c"
      },
      "execution_count": null,
      "outputs": [
        {
          "output_type": "stream",
          "name": "stdout",
          "text": [
            "Percentage of transactions from sales channel 1: 29.6\n",
            "Percentage of transactions from sales channel 2: 70.4\n"
          ]
        }
      ]
    },
    {
      "cell_type": "markdown",
      "source": [
        "We can merge the articles and transactions dataframes to take a look at how popular each category/subcategory is. Let's get a subset of the features from the articles data and join them on the common article_id column."
      ],
      "metadata": {
        "id": "Yegu50VV66rg"
      }
    },
    {
      "cell_type": "code",
      "source": [
        "features_from_articles = articles[['article_id', 'product_type_name', 'product_group_name', 'index_name']]\n",
        "articles_transactions_merged = features_from_articles.merge(transactions, on='article_id', how='left')"
      ],
      "metadata": {
        "id": "4CoN-XLL5ErD"
      },
      "execution_count": null,
      "outputs": []
    },
    {
      "cell_type": "code",
      "source": [
        "articles_transactions_merged.info()"
      ],
      "metadata": {
        "colab": {
          "base_uri": "https://localhost:8080/"
        },
        "id": "WSz1ltDU9LCM",
        "outputId": "1fb47acc-49b5-4170-97dc-0f8d0bff20fe"
      },
      "execution_count": null,
      "outputs": [
        {
          "output_type": "stream",
          "name": "stdout",
          "text": [
            "<class 'pandas.core.frame.DataFrame'>\n",
            "Int64Index: 31789319 entries, 0 to 31789318\n",
            "Data columns (total 8 columns):\n",
            " #   Column              Dtype  \n",
            "---  ------              -----  \n",
            " 0   article_id          int64  \n",
            " 1   product_type_name   object \n",
            " 2   product_group_name  object \n",
            " 3   index_name          object \n",
            " 4   t_dat               object \n",
            " 5   customer_id         object \n",
            " 6   price               float64\n",
            " 7   sales_channel_id    float64\n",
            "dtypes: float64(2), int64(1), object(5)\n",
            "memory usage: 2.1+ GB\n"
          ]
        }
      ]
    },
    {
      "cell_type": "code",
      "source": [
        "articles_transactions_merged.head()"
      ],
      "metadata": {
        "colab": {
          "base_uri": "https://localhost:8080/",
          "height": 248
        },
        "id": "D6a7IOp5827u",
        "outputId": "355530c1-efc6-4bb0-8885-ba16d9b370c9"
      },
      "execution_count": null,
      "outputs": [
        {
          "output_type": "execute_result",
          "data": {
            "text/plain": [
              "   article_id product_type_name  product_group_name  index_name       t_dat  \\\n",
              "0   108775015          Vest top  Garment Upper body  Ladieswear  2018-09-20   \n",
              "1   108775015          Vest top  Garment Upper body  Ladieswear  2018-09-20   \n",
              "2   108775015          Vest top  Garment Upper body  Ladieswear  2018-09-20   \n",
              "3   108775015          Vest top  Garment Upper body  Ladieswear  2018-09-20   \n",
              "4   108775015          Vest top  Garment Upper body  Ladieswear  2018-09-20   \n",
              "\n",
              "                                         customer_id     price  \\\n",
              "0  05ed96931b707698bc94aa53766d44686ae5ccbbc99dfb...  0.008458   \n",
              "1  05ed96931b707698bc94aa53766d44686ae5ccbbc99dfb...  0.008458   \n",
              "2  0aaa9683d5f45b85d0f9a81e2f4d4ef774fed43339fb75...  0.008068   \n",
              "3  20ccafd82d923baecf1fb8705d459e243c8ca9c74ee24e...  0.008458   \n",
              "4  2135790e6b63d10b59f9d8b84a58e24328b0f5ed3a48f1...  0.008458   \n",
              "\n",
              "   sales_channel_id  \n",
              "0               1.0  \n",
              "1               1.0  \n",
              "2               2.0  \n",
              "3               1.0  \n",
              "4               1.0  "
            ],
            "text/html": [
              "\n",
              "  <div id=\"df-115a9809-33e1-41cb-9901-e8045eb28e16\">\n",
              "    <div class=\"colab-df-container\">\n",
              "      <div>\n",
              "<style scoped>\n",
              "    .dataframe tbody tr th:only-of-type {\n",
              "        vertical-align: middle;\n",
              "    }\n",
              "\n",
              "    .dataframe tbody tr th {\n",
              "        vertical-align: top;\n",
              "    }\n",
              "\n",
              "    .dataframe thead th {\n",
              "        text-align: right;\n",
              "    }\n",
              "</style>\n",
              "<table border=\"1\" class=\"dataframe\">\n",
              "  <thead>\n",
              "    <tr style=\"text-align: right;\">\n",
              "      <th></th>\n",
              "      <th>article_id</th>\n",
              "      <th>product_type_name</th>\n",
              "      <th>product_group_name</th>\n",
              "      <th>index_name</th>\n",
              "      <th>t_dat</th>\n",
              "      <th>customer_id</th>\n",
              "      <th>price</th>\n",
              "      <th>sales_channel_id</th>\n",
              "    </tr>\n",
              "  </thead>\n",
              "  <tbody>\n",
              "    <tr>\n",
              "      <th>0</th>\n",
              "      <td>108775015</td>\n",
              "      <td>Vest top</td>\n",
              "      <td>Garment Upper body</td>\n",
              "      <td>Ladieswear</td>\n",
              "      <td>2018-09-20</td>\n",
              "      <td>05ed96931b707698bc94aa53766d44686ae5ccbbc99dfb...</td>\n",
              "      <td>0.008458</td>\n",
              "      <td>1.0</td>\n",
              "    </tr>\n",
              "    <tr>\n",
              "      <th>1</th>\n",
              "      <td>108775015</td>\n",
              "      <td>Vest top</td>\n",
              "      <td>Garment Upper body</td>\n",
              "      <td>Ladieswear</td>\n",
              "      <td>2018-09-20</td>\n",
              "      <td>05ed96931b707698bc94aa53766d44686ae5ccbbc99dfb...</td>\n",
              "      <td>0.008458</td>\n",
              "      <td>1.0</td>\n",
              "    </tr>\n",
              "    <tr>\n",
              "      <th>2</th>\n",
              "      <td>108775015</td>\n",
              "      <td>Vest top</td>\n",
              "      <td>Garment Upper body</td>\n",
              "      <td>Ladieswear</td>\n",
              "      <td>2018-09-20</td>\n",
              "      <td>0aaa9683d5f45b85d0f9a81e2f4d4ef774fed43339fb75...</td>\n",
              "      <td>0.008068</td>\n",
              "      <td>2.0</td>\n",
              "    </tr>\n",
              "    <tr>\n",
              "      <th>3</th>\n",
              "      <td>108775015</td>\n",
              "      <td>Vest top</td>\n",
              "      <td>Garment Upper body</td>\n",
              "      <td>Ladieswear</td>\n",
              "      <td>2018-09-20</td>\n",
              "      <td>20ccafd82d923baecf1fb8705d459e243c8ca9c74ee24e...</td>\n",
              "      <td>0.008458</td>\n",
              "      <td>1.0</td>\n",
              "    </tr>\n",
              "    <tr>\n",
              "      <th>4</th>\n",
              "      <td>108775015</td>\n",
              "      <td>Vest top</td>\n",
              "      <td>Garment Upper body</td>\n",
              "      <td>Ladieswear</td>\n",
              "      <td>2018-09-20</td>\n",
              "      <td>2135790e6b63d10b59f9d8b84a58e24328b0f5ed3a48f1...</td>\n",
              "      <td>0.008458</td>\n",
              "      <td>1.0</td>\n",
              "    </tr>\n",
              "  </tbody>\n",
              "</table>\n",
              "</div>\n",
              "      <button class=\"colab-df-convert\" onclick=\"convertToInteractive('df-115a9809-33e1-41cb-9901-e8045eb28e16')\"\n",
              "              title=\"Convert this dataframe to an interactive table.\"\n",
              "              style=\"display:none;\">\n",
              "        \n",
              "  <svg xmlns=\"http://www.w3.org/2000/svg\" height=\"24px\"viewBox=\"0 0 24 24\"\n",
              "       width=\"24px\">\n",
              "    <path d=\"M0 0h24v24H0V0z\" fill=\"none\"/>\n",
              "    <path d=\"M18.56 5.44l.94 2.06.94-2.06 2.06-.94-2.06-.94-.94-2.06-.94 2.06-2.06.94zm-11 1L8.5 8.5l.94-2.06 2.06-.94-2.06-.94L8.5 2.5l-.94 2.06-2.06.94zm10 10l.94 2.06.94-2.06 2.06-.94-2.06-.94-.94-2.06-.94 2.06-2.06.94z\"/><path d=\"M17.41 7.96l-1.37-1.37c-.4-.4-.92-.59-1.43-.59-.52 0-1.04.2-1.43.59L10.3 9.45l-7.72 7.72c-.78.78-.78 2.05 0 2.83L4 21.41c.39.39.9.59 1.41.59.51 0 1.02-.2 1.41-.59l7.78-7.78 2.81-2.81c.8-.78.8-2.07 0-2.86zM5.41 20L4 18.59l7.72-7.72 1.47 1.35L5.41 20z\"/>\n",
              "  </svg>\n",
              "      </button>\n",
              "      \n",
              "  <style>\n",
              "    .colab-df-container {\n",
              "      display:flex;\n",
              "      flex-wrap:wrap;\n",
              "      gap: 12px;\n",
              "    }\n",
              "\n",
              "    .colab-df-convert {\n",
              "      background-color: #E8F0FE;\n",
              "      border: none;\n",
              "      border-radius: 50%;\n",
              "      cursor: pointer;\n",
              "      display: none;\n",
              "      fill: #1967D2;\n",
              "      height: 32px;\n",
              "      padding: 0 0 0 0;\n",
              "      width: 32px;\n",
              "    }\n",
              "\n",
              "    .colab-df-convert:hover {\n",
              "      background-color: #E2EBFA;\n",
              "      box-shadow: 0px 1px 2px rgba(60, 64, 67, 0.3), 0px 1px 3px 1px rgba(60, 64, 67, 0.15);\n",
              "      fill: #174EA6;\n",
              "    }\n",
              "\n",
              "    [theme=dark] .colab-df-convert {\n",
              "      background-color: #3B4455;\n",
              "      fill: #D2E3FC;\n",
              "    }\n",
              "\n",
              "    [theme=dark] .colab-df-convert:hover {\n",
              "      background-color: #434B5C;\n",
              "      box-shadow: 0px 1px 3px 1px rgba(0, 0, 0, 0.15);\n",
              "      filter: drop-shadow(0px 1px 2px rgba(0, 0, 0, 0.3));\n",
              "      fill: #FFFFFF;\n",
              "    }\n",
              "  </style>\n",
              "\n",
              "      <script>\n",
              "        const buttonEl =\n",
              "          document.querySelector('#df-115a9809-33e1-41cb-9901-e8045eb28e16 button.colab-df-convert');\n",
              "        buttonEl.style.display =\n",
              "          google.colab.kernel.accessAllowed ? 'block' : 'none';\n",
              "\n",
              "        async function convertToInteractive(key) {\n",
              "          const element = document.querySelector('#df-115a9809-33e1-41cb-9901-e8045eb28e16');\n",
              "          const dataTable =\n",
              "            await google.colab.kernel.invokeFunction('convertToInteractive',\n",
              "                                                     [key], {});\n",
              "          if (!dataTable) return;\n",
              "\n",
              "          const docLinkHtml = 'Like what you see? Visit the ' +\n",
              "            '<a target=\"_blank\" href=https://colab.research.google.com/notebooks/data_table.ipynb>data table notebook</a>'\n",
              "            + ' to learn more about interactive tables.';\n",
              "          element.innerHTML = '';\n",
              "          dataTable['output_type'] = 'display_data';\n",
              "          await google.colab.output.renderOutput(dataTable, element);\n",
              "          const docLink = document.createElement('div');\n",
              "          docLink.innerHTML = docLinkHtml;\n",
              "          element.appendChild(docLink);\n",
              "        }\n",
              "      </script>\n",
              "    </div>\n",
              "  </div>\n",
              "  "
            ]
          },
          "metadata": {},
          "execution_count": 7
        }
      ]
    },
    {
      "cell_type": "markdown",
      "source": [
        "Let's see the most popular items now."
      ],
      "metadata": {
        "id": "fcq2eeTE9BqR"
      }
    },
    {
      "cell_type": "code",
      "source": [
        "articles_transactions_merged['article_id'].value_counts()"
      ],
      "metadata": {
        "colab": {
          "base_uri": "https://localhost:8080/"
        },
        "id": "o0DvZjnj9Dfn",
        "outputId": "78ea9ea7-0fd9-4a36-ceda-7540e55d479a"
      },
      "execution_count": null,
      "outputs": [
        {
          "output_type": "execute_result",
          "data": {
            "text/plain": [
              "706016001    50287\n",
              "706016002    35043\n",
              "372860001    31718\n",
              "610776002    30199\n",
              "759871002    26329\n",
              "             ...  \n",
              "636664002        1\n",
              "553800001        1\n",
              "636672003        1\n",
              "501129004        1\n",
              "959461001        1\n",
              "Name: article_id, Length: 105542, dtype: int64"
            ]
          },
          "metadata": {},
          "execution_count": 8
        }
      ]
    },
    {
      "cell_type": "code",
      "source": [
        "articles[articles['article_id'] == 706016001]  "
      ],
      "metadata": {
        "colab": {
          "base_uri": "https://localhost:8080/",
          "height": 180
        },
        "id": "WY6v1UjV9f1h",
        "outputId": "dcbcaea1-e2c0-4cd6-eadf-141c28fc817e"
      },
      "execution_count": null,
      "outputs": [
        {
          "output_type": "execute_result",
          "data": {
            "text/plain": [
              "       article_id  product_code                 prod_name  product_type_no  \\\n",
              "53892   706016001        706016  Jade HW Skinny Denim TRS              272   \n",
              "\n",
              "      product_type_name  product_group_name  graphical_appearance_no  \\\n",
              "53892          Trousers  Garment Lower body                  1010016   \n",
              "\n",
              "      graphical_appearance_name  colour_group_code colour_group_name  ...  \\\n",
              "53892                     Solid                  9             Black  ...   \n",
              "\n",
              "       department_name index_code  index_name index_group_no  \\\n",
              "53892         Trousers          D     Divided              2   \n",
              "\n",
              "       index_group_name section_no        section_name garment_group_no  \\\n",
              "53892           Divided         53  Divided Collection             1009   \n",
              "\n",
              "       garment_group_name                                        detail_desc  \n",
              "53892            Trousers  High-waisted jeans in washed superstretch deni...  \n",
              "\n",
              "[1 rows x 25 columns]"
            ],
            "text/html": [
              "\n",
              "  <div id=\"df-4bee1f14-5ef1-457c-9353-9672ad6edad0\">\n",
              "    <div class=\"colab-df-container\">\n",
              "      <div>\n",
              "<style scoped>\n",
              "    .dataframe tbody tr th:only-of-type {\n",
              "        vertical-align: middle;\n",
              "    }\n",
              "\n",
              "    .dataframe tbody tr th {\n",
              "        vertical-align: top;\n",
              "    }\n",
              "\n",
              "    .dataframe thead th {\n",
              "        text-align: right;\n",
              "    }\n",
              "</style>\n",
              "<table border=\"1\" class=\"dataframe\">\n",
              "  <thead>\n",
              "    <tr style=\"text-align: right;\">\n",
              "      <th></th>\n",
              "      <th>article_id</th>\n",
              "      <th>product_code</th>\n",
              "      <th>prod_name</th>\n",
              "      <th>product_type_no</th>\n",
              "      <th>product_type_name</th>\n",
              "      <th>product_group_name</th>\n",
              "      <th>graphical_appearance_no</th>\n",
              "      <th>graphical_appearance_name</th>\n",
              "      <th>colour_group_code</th>\n",
              "      <th>colour_group_name</th>\n",
              "      <th>...</th>\n",
              "      <th>department_name</th>\n",
              "      <th>index_code</th>\n",
              "      <th>index_name</th>\n",
              "      <th>index_group_no</th>\n",
              "      <th>index_group_name</th>\n",
              "      <th>section_no</th>\n",
              "      <th>section_name</th>\n",
              "      <th>garment_group_no</th>\n",
              "      <th>garment_group_name</th>\n",
              "      <th>detail_desc</th>\n",
              "    </tr>\n",
              "  </thead>\n",
              "  <tbody>\n",
              "    <tr>\n",
              "      <th>53892</th>\n",
              "      <td>706016001</td>\n",
              "      <td>706016</td>\n",
              "      <td>Jade HW Skinny Denim TRS</td>\n",
              "      <td>272</td>\n",
              "      <td>Trousers</td>\n",
              "      <td>Garment Lower body</td>\n",
              "      <td>1010016</td>\n",
              "      <td>Solid</td>\n",
              "      <td>9</td>\n",
              "      <td>Black</td>\n",
              "      <td>...</td>\n",
              "      <td>Trousers</td>\n",
              "      <td>D</td>\n",
              "      <td>Divided</td>\n",
              "      <td>2</td>\n",
              "      <td>Divided</td>\n",
              "      <td>53</td>\n",
              "      <td>Divided Collection</td>\n",
              "      <td>1009</td>\n",
              "      <td>Trousers</td>\n",
              "      <td>High-waisted jeans in washed superstretch deni...</td>\n",
              "    </tr>\n",
              "  </tbody>\n",
              "</table>\n",
              "<p>1 rows × 25 columns</p>\n",
              "</div>\n",
              "      <button class=\"colab-df-convert\" onclick=\"convertToInteractive('df-4bee1f14-5ef1-457c-9353-9672ad6edad0')\"\n",
              "              title=\"Convert this dataframe to an interactive table.\"\n",
              "              style=\"display:none;\">\n",
              "        \n",
              "  <svg xmlns=\"http://www.w3.org/2000/svg\" height=\"24px\"viewBox=\"0 0 24 24\"\n",
              "       width=\"24px\">\n",
              "    <path d=\"M0 0h24v24H0V0z\" fill=\"none\"/>\n",
              "    <path d=\"M18.56 5.44l.94 2.06.94-2.06 2.06-.94-2.06-.94-.94-2.06-.94 2.06-2.06.94zm-11 1L8.5 8.5l.94-2.06 2.06-.94-2.06-.94L8.5 2.5l-.94 2.06-2.06.94zm10 10l.94 2.06.94-2.06 2.06-.94-2.06-.94-.94-2.06-.94 2.06-2.06.94z\"/><path d=\"M17.41 7.96l-1.37-1.37c-.4-.4-.92-.59-1.43-.59-.52 0-1.04.2-1.43.59L10.3 9.45l-7.72 7.72c-.78.78-.78 2.05 0 2.83L4 21.41c.39.39.9.59 1.41.59.51 0 1.02-.2 1.41-.59l7.78-7.78 2.81-2.81c.8-.78.8-2.07 0-2.86zM5.41 20L4 18.59l7.72-7.72 1.47 1.35L5.41 20z\"/>\n",
              "  </svg>\n",
              "      </button>\n",
              "      \n",
              "  <style>\n",
              "    .colab-df-container {\n",
              "      display:flex;\n",
              "      flex-wrap:wrap;\n",
              "      gap: 12px;\n",
              "    }\n",
              "\n",
              "    .colab-df-convert {\n",
              "      background-color: #E8F0FE;\n",
              "      border: none;\n",
              "      border-radius: 50%;\n",
              "      cursor: pointer;\n",
              "      display: none;\n",
              "      fill: #1967D2;\n",
              "      height: 32px;\n",
              "      padding: 0 0 0 0;\n",
              "      width: 32px;\n",
              "    }\n",
              "\n",
              "    .colab-df-convert:hover {\n",
              "      background-color: #E2EBFA;\n",
              "      box-shadow: 0px 1px 2px rgba(60, 64, 67, 0.3), 0px 1px 3px 1px rgba(60, 64, 67, 0.15);\n",
              "      fill: #174EA6;\n",
              "    }\n",
              "\n",
              "    [theme=dark] .colab-df-convert {\n",
              "      background-color: #3B4455;\n",
              "      fill: #D2E3FC;\n",
              "    }\n",
              "\n",
              "    [theme=dark] .colab-df-convert:hover {\n",
              "      background-color: #434B5C;\n",
              "      box-shadow: 0px 1px 3px 1px rgba(0, 0, 0, 0.15);\n",
              "      filter: drop-shadow(0px 1px 2px rgba(0, 0, 0, 0.3));\n",
              "      fill: #FFFFFF;\n",
              "    }\n",
              "  </style>\n",
              "\n",
              "      <script>\n",
              "        const buttonEl =\n",
              "          document.querySelector('#df-4bee1f14-5ef1-457c-9353-9672ad6edad0 button.colab-df-convert');\n",
              "        buttonEl.style.display =\n",
              "          google.colab.kernel.accessAllowed ? 'block' : 'none';\n",
              "\n",
              "        async function convertToInteractive(key) {\n",
              "          const element = document.querySelector('#df-4bee1f14-5ef1-457c-9353-9672ad6edad0');\n",
              "          const dataTable =\n",
              "            await google.colab.kernel.invokeFunction('convertToInteractive',\n",
              "                                                     [key], {});\n",
              "          if (!dataTable) return;\n",
              "\n",
              "          const docLinkHtml = 'Like what you see? Visit the ' +\n",
              "            '<a target=\"_blank\" href=https://colab.research.google.com/notebooks/data_table.ipynb>data table notebook</a>'\n",
              "            + ' to learn more about interactive tables.';\n",
              "          element.innerHTML = '';\n",
              "          dataTable['output_type'] = 'display_data';\n",
              "          await google.colab.output.renderOutput(dataTable, element);\n",
              "          const docLink = document.createElement('div');\n",
              "          docLink.innerHTML = docLinkHtml;\n",
              "          element.appendChild(docLink);\n",
              "        }\n",
              "      </script>\n",
              "    </div>\n",
              "  </div>\n",
              "  "
            ]
          },
          "metadata": {},
          "execution_count": 26
        },
        {
          "output_type": "stream",
          "name": "stdout",
          "text": [
            "Warning: Total number of columns (25) exceeds max_columns (20) limiting to first (20) columns.\n"
          ]
        }
      ]
    },
    {
      "cell_type": "markdown",
      "source": [
        "The item that has sold the most is a simple black trousers from the divided section. The other 4 are trousers, tops and soc"
      ],
      "metadata": {
        "id": "M3T4bpran7_t"
      }
    },
    {
      "cell_type": "code",
      "source": [
        "sns.boxplot(data=transactions, x='price')"
      ],
      "metadata": {
        "colab": {
          "base_uri": "https://localhost:8080/",
          "height": 296
        },
        "id": "ypX7Rds5ohTz",
        "outputId": "77efd683-b923-4b9c-f5ba-84864021c193"
      },
      "execution_count": 27,
      "outputs": [
        {
          "output_type": "execute_result",
          "data": {
            "text/plain": [
              "<matplotlib.axes._subplots.AxesSubplot at 0x7f4bf6895bd0>"
            ]
          },
          "metadata": {},
          "execution_count": 27
        },
        {
          "output_type": "display_data",
          "data": {
            "text/plain": [
              "<Figure size 432x288 with 1 Axes>"
            ],
            "image/png": "[encoded data removed]"
          },
          "metadata": {
            "needs_background": "light"
          }
        }
      ]
    },
    {
      "cell_type": "markdown",
      "source": [
        "### Price Outliers For Each Category"
      ],
      "metadata": {
        "id": "__txzw6ZsbE1"
      }
    },
    {
      "cell_type": "markdown",
      "source": [
        "A lot of price variations and outliers in the Garment Upper/Lower Body categories as well as shoes and accessories. Let's take a closer look."
      ],
      "metadata": {
        "id": "ePIK-erksl62"
      }
    },
    {
      "cell_type": "code",
      "source": [
        "sns.set_style('darkgrid')\n",
        "fig, ax = plt.subplots(figsize=(30,10))\n",
        "ax = sns.boxplot(data=articles_transactions_merged, x='price', y='product_group_name')\n",
        "ax.set_xlabel('Price Outliers', fontsize=18)\n",
        "ax.set_ylabel('Category Name', fontsize=18)\n",
        "plt.show()"
      ],
      "metadata": {
        "colab": {
          "base_uri": "https://localhost:8080/",
          "height": 524
        },
        "id": "d2ljcfsdqKh4",
        "outputId": "ad83535f-a399-452d-9070-5388176bc5ff"
      },
      "execution_count": 29,
      "outputs": [
        {
          "output_type": "display_data",
          "data": {
            "text/plain": [
              "<Figure size 2160x720 with 1 Axes>"
            ],
            "image/png": "[encoded data removed]"
          },
          "metadata": {}
        }
      ]
    },
    {
      "cell_type": "code",
      "source": [
        "sns.set_style('darkgrid')\n",
        "fig, ax = plt.subplots(figsize=(15, 5))\n",
        "ax = sns.boxplot(data=articles_transactions_merged[articles_transactions_merged['product_group_name'] == 'Garment Upper body'], x='price', y='product_type_name')\n",
        "ax.set_xlabel('Price Outliers', fontsize=15)\n",
        "ax.set_ylabel('Subcategory Name', fontsize=15)\n",
        "plt.show()"
      ],
      "metadata": {
        "colab": {
          "base_uri": "https://localhost:8080/",
          "height": 339
        },
        "id": "wEwuV4fYtCUj",
        "outputId": "811616bc-813d-466e-bf34-a35bca2b18bf"
      },
      "execution_count": 33,
      "outputs": [
        {
          "output_type": "display_data",
          "data": {
            "text/plain": [
              "<Figure size 1080x360 with 1 Axes>"
            ],
            "image/png": "[encoded data removed]"
          },
          "metadata": {}
        }
      ]
    },
    {
      "cell_type": "code",
      "source": [
        "sns.set_style('darkgrid')\n",
        "fig, ax = plt.subplots(figsize=(30, 10))\n",
        "ax = sns.boxplot(data=articles_transactions_merged[articles_transactions_merged['product_group_name'] == 'Accessories'], x='price', y='product_type_name')\n",
        "ax.set_xlabel('Price Outliers', fontsize=15)\n",
        "ax.set_ylabel('Subcategory Name', fontsize=15)\n",
        "plt.show()"
      ],
      "metadata": {
        "colab": {
          "base_uri": "https://localhost:8080/",
          "height": 530
        },
        "id": "qmZQNToauulr",
        "outputId": "25436e49-7591-45fb-b2f5-98da3148b9c8"
      },
      "execution_count": 38,
      "outputs": [
        {
          "output_type": "display_data",
          "data": {
            "text/plain": [
              "<Figure size 2160x720 with 1 Axes>"
            ],
            "image/png": "[encoded data removed]"
          },
          "metadata": {}
        }
      ]
    },
    {
      "cell_type": "markdown",
      "source": [
        "Bags category has some extreme outliers followed by other accessories. The watches have the highest mean price which makes sense."
      ],
      "metadata": {
        "id": "a6tkzGeivfyQ"
      }
    },
    {
      "cell_type": "code",
      "source": [
        "articles_mean = articles_transactions_merged[['index_name', 'price']].groupby('index_name').mean()\n",
        "sns.set_style('darkgrid')\n",
        "ax, fig = plt.subplots(figsize=(15, 5))\n",
        "ax = sns.boxplot(x=articles_mean.price, y=articles_mean.index)\n",
        "ax.set_xlabel('Price By Index')\n",
        "ax.set_ylabel('Index')\n",
        "plt.show()"
      ],
      "metadata": {
        "colab": {
          "base_uri": "https://localhost:8080/",
          "height": 334
        },
        "id": "EQyCOLV60RCd",
        "outputId": "0df8b86d-4a39-4b60-c2d9-3e93459d414c"
      },
      "execution_count": 68,
      "outputs": [
        {
          "output_type": "display_data",
          "data": {
            "text/plain": [
              "<Figure size 1080x360 with 1 Axes>"
            ],
            "image/png": "[encoded data removed]"
          },
          "metadata": {}
        }
      ]
    },
    {
      "cell_type": "markdown",
      "source": [
        "The highest mean price belongs to the Ladieswear group."
      ],
      "metadata": {
        "id": "vlp0oHrU5R2o"
      }
    },
    {
      "cell_type": "code",
      "source": [
        "products_mean = articles_transactions_merged[['product_group_name', 'price']].groupby('product_group_name').mean()\n",
        "sns.set_style('darkgrid')\n",
        "ax, fig = plt.subplots(figsize=(15, 5))\n",
        "ax = sns.boxplot(x=products_mean.price, y=products_mean.index)\n",
        "ax.set_xlabel('Price By Index')\n",
        "ax.set_ylabel('Index')\n",
        "plt.show()"
      ],
      "metadata": {
        "colab": {
          "base_uri": "https://localhost:8080/",
          "height": 334
        },
        "id": "_JlKGwqo5lTz",
        "outputId": "b0cb76a2-7f43-45a5-b898-617bd5c8ed8a"
      },
      "execution_count": 73,
      "outputs": [
        {
          "output_type": "display_data",
          "data": {
            "text/plain": [
              "<Figure size 1080x360 with 1 Axes>"
            ],
            "image/png": "[encoded data removed]"
          },
          "metadata": {}
        }
      ]
    },
    {
      "cell_type": "markdown",
      "source": [
        "Garment Full Body, Shoes and Bags have the highest mean prices, accessories is not that high actually."
      ],
      "metadata": {
        "id": "dZRhxPki6nak"
      }
    }
  ]
}