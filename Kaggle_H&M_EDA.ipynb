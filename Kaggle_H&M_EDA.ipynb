{
  "nbformat": 4,
  "nbformat_minor": 0,
  "metadata": {
    "colab": {
      "name": "Kaggle H&M EDA.ipynb",
      "provenance": [],
      "authorship_tag": "ABX9TyOart/ErZAviOD3MuX2zqZM"
    },
    "kernelspec": {
      "name": "python3",
      "display_name": "Python 3"
    },
    "language_info": {
      "name": "python"
    }
  },
  "cells": [
    {
      "cell_type": "markdown",
      "source": [
        "#Environment Setup And Imports, Loading The Dataset"
      ],
      "metadata": {
        "id": "Xf1GjeJlzITq"
      }
    },
    {
      "cell_type": "code",
      "execution_count": null,
      "metadata": {
        "id": "mfJM7SdCc7Cm"
      },
      "outputs": [],
      "source": [
        "#@title Kaggle Setup For Colab {display-mode: \"form\"}\n",
        "\n",
        "! pip install kaggle\n",
        "! mkdir ~/.kaggle\n",
        "! cp kaggle.json ~/.kaggle/\n",
        "! chmod 600 ~/.kaggle/kaggle.json"
      ]
    },
    {
      "cell_type": "code",
      "source": [
        "#@title Download and Unzip The Data {display-mode: \"form\"}\n",
        "#Don't download the images, file size too large\n",
        "! kaggle competitions download h-and-m-personalized-fashion-recommendations -f articles.csv\n",
        "! kaggle competitions download h-and-m-personalized-fashion-recommendations -f customers.csv\n",
        "! kaggle competitions download h-and-m-personalized-fashion-recommendations -f transactions_train.csv\n",
        "! unzip articles.csv.zip\n",
        "! unzip customers.csv.zip\n",
        "! unzip transactions_train.csv.zip"
      ],
      "metadata": {
        "id": "IkST1iMAdvQc"
      },
      "execution_count": null,
      "outputs": []
    },
    {
      "cell_type": "code",
      "source": [
        "#@title Library Imports {display-mode: \"form\"}\n",
        "\n",
        "import pandas as pd\n",
        "import matplotlib.pyplot as plt\n",
        "%matplotlib inline\n",
        "import seaborn as sns\n",
        "\n",
        "from tqdm import tqdm"
      ],
      "metadata": {
        "id": "JXKAGSeQetoo"
      },
      "execution_count": null,
      "outputs": []
    },
    {
      "cell_type": "code",
      "source": [
        "#@title Load The Data {display-mode: \"form\"}\n",
        "articles = pd.read_csv('articles.csv')\n",
        "customers = pd.read_csv('customers.csv')\n",
        "transactions = pd.read_csv('transactions_train.csv')"
      ],
      "metadata": {
        "id": "X-b_Ybpvge33"
      },
      "execution_count": 38,
      "outputs": []
    },
    {
      "cell_type": "markdown",
      "source": [
        "#EDA"
      ],
      "metadata": {
        "id": "2gyDN7PGjtv-"
      }
    },
    {
      "cell_type": "markdown",
      "source": [
        "## Articles Data\n",
        "Let's start with the articles data and take a look at the features\n",
        "\n",
        "-  <b>article_id(int)</b>: Id of the clothing\n",
        "-  <b>product_code(int)</b>\n",
        "-  <b>prod_name(str)</b>: Name of the product, includes category information\n",
        "-  <b>product_type_no(int)</b>: Category code, can be based on product_group_name\n",
        "-  <b>product_type_name(str)</b>: Subcategory name (ie: trousers, leggins, pants)\n",
        "-  <b>product_group_name(nominal)</b>: Product category (ie: underwear, garment upper body)\n",
        "-  <b>graphical_appearance_no(int)</b>\n",
        "-  <b>graphical_appearance_name(nominal)</b>: Describes if the clothing has any design or pattern on it. (ie: solid, stripe)\n",
        "-  <b>colour_group_code(int), colour_group_name(nominal)</b>\n",
        "-  <b>perceived_colour_value_id(int), perceived_colour_value_name(nominal)</b>\n",
        "-  <b>perceived_colour_master_id(int), perceived_colour_master_name(nominal)</b>\n",
        "-  <b>department_no(int), department_name(nominal)</b>\n",
        "-  <b>index_code(str), index_name(nominal)</b>\n",
        "-  <b>index_group_no(int),index_group_name(nominal)</b>\n",
        "-  <b>section_no(int), section_name(nominal)</b>\n",
        "-  <b>garment_group_no(int), garment_group_name(nominal)</b>\n",
        "-  <b>detail_desc(str):</b>Detailed description of the item (ie: Sweatshirt in soft organic cotton with a  press-stud on one shoulder)"
      ],
      "metadata": {
        "id": "08a-c9H3jw0d"
      }
    },
    {
      "cell_type": "code",
      "source": [
        "#@title {display-mode: \"form\"}\n",
        "articles.head()"
      ],
      "metadata": {
        "colab": {
          "base_uri": "https://localhost:8080/",
          "height": 280
        },
        "id": "RJtTwixnhgyp",
        "outputId": "47b26e74-1bfb-4b67-da3c-8f99a7f4d2e4"
      },
      "execution_count": null,
      "outputs": [
        {
          "output_type": "execute_result",
          "data": {
            "text/plain": [
              "   article_id  product_code          prod_name  product_type_no  \\\n",
              "0   108775015        108775          Strap top              253   \n",
              "1   108775044        108775          Strap top              253   \n",
              "2   108775051        108775      Strap top (1)              253   \n",
              "3   110065001        110065  OP T-shirt (Idro)              306   \n",
              "4   110065002        110065  OP T-shirt (Idro)              306   \n",
              "\n",
              "  product_type_name  product_group_name  graphical_appearance_no  \\\n",
              "0          Vest top  Garment Upper body                  1010016   \n",
              "1          Vest top  Garment Upper body                  1010016   \n",
              "2          Vest top  Garment Upper body                  1010017   \n",
              "3               Bra           Underwear                  1010016   \n",
              "4               Bra           Underwear                  1010016   \n",
              "\n",
              "  graphical_appearance_name  colour_group_code colour_group_name  ...  \\\n",
              "0                     Solid                  9             Black  ...   \n",
              "1                     Solid                 10             White  ...   \n",
              "2                    Stripe                 11         Off White  ...   \n",
              "3                     Solid                  9             Black  ...   \n",
              "4                     Solid                 10             White  ...   \n",
              "\n",
              "   department_name index_code        index_name index_group_no  \\\n",
              "0     Jersey Basic          A        Ladieswear              1   \n",
              "1     Jersey Basic          A        Ladieswear              1   \n",
              "2     Jersey Basic          A        Ladieswear              1   \n",
              "3   Clean Lingerie          B  Lingeries/Tights              1   \n",
              "4   Clean Lingerie          B  Lingeries/Tights              1   \n",
              "\n",
              "   index_group_name section_no            section_name garment_group_no  \\\n",
              "0        Ladieswear         16  Womens Everyday Basics             1002   \n",
              "1        Ladieswear         16  Womens Everyday Basics             1002   \n",
              "2        Ladieswear         16  Womens Everyday Basics             1002   \n",
              "3        Ladieswear         61         Womens Lingerie             1017   \n",
              "4        Ladieswear         61         Womens Lingerie             1017   \n",
              "\n",
              "   garment_group_name                                        detail_desc  \n",
              "0        Jersey Basic            Jersey top with narrow shoulder straps.  \n",
              "1        Jersey Basic            Jersey top with narrow shoulder straps.  \n",
              "2        Jersey Basic            Jersey top with narrow shoulder straps.  \n",
              "3   Under-, Nightwear  Microfibre T-shirt bra with underwired, moulde...  \n",
              "4   Under-, Nightwear  Microfibre T-shirt bra with underwired, moulde...  \n",
              "\n",
              "[5 rows x 25 columns]"
            ],
            "text/html": [
              "\n",
              "  <div id=\"df-6c117e95-b430-4f64-a623-04539cba1969\">\n",
              "    <div class=\"colab-df-container\">\n",
              "      <div>\n",
              "<style scoped>\n",
              "    .dataframe tbody tr th:only-of-type {\n",
              "        vertical-align: middle;\n",
              "    }\n",
              "\n",
              "    .dataframe tbody tr th {\n",
              "        vertical-align: top;\n",
              "    }\n",
              "\n",
              "    .dataframe thead th {\n",
              "        text-align: right;\n",
              "    }\n",
              "</style>\n",
              "<table border=\"1\" class=\"dataframe\">\n",
              "  <thead>\n",
              "    <tr style=\"text-align: right;\">\n",
              "      <th></th>\n",
              "      <th>article_id</th>\n",
              "      <th>product_code</th>\n",
              "      <th>prod_name</th>\n",
              "      <th>product_type_no</th>\n",
              "      <th>product_type_name</th>\n",
              "      <th>product_group_name</th>\n",
              "      <th>graphical_appearance_no</th>\n",
              "      <th>graphical_appearance_name</th>\n",
              "      <th>colour_group_code</th>\n",
              "      <th>colour_group_name</th>\n",
              "      <th>...</th>\n",
              "      <th>department_name</th>\n",
              "      <th>index_code</th>\n",
              "      <th>index_name</th>\n",
              "      <th>index_group_no</th>\n",
              "      <th>index_group_name</th>\n",
              "      <th>section_no</th>\n",
              "      <th>section_name</th>\n",
              "      <th>garment_group_no</th>\n",
              "      <th>garment_group_name</th>\n",
              "      <th>detail_desc</th>\n",
              "    </tr>\n",
              "  </thead>\n",
              "  <tbody>\n",
              "    <tr>\n",
              "      <th>0</th>\n",
              "      <td>108775015</td>\n",
              "      <td>108775</td>\n",
              "      <td>Strap top</td>\n",
              "      <td>253</td>\n",
              "      <td>Vest top</td>\n",
              "      <td>Garment Upper body</td>\n",
              "      <td>1010016</td>\n",
              "      <td>Solid</td>\n",
              "      <td>9</td>\n",
              "      <td>Black</td>\n",
              "      <td>...</td>\n",
              "      <td>Jersey Basic</td>\n",
              "      <td>A</td>\n",
              "      <td>Ladieswear</td>\n",
              "      <td>1</td>\n",
              "      <td>Ladieswear</td>\n",
              "      <td>16</td>\n",
              "      <td>Womens Everyday Basics</td>\n",
              "      <td>1002</td>\n",
              "      <td>Jersey Basic</td>\n",
              "      <td>Jersey top with narrow shoulder straps.</td>\n",
              "    </tr>\n",
              "    <tr>\n",
              "      <th>1</th>\n",
              "      <td>108775044</td>\n",
              "      <td>108775</td>\n",
              "      <td>Strap top</td>\n",
              "      <td>253</td>\n",
              "      <td>Vest top</td>\n",
              "      <td>Garment Upper body</td>\n",
              "      <td>1010016</td>\n",
              "      <td>Solid</td>\n",
              "      <td>10</td>\n",
              "      <td>White</td>\n",
              "      <td>...</td>\n",
              "      <td>Jersey Basic</td>\n",
              "      <td>A</td>\n",
              "      <td>Ladieswear</td>\n",
              "      <td>1</td>\n",
              "      <td>Ladieswear</td>\n",
              "      <td>16</td>\n",
              "      <td>Womens Everyday Basics</td>\n",
              "      <td>1002</td>\n",
              "      <td>Jersey Basic</td>\n",
              "      <td>Jersey top with narrow shoulder straps.</td>\n",
              "    </tr>\n",
              "    <tr>\n",
              "      <th>2</th>\n",
              "      <td>108775051</td>\n",
              "      <td>108775</td>\n",
              "      <td>Strap top (1)</td>\n",
              "      <td>253</td>\n",
              "      <td>Vest top</td>\n",
              "      <td>Garment Upper body</td>\n",
              "      <td>1010017</td>\n",
              "      <td>Stripe</td>\n",
              "      <td>11</td>\n",
              "      <td>Off White</td>\n",
              "      <td>...</td>\n",
              "      <td>Jersey Basic</td>\n",
              "      <td>A</td>\n",
              "      <td>Ladieswear</td>\n",
              "      <td>1</td>\n",
              "      <td>Ladieswear</td>\n",
              "      <td>16</td>\n",
              "      <td>Womens Everyday Basics</td>\n",
              "      <td>1002</td>\n",
              "      <td>Jersey Basic</td>\n",
              "      <td>Jersey top with narrow shoulder straps.</td>\n",
              "    </tr>\n",
              "    <tr>\n",
              "      <th>3</th>\n",
              "      <td>110065001</td>\n",
              "      <td>110065</td>\n",
              "      <td>OP T-shirt (Idro)</td>\n",
              "      <td>306</td>\n",
              "      <td>Bra</td>\n",
              "      <td>Underwear</td>\n",
              "      <td>1010016</td>\n",
              "      <td>Solid</td>\n",
              "      <td>9</td>\n",
              "      <td>Black</td>\n",
              "      <td>...</td>\n",
              "      <td>Clean Lingerie</td>\n",
              "      <td>B</td>\n",
              "      <td>Lingeries/Tights</td>\n",
              "      <td>1</td>\n",
              "      <td>Ladieswear</td>\n",
              "      <td>61</td>\n",
              "      <td>Womens Lingerie</td>\n",
              "      <td>1017</td>\n",
              "      <td>Under-, Nightwear</td>\n",
              "      <td>Microfibre T-shirt bra with underwired, moulde...</td>\n",
              "    </tr>\n",
              "    <tr>\n",
              "      <th>4</th>\n",
              "      <td>110065002</td>\n",
              "      <td>110065</td>\n",
              "      <td>OP T-shirt (Idro)</td>\n",
              "      <td>306</td>\n",
              "      <td>Bra</td>\n",
              "      <td>Underwear</td>\n",
              "      <td>1010016</td>\n",
              "      <td>Solid</td>\n",
              "      <td>10</td>\n",
              "      <td>White</td>\n",
              "      <td>...</td>\n",
              "      <td>Clean Lingerie</td>\n",
              "      <td>B</td>\n",
              "      <td>Lingeries/Tights</td>\n",
              "      <td>1</td>\n",
              "      <td>Ladieswear</td>\n",
              "      <td>61</td>\n",
              "      <td>Womens Lingerie</td>\n",
              "      <td>1017</td>\n",
              "      <td>Under-, Nightwear</td>\n",
              "      <td>Microfibre T-shirt bra with underwired, moulde...</td>\n",
              "    </tr>\n",
              "  </tbody>\n",
              "</table>\n",
              "<p>5 rows × 25 columns</p>\n",
              "</div>\n",
              "      <button class=\"colab-df-convert\" onclick=\"convertToInteractive('df-6c117e95-b430-4f64-a623-04539cba1969')\"\n",
              "              title=\"Convert this dataframe to an interactive table.\"\n",
              "              style=\"display:none;\">\n",
              "        \n",
              "  <svg xmlns=\"http://www.w3.org/2000/svg\" height=\"24px\"viewBox=\"0 0 24 24\"\n",
              "       width=\"24px\">\n",
              "    <path d=\"M0 0h24v24H0V0z\" fill=\"none\"/>\n",
              "    <path d=\"M18.56 5.44l.94 2.06.94-2.06 2.06-.94-2.06-.94-.94-2.06-.94 2.06-2.06.94zm-11 1L8.5 8.5l.94-2.06 2.06-.94-2.06-.94L8.5 2.5l-.94 2.06-2.06.94zm10 10l.94 2.06.94-2.06 2.06-.94-2.06-.94-.94-2.06-.94 2.06-2.06.94z\"/><path d=\"M17.41 7.96l-1.37-1.37c-.4-.4-.92-.59-1.43-.59-.52 0-1.04.2-1.43.59L10.3 9.45l-7.72 7.72c-.78.78-.78 2.05 0 2.83L4 21.41c.39.39.9.59 1.41.59.51 0 1.02-.2 1.41-.59l7.78-7.78 2.81-2.81c.8-.78.8-2.07 0-2.86zM5.41 20L4 18.59l7.72-7.72 1.47 1.35L5.41 20z\"/>\n",
              "  </svg>\n",
              "      </button>\n",
              "      \n",
              "  <style>\n",
              "    .colab-df-container {\n",
              "      display:flex;\n",
              "      flex-wrap:wrap;\n",
              "      gap: 12px;\n",
              "    }\n",
              "\n",
              "    .colab-df-convert {\n",
              "      background-color: #E8F0FE;\n",
              "      border: none;\n",
              "      border-radius: 50%;\n",
              "      cursor: pointer;\n",
              "      display: none;\n",
              "      fill: #1967D2;\n",
              "      height: 32px;\n",
              "      padding: 0 0 0 0;\n",
              "      width: 32px;\n",
              "    }\n",
              "\n",
              "    .colab-df-convert:hover {\n",
              "      background-color: #E2EBFA;\n",
              "      box-shadow: 0px 1px 2px rgba(60, 64, 67, 0.3), 0px 1px 3px 1px rgba(60, 64, 67, 0.15);\n",
              "      fill: #174EA6;\n",
              "    }\n",
              "\n",
              "    [theme=dark] .colab-df-convert {\n",
              "      background-color: #3B4455;\n",
              "      fill: #D2E3FC;\n",
              "    }\n",
              "\n",
              "    [theme=dark] .colab-df-convert:hover {\n",
              "      background-color: #434B5C;\n",
              "      box-shadow: 0px 1px 3px 1px rgba(0, 0, 0, 0.15);\n",
              "      filter: drop-shadow(0px 1px 2px rgba(0, 0, 0, 0.3));\n",
              "      fill: #FFFFFF;\n",
              "    }\n",
              "  </style>\n",
              "\n",
              "      <script>\n",
              "        const buttonEl =\n",
              "          document.querySelector('#df-6c117e95-b430-4f64-a623-04539cba1969 button.colab-df-convert');\n",
              "        buttonEl.style.display =\n",
              "          google.colab.kernel.accessAllowed ? 'block' : 'none';\n",
              "\n",
              "        async function convertToInteractive(key) {\n",
              "          const element = document.querySelector('#df-6c117e95-b430-4f64-a623-04539cba1969');\n",
              "          const dataTable =\n",
              "            await google.colab.kernel.invokeFunction('convertToInteractive',\n",
              "                                                     [key], {});\n",
              "          if (!dataTable) return;\n",
              "\n",
              "          const docLinkHtml = 'Like what you see? Visit the ' +\n",
              "            '<a target=\"_blank\" href=https://colab.research.google.com/notebooks/data_table.ipynb>data table notebook</a>'\n",
              "            + ' to learn more about interactive tables.';\n",
              "          element.innerHTML = '';\n",
              "          dataTable['output_type'] = 'display_data';\n",
              "          await google.colab.output.renderOutput(dataTable, element);\n",
              "          const docLink = document.createElement('div');\n",
              "          docLink.innerHTML = docLinkHtml;\n",
              "          element.appendChild(docLink);\n",
              "        }\n",
              "      </script>\n",
              "    </div>\n",
              "  </div>\n",
              "  "
            ]
          },
          "metadata": {},
          "execution_count": 17
        },
        {
          "output_type": "stream",
          "name": "stdout",
          "text": [
            "Warning: Total number of columns (25) exceeds max_columns (20) limiting to first (20) columns.\n"
          ]
        }
      ]
    },
    {
      "cell_type": "markdown",
      "source": [
        "Most of the features are paired as id and name, data types are int and string. Features are nominal, no ordinal features in the articles data."
      ],
      "metadata": {
        "id": "1UF1xOxazlNa"
      }
    },
    {
      "cell_type": "code",
      "source": [
        "#@title {display-mode: \"form\"}\n",
        "articles.info()"
      ],
      "metadata": {
        "colab": {
          "base_uri": "https://localhost:8080/"
        },
        "id": "g3PqCG8tzdZf",
        "outputId": "e677d577-3882-4694-d22f-5f3e0690a298"
      },
      "execution_count": null,
      "outputs": [
        {
          "output_type": "stream",
          "name": "stdout",
          "text": [
            "<class 'pandas.core.frame.DataFrame'>\n",
            "RangeIndex: 105542 entries, 0 to 105541\n",
            "Data columns (total 25 columns):\n",
            " #   Column                        Non-Null Count   Dtype \n",
            "---  ------                        --------------   ----- \n",
            " 0   article_id                    105542 non-null  int64 \n",
            " 1   product_code                  105542 non-null  int64 \n",
            " 2   prod_name                     105542 non-null  object\n",
            " 3   product_type_no               105542 non-null  int64 \n",
            " 4   product_type_name             105542 non-null  object\n",
            " 5   product_group_name            105542 non-null  object\n",
            " 6   graphical_appearance_no       105542 non-null  int64 \n",
            " 7   graphical_appearance_name     105542 non-null  object\n",
            " 8   colour_group_code             105542 non-null  int64 \n",
            " 9   colour_group_name             105542 non-null  object\n",
            " 10  perceived_colour_value_id     105542 non-null  int64 \n",
            " 11  perceived_colour_value_name   105542 non-null  object\n",
            " 12  perceived_colour_master_id    105542 non-null  int64 \n",
            " 13  perceived_colour_master_name  105542 non-null  object\n",
            " 14  department_no                 105542 non-null  int64 \n",
            " 15  department_name               105542 non-null  object\n",
            " 16  index_code                    105542 non-null  object\n",
            " 17  index_name                    105542 non-null  object\n",
            " 18  index_group_no                105542 non-null  int64 \n",
            " 19  index_group_name              105542 non-null  object\n",
            " 20  section_no                    105542 non-null  int64 \n",
            " 21  section_name                  105542 non-null  object\n",
            " 22  garment_group_no              105542 non-null  int64 \n",
            " 23  garment_group_name            105542 non-null  object\n",
            " 24  detail_desc                   105126 non-null  object\n",
            "dtypes: int64(11), object(14)\n",
            "memory usage: 20.1+ MB\n"
          ]
        }
      ]
    },
    {
      "cell_type": "code",
      "source": [
        "#@title {display-mode: \"form\"}\n",
        "print(\"The size of the articles file is: \", articles.shape, \"\\n\")\n",
        "print(\"The number of null entries in 105542 rows for each feature are:\\n\")\n",
        "articles.isnull().sum()"
      ],
      "metadata": {
        "colab": {
          "base_uri": "https://localhost:8080/"
        },
        "id": "dA0FS2O8q4FO",
        "outputId": "7a4e41a3-a5c4-4e8c-973a-7fff841a1ed9"
      },
      "execution_count": null,
      "outputs": [
        {
          "output_type": "stream",
          "name": "stdout",
          "text": [
            "The size of the articles file is:  (105542, 25) \n",
            "\n",
            "The number of null entries in 105542 rows for each feature are:\n",
            "\n"
          ]
        },
        {
          "output_type": "execute_result",
          "data": {
            "text/plain": [
              "article_id                        0\n",
              "product_code                      0\n",
              "prod_name                         0\n",
              "product_type_no                   0\n",
              "product_type_name                 0\n",
              "product_group_name                0\n",
              "graphical_appearance_no           0\n",
              "graphical_appearance_name         0\n",
              "colour_group_code                 0\n",
              "colour_group_name                 0\n",
              "perceived_colour_value_id         0\n",
              "perceived_colour_value_name       0\n",
              "perceived_colour_master_id        0\n",
              "perceived_colour_master_name      0\n",
              "department_no                     0\n",
              "department_name                   0\n",
              "index_code                        0\n",
              "index_name                        0\n",
              "index_group_no                    0\n",
              "index_group_name                  0\n",
              "section_no                        0\n",
              "section_name                      0\n",
              "garment_group_no                  0\n",
              "garment_group_name                0\n",
              "detail_desc                     416\n",
              "dtype: int64"
            ]
          },
          "metadata": {},
          "execution_count": 25
        }
      ]
    },
    {
      "cell_type": "markdown",
      "source": [
        "This is a relatively large dataset with 100k+ rows of data. And almost none of the feature have any missing values, except for detail_desc."
      ],
      "metadata": {
        "id": "-MkvB2Zkt5a3"
      }
    },
    {
      "cell_type": "code",
      "source": [
        "#@title {display-mode: \"form\"}\n",
        "print(\"The number of items in each category are:\\n\")\n",
        "pd.value_counts(articles['index_name'])"
      ],
      "metadata": {
        "colab": {
          "base_uri": "https://localhost:8080/"
        },
        "id": "EQOm1p5yqXaE",
        "outputId": "eb8cae72-114e-4842-d9a0-34d5ee19e6ea"
      },
      "execution_count": null,
      "outputs": [
        {
          "output_type": "stream",
          "name": "stdout",
          "text": [
            "The number of items in each category are:\n",
            "\n"
          ]
        },
        {
          "output_type": "execute_result",
          "data": {
            "text/plain": [
              "Ladieswear                        26001\n",
              "Divided                           15149\n",
              "Menswear                          12553\n",
              "Children Sizes 92-140             12007\n",
              "Children Sizes 134-170             9214\n",
              "Baby Sizes 50-98                   8875\n",
              "Ladies Accessories                 6961\n",
              "Lingeries/Tights                   6775\n",
              "Children Accessories, Swimwear     4615\n",
              "Sport                              3392\n",
              "Name: index_name, dtype: int64"
            ]
          },
          "metadata": {},
          "execution_count": 26
        }
      ]
    },
    {
      "cell_type": "markdown",
      "source": [
        "Ladieswear, Divided, Menswear and Children categories make up most of the data. Let's visualize this with a distplot."
      ],
      "metadata": {
        "id": "J-REyWRZwBK7"
      }
    },
    {
      "cell_type": "markdown",
      "source": [
        "Let's look at the distribution of products for each category, which is product_group_name."
      ],
      "metadata": {
        "id": "ra7JbQ0mppkM"
      }
    },
    {
      "cell_type": "code",
      "source": [
        "#@title {display-mode: \"form\"}\n",
        "ax = sns.displot(data=articles, y='index_name', aspect=3)\n",
        "ax.set_axis_labels('Product Count', 'Prod Category')"
      ],
      "metadata": {
        "colab": {
          "base_uri": "https://localhost:8080/",
          "height": 386
        },
        "id": "pKNo5j5lp2YQ",
        "outputId": "7eedd95b-d70b-42f0-81c7-267e5c1c4f49"
      },
      "execution_count": null,
      "outputs": [
        {
          "output_type": "execute_result",
          "data": {
            "text/plain": [
              "<seaborn.axisgrid.FacetGrid at 0x7f4bcca03290>"
            ]
          },
          "metadata": {},
          "execution_count": 128
        },
        {
          "output_type": "display_data",
          "data": {
            "text/plain": [
              "<Figure size 1080x360 with 1 Axes>"
            ],
            "image/png": "[encoded data removed]"
          },
          "metadata": {
            "needs_background": "light"
          }
        }
      ]
    },
    {
      "cell_type": "markdown",
      "source": [
        "It can now be seen easier that the dominant category is Ladieswear, which has almost as much products as Divided (unisex products of h&m) and Menswear combined."
      ],
      "metadata": {
        "id": "RnqjWo0ezHxI"
      }
    },
    {
      "cell_type": "markdown",
      "source": [
        "### Distribution of Categories (menswear, ladieswear, divided etc.) in the product categories (trousers, shirts etc.)"
      ],
      "metadata": {
        "id": "Wi87bX3eOAbI"
      }
    },
    {
      "cell_type": "code",
      "source": [
        "#@title\n",
        "ax = sns.displot(data=articles, y='product_group_name', color='orange', hue='index_group_name', multiple='stack', aspect=3)\n",
        "ax.set_axis_labels('Count By Garment Group', 'Garment Group')"
      ],
      "metadata": {
        "colab": {
          "base_uri": "https://localhost:8080/",
          "height": 386
        },
        "cellView": "form",
        "id": "Tq3rXVzv2gQM",
        "outputId": "d3434fbe-c6e9-4aa7-8aa7-9409cf295810"
      },
      "execution_count": null,
      "outputs": [
        {
          "output_type": "execute_result",
          "data": {
            "text/plain": [
              "<seaborn.axisgrid.FacetGrid at 0x7f4bce4b2a90>"
            ]
          },
          "metadata": {},
          "execution_count": 125
        },
        {
          "output_type": "display_data",
          "data": {
            "text/plain": [
              "<Figure size 1186.25x360 with 1 Axes>"
            ],
            "image/png": "[encoded data removed]"
          },
          "metadata": {
            "needs_background": "light"
          }
        }
      ]
    },
    {
      "cell_type": "markdown",
      "source": [
        "A more detailed plot of product subcategories in the index_group_name categories. Let's examine a few. Shoes category is mainly for women and children, knitwear and trousers look more evenly distributed. "
      ],
      "metadata": {
        "id": "bXHsrjUFt3Mp"
      }
    },
    {
      "cell_type": "code",
      "source": [
        "#@title {display-mode: \"form\"}\n",
        "ax = sns.displot(data=articles, y='garment_group_name', color='orange', hue='index_group_name', multiple='stack', aspect=3)\n",
        "ax.set_axis_labels('Count By Garment Group', 'Garment Group')"
      ],
      "metadata": {
        "colab": {
          "base_uri": "https://localhost:8080/",
          "height": 386
        },
        "id": "8UbYY8OErVIX",
        "outputId": "5eda84fc-ffb0-4b3e-e3b1-6240c90c501d"
      },
      "execution_count": null,
      "outputs": [
        {
          "output_type": "execute_result",
          "data": {
            "text/plain": [
              "<seaborn.axisgrid.FacetGrid at 0x7f4bcd641810>"
            ]
          },
          "metadata": {},
          "execution_count": 126
        },
        {
          "output_type": "display_data",
          "data": {
            "text/plain": [
              "<Figure size 1186.25x360 with 1 Axes>"
            ],
            "image/png": "[encoded data removed]"
          },
          "metadata": {
            "needs_background": "light"
          }
        }
      ]
    },
    {
      "cell_type": "markdown",
      "source": [
        "Total number of products in each category (index_group_name) and subcategory (index_name)\n",
        "(feature names are really confusing...)"
      ],
      "metadata": {
        "id": "Y4I4vSXAw4P0"
      }
    },
    {
      "cell_type": "code",
      "source": [
        "#@title\n",
        "articles.groupby(['index_group_name', 'index_name']).count()['article_id']"
      ],
      "metadata": {
        "colab": {
          "base_uri": "https://localhost:8080/"
        },
        "cellView": "form",
        "id": "RTTnQ0GglRcF",
        "outputId": "3e17d882-e3b2-404e-ee49-5b6a412b5a07"
      },
      "execution_count": null,
      "outputs": [
        {
          "output_type": "execute_result",
          "data": {
            "text/plain": [
              "index_group_name  index_name                    \n",
              "Baby/Children     Baby Sizes 50-98                   8875\n",
              "                  Children Accessories, Swimwear     4615\n",
              "                  Children Sizes 134-170             9214\n",
              "                  Children Sizes 92-140             12007\n",
              "Divided           Divided                           15149\n",
              "Ladieswear        Ladies Accessories                 6961\n",
              "                  Ladieswear                        26001\n",
              "                  Lingeries/Tights                   6775\n",
              "Menswear          Menswear                          12553\n",
              "Sport             Sport                              3392\n",
              "Name: article_id, dtype: int64"
            ]
          },
          "metadata": {},
          "execution_count": 95
        }
      ]
    },
    {
      "cell_type": "markdown",
      "source": [
        "Product counts in each category (product_group_name), equivalent of the second plot."
      ],
      "metadata": {
        "id": "3qaYVnxjxbjv"
      }
    },
    {
      "cell_type": "code",
      "source": [
        "#@title\n",
        "articles.groupby('product_group_name').count()['index_group_name']"
      ],
      "metadata": {
        "colab": {
          "base_uri": "https://localhost:8080/"
        },
        "cellView": "form",
        "id": "yz1eIEtGmPiZ",
        "outputId": "5acbb9fa-b4b3-4ff6-9974-796aab0a6286"
      },
      "execution_count": null,
      "outputs": [
        {
          "output_type": "execute_result",
          "data": {
            "text/plain": [
              "product_group_name\n",
              "Accessories              11158\n",
              "Bags                        25\n",
              "Cosmetic                    49\n",
              "Fun                          2\n",
              "Furniture                   13\n",
              "Garment Full body        13292\n",
              "Garment Lower body       19812\n",
              "Garment Upper body       42741\n",
              "Garment and Shoe care        9\n",
              "Interior textile             3\n",
              "Items                       17\n",
              "Nightwear                 1899\n",
              "Shoes                     5283\n",
              "Socks & Tights            2442\n",
              "Stationery                   5\n",
              "Swimwear                  3127\n",
              "Underwear                 5490\n",
              "Underwear/nightwear         54\n",
              "Unknown                    121\n",
              "Name: index_group_name, dtype: int64"
            ]
          },
          "metadata": {},
          "execution_count": 124
        }
      ]
    },
    {
      "cell_type": "code",
      "source": [
        "#@title\n",
        "print(\"Number of unique categories in index_group_name (ladieswear, menswear etc): \",articles['index_group_name'].nunique())\n",
        "print(\"Number of unique colours:\", articles['colour_group_name'].nunique())\n",
        "print(\"Number of unique product categories (shoes, accessories, underwear etc): \", articles[\"product_group_name\"].nunique())\n",
        "print(\"Number of unique product subcategory (boots - sneakers, bras - boxers etc): \", articles['product_type_name'].nunique())"
      ],
      "metadata": {
        "colab": {
          "base_uri": "https://localhost:8080/"
        },
        "cellView": "form",
        "id": "coXBJaRL2GjE",
        "outputId": "8bfc5f97-548a-4a57-f131-a8ad43e9174c"
      },
      "execution_count": null,
      "outputs": [
        {
          "output_type": "stream",
          "name": "stdout",
          "text": [
            "Number of unique categories in index_group_name (ladieswear, menswear etc):  5\n",
            "Number of unique colours: 50\n",
            "Number of unique product categories (shoes, accessories, underwear etc):  19\n",
            "Number of unique product subcategory (boots - sneakers, bras - boxers etc):  131\n"
          ]
        }
      ]
    },
    {
      "cell_type": "markdown",
      "source": [
        "## Customers Data"
      ],
      "metadata": {
        "id": "btX8-eSZ_3j2"
      }
    },
    {
      "cell_type": "code",
      "source": [
        "#@title {display-mode: \"form\"}\n",
        "print(\"The shape of the customers data is:\",customers.shape)"
      ],
      "metadata": {
        "colab": {
          "base_uri": "https://localhost:8080/"
        },
        "id": "ZgSysaH1AQG4",
        "outputId": "9a42d47a-dde0-43b5-a59b-a1cf2feab43f"
      },
      "execution_count": null,
      "outputs": [
        {
          "output_type": "stream",
          "name": "stdout",
          "text": [
            "The shape of the customers data is: (1371980, 7)\n"
          ]
        }
      ]
    },
    {
      "cell_type": "markdown",
      "source": [
        "Let's take a look at the data and see what the features are."
      ],
      "metadata": {
        "id": "DBDqSgOw9bSr"
      }
    },
    {
      "cell_type": "code",
      "source": [
        "#@title {display-mode: \"form\"}\n",
        "customers.head()"
      ],
      "metadata": {
        "colab": {
          "base_uri": "https://localhost:8080/",
          "height": 215
        },
        "id": "ZlqHUZ3nAHJY",
        "outputId": "86544239-3abc-447a-d93c-dcab891bd8e2"
      },
      "execution_count": null,
      "outputs": [
        {
          "output_type": "execute_result",
          "data": {
            "text/plain": [
              "                                         customer_id   FN  Active  \\\n",
              "0  00000dbacae5abe5e23885899a1fa44253a17956c6d1c3...  NaN     NaN   \n",
              "1  0000423b00ade91418cceaf3b26c6af3dd342b51fd051e...  NaN     NaN   \n",
              "2  000058a12d5b43e67d225668fa1f8d618c13dc232df0ca...  NaN     NaN   \n",
              "3  00005ca1c9ed5f5146b52ac8639a40ca9d57aeff4d1bd2...  NaN     NaN   \n",
              "4  00006413d8573cd20ed7128e53b7b13819fe5cfc2d801f...  1.0     1.0   \n",
              "\n",
              "  club_member_status fashion_news_frequency   age  \\\n",
              "0             ACTIVE                   NONE  49.0   \n",
              "1             ACTIVE                   NONE  25.0   \n",
              "2             ACTIVE                   NONE  24.0   \n",
              "3             ACTIVE                   NONE  54.0   \n",
              "4             ACTIVE              Regularly  52.0   \n",
              "\n",
              "                                         postal_code  \n",
              "0  52043ee2162cf5aa7ee79974281641c6f11a68d276429a...  \n",
              "1  2973abc54daa8a5f8ccfe9362140c63247c5eee03f1d93...  \n",
              "2  64f17e6a330a85798e4998f62d0930d14db8db1c054af6...  \n",
              "3  5d36574f52495e81f019b680c843c443bd343d5ca5b1c2...  \n",
              "4  25fa5ddee9aac01b35208d01736e57942317d756b32ddd...  "
            ],
            "text/html": [
              "\n",
              "  <div id=\"df-3bc5e227-14fe-4ce0-9618-631c29be67ff\">\n",
              "    <div class=\"colab-df-container\">\n",
              "      <div>\n",
              "<style scoped>\n",
              "    .dataframe tbody tr th:only-of-type {\n",
              "        vertical-align: middle;\n",
              "    }\n",
              "\n",
              "    .dataframe tbody tr th {\n",
              "        vertical-align: top;\n",
              "    }\n",
              "\n",
              "    .dataframe thead th {\n",
              "        text-align: right;\n",
              "    }\n",
              "</style>\n",
              "<table border=\"1\" class=\"dataframe\">\n",
              "  <thead>\n",
              "    <tr style=\"text-align: right;\">\n",
              "      <th></th>\n",
              "      <th>customer_id</th>\n",
              "      <th>FN</th>\n",
              "      <th>Active</th>\n",
              "      <th>club_member_status</th>\n",
              "      <th>fashion_news_frequency</th>\n",
              "      <th>age</th>\n",
              "      <th>postal_code</th>\n",
              "    </tr>\n",
              "  </thead>\n",
              "  <tbody>\n",
              "    <tr>\n",
              "      <th>0</th>\n",
              "      <td>00000dbacae5abe5e23885899a1fa44253a17956c6d1c3...</td>\n",
              "      <td>NaN</td>\n",
              "      <td>NaN</td>\n",
              "      <td>ACTIVE</td>\n",
              "      <td>NONE</td>\n",
              "      <td>49.0</td>\n",
              "      <td>52043ee2162cf5aa7ee79974281641c6f11a68d276429a...</td>\n",
              "    </tr>\n",
              "    <tr>\n",
              "      <th>1</th>\n",
              "      <td>0000423b00ade91418cceaf3b26c6af3dd342b51fd051e...</td>\n",
              "      <td>NaN</td>\n",
              "      <td>NaN</td>\n",
              "      <td>ACTIVE</td>\n",
              "      <td>NONE</td>\n",
              "      <td>25.0</td>\n",
              "      <td>2973abc54daa8a5f8ccfe9362140c63247c5eee03f1d93...</td>\n",
              "    </tr>\n",
              "    <tr>\n",
              "      <th>2</th>\n",
              "      <td>000058a12d5b43e67d225668fa1f8d618c13dc232df0ca...</td>\n",
              "      <td>NaN</td>\n",
              "      <td>NaN</td>\n",
              "      <td>ACTIVE</td>\n",
              "      <td>NONE</td>\n",
              "      <td>24.0</td>\n",
              "      <td>64f17e6a330a85798e4998f62d0930d14db8db1c054af6...</td>\n",
              "    </tr>\n",
              "    <tr>\n",
              "      <th>3</th>\n",
              "      <td>00005ca1c9ed5f5146b52ac8639a40ca9d57aeff4d1bd2...</td>\n",
              "      <td>NaN</td>\n",
              "      <td>NaN</td>\n",
              "      <td>ACTIVE</td>\n",
              "      <td>NONE</td>\n",
              "      <td>54.0</td>\n",
              "      <td>5d36574f52495e81f019b680c843c443bd343d5ca5b1c2...</td>\n",
              "    </tr>\n",
              "    <tr>\n",
              "      <th>4</th>\n",
              "      <td>00006413d8573cd20ed7128e53b7b13819fe5cfc2d801f...</td>\n",
              "      <td>1.0</td>\n",
              "      <td>1.0</td>\n",
              "      <td>ACTIVE</td>\n",
              "      <td>Regularly</td>\n",
              "      <td>52.0</td>\n",
              "      <td>25fa5ddee9aac01b35208d01736e57942317d756b32ddd...</td>\n",
              "    </tr>\n",
              "  </tbody>\n",
              "</table>\n",
              "</div>\n",
              "      <button class=\"colab-df-convert\" onclick=\"convertToInteractive('df-3bc5e227-14fe-4ce0-9618-631c29be67ff')\"\n",
              "              title=\"Convert this dataframe to an interactive table.\"\n",
              "              style=\"display:none;\">\n",
              "        \n",
              "  <svg xmlns=\"http://www.w3.org/2000/svg\" height=\"24px\"viewBox=\"0 0 24 24\"\n",
              "       width=\"24px\">\n",
              "    <path d=\"M0 0h24v24H0V0z\" fill=\"none\"/>\n",
              "    <path d=\"M18.56 5.44l.94 2.06.94-2.06 2.06-.94-2.06-.94-.94-2.06-.94 2.06-2.06.94zm-11 1L8.5 8.5l.94-2.06 2.06-.94-2.06-.94L8.5 2.5l-.94 2.06-2.06.94zm10 10l.94 2.06.94-2.06 2.06-.94-2.06-.94-.94-2.06-.94 2.06-2.06.94z\"/><path d=\"M17.41 7.96l-1.37-1.37c-.4-.4-.92-.59-1.43-.59-.52 0-1.04.2-1.43.59L10.3 9.45l-7.72 7.72c-.78.78-.78 2.05 0 2.83L4 21.41c.39.39.9.59 1.41.59.51 0 1.02-.2 1.41-.59l7.78-7.78 2.81-2.81c.8-.78.8-2.07 0-2.86zM5.41 20L4 18.59l7.72-7.72 1.47 1.35L5.41 20z\"/>\n",
              "  </svg>\n",
              "      </button>\n",
              "      \n",
              "  <style>\n",
              "    .colab-df-container {\n",
              "      display:flex;\n",
              "      flex-wrap:wrap;\n",
              "      gap: 12px;\n",
              "    }\n",
              "\n",
              "    .colab-df-convert {\n",
              "      background-color: #E8F0FE;\n",
              "      border: none;\n",
              "      border-radius: 50%;\n",
              "      cursor: pointer;\n",
              "      display: none;\n",
              "      fill: #1967D2;\n",
              "      height: 32px;\n",
              "      padding: 0 0 0 0;\n",
              "      width: 32px;\n",
              "    }\n",
              "\n",
              "    .colab-df-convert:hover {\n",
              "      background-color: #E2EBFA;\n",
              "      box-shadow: 0px 1px 2px rgba(60, 64, 67, 0.3), 0px 1px 3px 1px rgba(60, 64, 67, 0.15);\n",
              "      fill: #174EA6;\n",
              "    }\n",
              "\n",
              "    [theme=dark] .colab-df-convert {\n",
              "      background-color: #3B4455;\n",
              "      fill: #D2E3FC;\n",
              "    }\n",
              "\n",
              "    [theme=dark] .colab-df-convert:hover {\n",
              "      background-color: #434B5C;\n",
              "      box-shadow: 0px 1px 3px 1px rgba(0, 0, 0, 0.15);\n",
              "      filter: drop-shadow(0px 1px 2px rgba(0, 0, 0, 0.3));\n",
              "      fill: #FFFFFF;\n",
              "    }\n",
              "  </style>\n",
              "\n",
              "      <script>\n",
              "        const buttonEl =\n",
              "          document.querySelector('#df-3bc5e227-14fe-4ce0-9618-631c29be67ff button.colab-df-convert');\n",
              "        buttonEl.style.display =\n",
              "          google.colab.kernel.accessAllowed ? 'block' : 'none';\n",
              "\n",
              "        async function convertToInteractive(key) {\n",
              "          const element = document.querySelector('#df-3bc5e227-14fe-4ce0-9618-631c29be67ff');\n",
              "          const dataTable =\n",
              "            await google.colab.kernel.invokeFunction('convertToInteractive',\n",
              "                                                     [key], {});\n",
              "          if (!dataTable) return;\n",
              "\n",
              "          const docLinkHtml = 'Like what you see? Visit the ' +\n",
              "            '<a target=\"_blank\" href=https://colab.research.google.com/notebooks/data_table.ipynb>data table notebook</a>'\n",
              "            + ' to learn more about interactive tables.';\n",
              "          element.innerHTML = '';\n",
              "          dataTable['output_type'] = 'display_data';\n",
              "          await google.colab.output.renderOutput(dataTable, element);\n",
              "          const docLink = document.createElement('div');\n",
              "          docLink.innerHTML = docLinkHtml;\n",
              "          element.appendChild(docLink);\n",
              "        }\n",
              "      </script>\n",
              "    </div>\n",
              "  </div>\n",
              "  "
            ]
          },
          "metadata": {},
          "execution_count": 9
        }
      ]
    },
    {
      "cell_type": "markdown",
      "source": [
        "The customers data stores the customer id's, their membership informations for H&M and some personal information, customer metadata. Let's take a look.\n",
        "-  customer_id(int): The id of each customer in the database\n",
        "-  FN(categorical): ?\n",
        "-  Active(categorical): ?\n",
        "-  club_member_status(categorical): Whether the customer is using an h&m card actively?\n",
        "-  fashion_news_frequency(categorical): How frequently the customer is notified of new products, sales etc.? (regularly, monthly)\n",
        "-  age(int): The age of each customer\n",
        "-  postal_code(str): Postal code of each customer, can be duplicates"
      ],
      "metadata": {
        "id": "e-vjygidCkWC"
      }
    },
    {
      "cell_type": "code",
      "source": [
        "#@title {display-mode: \"form\"}\n",
        "customers.info()"
      ],
      "metadata": {
        "colab": {
          "base_uri": "https://localhost:8080/"
        },
        "id": "AP_Pa7eb_5Gb",
        "outputId": "9edf7ccd-870a-4d5e-ca67-df0b68369558"
      },
      "execution_count": null,
      "outputs": [
        {
          "output_type": "stream",
          "name": "stdout",
          "text": [
            "<class 'pandas.core.frame.DataFrame'>\n",
            "RangeIndex: 1371980 entries, 0 to 1371979\n",
            "Data columns (total 7 columns):\n",
            " #   Column                  Non-Null Count    Dtype  \n",
            "---  ------                  --------------    -----  \n",
            " 0   customer_id             1371980 non-null  object \n",
            " 1   FN                      476930 non-null   float64\n",
            " 2   Active                  464404 non-null   float64\n",
            " 3   club_member_status      1365918 non-null  object \n",
            " 4   fashion_news_frequency  1355971 non-null  object \n",
            " 5   age                     1356119 non-null  float64\n",
            " 6   postal_code             1371980 non-null  object \n",
            "dtypes: float64(3), object(4)\n",
            "memory usage: 73.3+ MB\n"
          ]
        }
      ]
    },
    {
      "cell_type": "markdown",
      "source": [
        "The row count we got from the shape and info is 1371980 so we can see from the info results, we've a lot of missing values in FN and Active columns, and also some missing values in columns 3, 4 and 5. Let's examine those and the unique values in those columns to better understand what they represent before we sum up the features.\n",
        "\n",
        "- Unique values in the 'fashion_news_frequency' column and their distributions are:"
      ],
      "metadata": {
        "id": "73g1ahK6ADIK"
      }
    },
    {
      "cell_type": "code",
      "source": [
        "#@title {display-mode: \"form\"}\n",
        "print(\"The entries in fashion_news_frequency and their distributions are:\\n\", customers['fashion_news_frequency'].value_counts(), \"\\n\")\n",
        "print(\"The number of null values in fashion_news_frequency are:\", customers['fashion_news_frequency'].isnull().sum(), \"\\n\")\n",
        "print(\"The null values make up \", \"{:.2f}\".format((customers['fashion_news_frequency'].isnull().sum()*100)/len(customers['fashion_news_frequency'])),\"%\\n\")\n",
        "#print(((customers['fashion_news_frequency'] == 'NONE').count()*100/len(customers['fashion_news_frequency'])) ,\"% of the customers do not get any notifications for sales or new products.\")\n",
        "print(\"{:.2f}\".format((877711*100)/1355971), \"% of the customers do not get any notifications for sales or new products.\")"
      ],
      "metadata": {
        "colab": {
          "base_uri": "https://localhost:8080/"
        },
        "id": "_w3rqWVRCESA",
        "outputId": "8ec91e73-0ed4-4631-f788-2cf418ecf781"
      },
      "execution_count": 39,
      "outputs": [
        {
          "output_type": "stream",
          "name": "stdout",
          "text": [
            "The entries in fashion_news_frequency and their distributions are:\n",
            " NONE         877711\n",
            "Regularly    477416\n",
            "Monthly         842\n",
            "None              2\n",
            "Name: fashion_news_frequency, dtype: int64 \n",
            "\n",
            "The number of null values in fashion_news_frequency are: 16009 \n",
            "\n",
            "The null values make up  1.17 %\n",
            "\n",
            "64.73 % of the customers do not get any notifications for sales or new products.\n"
          ]
        }
      ]
    },
    {
      "cell_type": "code",
      "source": [
        "#@title {display-mode: \"form\"}\n",
        "customers[customers['fashion_news_frequency'] == 'NONE'].sum()"
      ],
      "metadata": {
        "id": "SXaoH_rfllWa"
      },
      "execution_count": null,
      "outputs": []
    },
    {
      "cell_type": "markdown",
      "source": [
        "There are 16k data points missing in this column but since the dataset is pretty large, that makes up of only 1.17% of the whole column and that's permissable. Let me just replace the 2 None values with NONE so that it is consistent."
      ],
      "metadata": {
        "id": "MGT6ZOutEfyI"
      }
    },
    {
      "cell_type": "code",
      "source": [
        "#@title {display-mode: \"form\"}\n",
        "customers['fashion_news_frequency'] = customers['fashion_news_frequency'].replace(['None'], 'NONE')\n",
        "print(\"The entries in fashion_news_frequency and their distributions are:\\n\", customers['fashion_news_frequency'].value_counts(), \"\\n\")"
      ],
      "metadata": {
        "id": "syKyxDyeUTdJ",
        "colab": {
          "base_uri": "https://localhost:8080/"
        },
        "outputId": "349a5411-8ab1-42ed-e496-4e71f3c3a4c4"
      },
      "execution_count": null,
      "outputs": [
        {
          "output_type": "stream",
          "name": "stdout",
          "text": [
            "The entries in fashion_news_frequency and their distributions are:\n",
            " NONE         877713\n",
            "Regularly    477416\n",
            "Monthly         842\n",
            "Name: fashion_news_frequency, dtype: int64 \n",
            "\n"
          ]
        }
      ]
    },
    {
      "cell_type": "markdown",
      "source": [
        "There we go.\n",
        "\n",
        "Let's now look at the worst features, FN and Active."
      ],
      "metadata": {
        "id": "p1ralf4NUmqV"
      }
    },
    {
      "cell_type": "code",
      "source": [
        "#@title {display-mode: \"form\"}\n",
        "print(\"The entries in FN and their distributions are:\\n\", customers['FN'].value_counts(), \"\\n\")\n",
        "print(\"The number of null values in FN are:\", customers['FN'].isnull().sum(), \"\\n\")\n",
        "print(\"The null values make up \", \"{:.2f}\".format((customers['FN'].isnull().sum()*100)/len(customers['FN'])),\"%\")"
      ],
      "metadata": {
        "colab": {
          "base_uri": "https://localhost:8080/"
        },
        "id": "4fEVwbyREsbE",
        "outputId": "4c89e6ce-5ad2-42aa-b311-2ed6bbd2ad46"
      },
      "execution_count": null,
      "outputs": [
        {
          "output_type": "stream",
          "name": "stdout",
          "text": [
            "The entries in FN and their distributions are:\n",
            " 1.0    476930\n",
            "Name: FN, dtype: int64 \n",
            "\n",
            "The number of null values in FN are: 895050 \n",
            "\n",
            "The null values make up  65.24 %\n"
          ]
        }
      ]
    },
    {
      "cell_type": "markdown",
      "source": [
        "More than half of the FN column is null and we don't know what the feature represents so it looks like a good idea to discard it."
      ],
      "metadata": {
        "id": "JEmbgD0xWLPK"
      }
    },
    {
      "cell_type": "code",
      "source": [
        "#@title {display-mode: \"form\"}\n",
        "print(\"The entries in Active and their distributions are:\\n\", customers['Active'].value_counts(), \"\\n\")\n",
        "print(\"The number of null values in Active are:\", customers['Active'].isnull().sum(), \"\\n\")\n",
        "print(\"The null values make up \", \"{:.2f}\".format((customers['Active'].isnull().sum()*100)/len(customers['Active'])),\"%\")"
      ],
      "metadata": {
        "colab": {
          "base_uri": "https://localhost:8080/"
        },
        "id": "ySuMVAF6FzUB",
        "outputId": "28ea4013-e8e4-48df-c574-c58f7ebb2ac0"
      },
      "execution_count": null,
      "outputs": [
        {
          "output_type": "stream",
          "name": "stdout",
          "text": [
            "The entries in Active and their distributions are:\n",
            " 1.0    464404\n",
            "Name: Active, dtype: int64 \n",
            "\n",
            "The number of null values in Active are: 907576 \n",
            "\n",
            "The null values make up  66.15 %\n"
          ]
        }
      ]
    },
    {
      "cell_type": "markdown",
      "source": [
        "Same with the Active column, 66.15% is null. I'd guess that this column represents that the customer is active(1.0) if they shop at h&m at some predetermined frequency but still having a column with 90k null values is not good."
      ],
      "metadata": {
        "id": "a4YAOtj3W8yI"
      }
    },
    {
      "cell_type": "markdown",
      "source": [
        "Let's see the age distribution and how many people did not register their age so that we can maybe impute the null values for this."
      ],
      "metadata": {
        "id": "dlO3o3GsXZ7s"
      }
    },
    {
      "cell_type": "code",
      "source": [
        "#@title {display-mode: \"form\"}\n",
        "print(\"The number of null values in age are:\", customers['age'].isnull().sum(), \"\\n\")\n",
        "print(\"The null values make up \", \"{:.2f}\".format((customers['age'].isnull().sum()*100)/len(customers['age'])),\"%\")"
      ],
      "metadata": {
        "colab": {
          "base_uri": "https://localhost:8080/"
        },
        "id": "FJOQDmm7XV1U",
        "outputId": "fb1a7a94-519c-4b4e-d539-331814def2a6"
      },
      "execution_count": null,
      "outputs": [
        {
          "output_type": "stream",
          "name": "stdout",
          "text": [
            "The number of null values in age are: 15861 \n",
            "\n",
            "The null values make up  1.16 %\n"
          ]
        }
      ]
    },
    {
      "cell_type": "code",
      "source": [
        "#@title {display-mode: \"form\"}\n",
        "age_plot = sns.displot(data=customers, x='age', aspect=2)\n",
        "age_plot.set_axis_labels('Ages', 'Count')\n",
        "plt.show()"
      ],
      "metadata": {
        "colab": {
          "base_uri": "https://localhost:8080/",
          "height": 369
        },
        "id": "VfSNasvEaXuW",
        "outputId": "eb6bac51-8ab6-44c5-ee40-8d3181f2aaaf"
      },
      "execution_count": null,
      "outputs": [
        {
          "output_type": "display_data",
          "data": {
            "text/plain": [
              "<Figure size 720x360 with 1 Axes>"
            ],
            "image/png": "[encoded data removed]"
          },
          "metadata": {
            "needs_background": "light"
          }
        }
      ]
    },
    {
      "cell_type": "markdown",
      "source": [
        "Most of the customers are between ages 20 and 30, a significant amount is between 45-55.Let's take a closer look into the age data, see some descriptive statistics and examine the outliers. We can replace the outliers with the mean or median value of the age column, depending on which one represents the age better. But we can also remove them if we want since the number of outliers is really low, probably < 1%."
      ],
      "metadata": {
        "id": "XCs9x4TQgQwE"
      }
    },
    {
      "cell_type": "markdown",
      "source": [
        "Let's bin the age values and see how they're grouped"
      ],
      "metadata": {
        "id": "jwueOwsQDdht"
      }
    },
    {
      "cell_type": "code",
      "source": [
        "#@title {display-mode: \"form\"}\n",
        "customers['age'].value_counts(bins=10, ascending=False)"
      ],
      "metadata": {
        "colab": {
          "base_uri": "https://localhost:8080/"
        },
        "id": "gmQVzt5TjPN7",
        "outputId": "fa5fc4af-9b80-41df-8330-cab7b78829f0"
      },
      "execution_count": 33,
      "outputs": [
        {
          "output_type": "execute_result",
          "data": {
            "text/plain": [
              "(15.916, 24.3]    357169\n",
              "(24.3, 32.6]      346715\n",
              "(49.2, 57.5]      196469\n",
              "(40.9, 49.2]      187960\n",
              "(32.6, 40.9]      146283\n",
              "(57.5, 65.8]       83956\n",
              "(65.8, 74.1]       31583\n",
              "(74.1, 82.4]        5388\n",
              "(82.4, 90.7]         519\n",
              "(90.7, 99.0]          77\n",
              "Name: age, dtype: int64"
            ]
          },
          "metadata": {},
          "execution_count": 33
        }
      ]
    },
    {
      "cell_type": "code",
      "source": [
        "#@title {display-mode: \"form\"}\n",
        "print(\"{:.2f}\".format((703884*100)/1356119), \"% of the customers are between the ages of 15.9 and 32.6\")"
      ],
      "metadata": {
        "colab": {
          "base_uri": "https://localhost:8080/"
        },
        "id": "X0pnsYsVHe6a",
        "outputId": "daa298e5-6040-4dc0-c91e-60ea1d2519ac"
      },
      "execution_count": 54,
      "outputs": [
        {
          "output_type": "stream",
          "name": "stdout",
          "text": [
            "51.90 % of the customers are between the ages of 15.9 and 32.6\n"
          ]
        }
      ]
    },
    {
      "cell_type": "markdown",
      "source": [
        "The results of the describe function for the age column are a bit ugly so let's do some of them manually."
      ],
      "metadata": {
        "id": "46bmC5y-JtY2"
      }
    },
    {
      "cell_type": "code",
      "source": [
        "#@title {display-mode: \"form\"}\n",
        "print(\"Mean age value:\", customers['age'].mean())\n",
        "print(\"The median age value is:\", customers['age'].median())\n",
        "print(\"Standard deviation of age:\", customers['age'].std())"
      ],
      "metadata": {
        "colab": {
          "base_uri": "https://localhost:8080/"
        },
        "id": "D5hTNsX0J_6g",
        "outputId": "768fe894-654f-4e02-d08b-cb460c038b17"
      },
      "execution_count": 57,
      "outputs": [
        {
          "output_type": "stream",
          "name": "stdout",
          "text": [
            "Mean age value: 36.386964565794\n",
            "The median age value is: 32.0\n",
            "Standard deviation of age: 14.313627981635868\n"
          ]
        }
      ]
    },
    {
      "cell_type": "markdown",
      "source": [
        "Now let's plot a boxplot for age."
      ],
      "metadata": {
        "id": "BOn8U5ZtHdJt"
      }
    },
    {
      "cell_type": "code",
      "source": [
        "#@title {display-mode: \"form\"}\n",
        "sns.boxplot(data=customers, x='age')"
      ],
      "metadata": {
        "colab": {
          "base_uri": "https://localhost:8080/",
          "height": 296
        },
        "id": "240_fmc4FD_E",
        "outputId": "8ba741c9-4ff8-412f-c759-ae002020db08"
      },
      "execution_count": 51,
      "outputs": [
        {
          "output_type": "execute_result",
          "data": {
            "text/plain": [
              "<matplotlib.axes._subplots.AxesSubplot at 0x7fea823fa410>"
            ]
          },
          "metadata": {},
          "execution_count": 51
        },
        {
          "output_type": "display_data",
          "data": {
            "text/plain": [
              "<Figure size 432x288 with 1 Axes>"
            ],
            "image/png": "[encoded data removed]"
          },
          "metadata": {
            "needs_background": "light"
          }
        }
      ]
    },
    {
      "cell_type": "code",
      "source": [
        "#@title {display-mode: \"form\"}\n",
        "customers.groupby('age', as_index=False).count()"
      ],
      "metadata": {
        "colab": {
          "base_uri": "https://localhost:8080/",
          "height": 419
        },
        "id": "opPEF3WUj-3S",
        "outputId": "68919a64-c1f4-406d-ba1e-b69ae5eca6ba"
      },
      "execution_count": null,
      "outputs": [
        {
          "output_type": "execute_result",
          "data": {
            "text/plain": [
              "     age  customer_id     FN  Active  club_member_status  \\\n",
              "0   16.0          161     74      73                 159   \n",
              "1   17.0         9392   2981    2924                9379   \n",
              "2   18.0        24323   8105    7860               24295   \n",
              "3   19.0        37707  15070   14515               37627   \n",
              "4   20.0        55196  21915   21091               55050   \n",
              "..   ...          ...    ...     ...                 ...   \n",
              "79  95.0           10      2       2                  10   \n",
              "80  96.0            3      0       0                   3   \n",
              "81  97.0            4      1       1                   4   \n",
              "82  98.0            7      2       1                   7   \n",
              "83  99.0           13      5       5                  13   \n",
              "\n",
              "    fashion_news_frequency  postal_code  \n",
              "0                      161          161  \n",
              "1                     9367         9392  \n",
              "2                    23930        24323  \n",
              "3                    37380        37707  \n",
              "4                    54701        55196  \n",
              "..                     ...          ...  \n",
              "79                       9           10  \n",
              "80                       3            3  \n",
              "81                       4            4  \n",
              "82                       6            7  \n",
              "83                      13           13  \n",
              "\n",
              "[84 rows x 7 columns]"
            ],
            "text/html": [
              "\n",
              "  <div id=\"df-35f0de77-e556-4065-99e0-9de8dabceea4\">\n",
              "    <div class=\"colab-df-container\">\n",
              "      <div>\n",
              "<style scoped>\n",
              "    .dataframe tbody tr th:only-of-type {\n",
              "        vertical-align: middle;\n",
              "    }\n",
              "\n",
              "    .dataframe tbody tr th {\n",
              "        vertical-align: top;\n",
              "    }\n",
              "\n",
              "    .dataframe thead th {\n",
              "        text-align: right;\n",
              "    }\n",
              "</style>\n",
              "<table border=\"1\" class=\"dataframe\">\n",
              "  <thead>\n",
              "    <tr style=\"text-align: right;\">\n",
              "      <th></th>\n",
              "      <th>age</th>\n",
              "      <th>customer_id</th>\n",
              "      <th>FN</th>\n",
              "      <th>Active</th>\n",
              "      <th>club_member_status</th>\n",
              "      <th>fashion_news_frequency</th>\n",
              "      <th>postal_code</th>\n",
              "    </tr>\n",
              "  </thead>\n",
              "  <tbody>\n",
              "    <tr>\n",
              "      <th>0</th>\n",
              "      <td>16.0</td>\n",
              "      <td>161</td>\n",
              "      <td>74</td>\n",
              "      <td>73</td>\n",
              "      <td>159</td>\n",
              "      <td>161</td>\n",
              "      <td>161</td>\n",
              "    </tr>\n",
              "    <tr>\n",
              "      <th>1</th>\n",
              "      <td>17.0</td>\n",
              "      <td>9392</td>\n",
              "      <td>2981</td>\n",
              "      <td>2924</td>\n",
              "      <td>9379</td>\n",
              "      <td>9367</td>\n",
              "      <td>9392</td>\n",
              "    </tr>\n",
              "    <tr>\n",
              "      <th>2</th>\n",
              "      <td>18.0</td>\n",
              "      <td>24323</td>\n",
              "      <td>8105</td>\n",
              "      <td>7860</td>\n",
              "      <td>24295</td>\n",
              "      <td>23930</td>\n",
              "      <td>24323</td>\n",
              "    </tr>\n",
              "    <tr>\n",
              "      <th>3</th>\n",
              "      <td>19.0</td>\n",
              "      <td>37707</td>\n",
              "      <td>15070</td>\n",
              "      <td>14515</td>\n",
              "      <td>37627</td>\n",
              "      <td>37380</td>\n",
              "      <td>37707</td>\n",
              "    </tr>\n",
              "    <tr>\n",
              "      <th>4</th>\n",
              "      <td>20.0</td>\n",
              "      <td>55196</td>\n",
              "      <td>21915</td>\n",
              "      <td>21091</td>\n",
              "      <td>55050</td>\n",
              "      <td>54701</td>\n",
              "      <td>55196</td>\n",
              "    </tr>\n",
              "    <tr>\n",
              "      <th>...</th>\n",
              "      <td>...</td>\n",
              "      <td>...</td>\n",
              "      <td>...</td>\n",
              "      <td>...</td>\n",
              "      <td>...</td>\n",
              "      <td>...</td>\n",
              "      <td>...</td>\n",
              "    </tr>\n",
              "    <tr>\n",
              "      <th>79</th>\n",
              "      <td>95.0</td>\n",
              "      <td>10</td>\n",
              "      <td>2</td>\n",
              "      <td>2</td>\n",
              "      <td>10</td>\n",
              "      <td>9</td>\n",
              "      <td>10</td>\n",
              "    </tr>\n",
              "    <tr>\n",
              "      <th>80</th>\n",
              "      <td>96.0</td>\n",
              "      <td>3</td>\n",
              "      <td>0</td>\n",
              "      <td>0</td>\n",
              "      <td>3</td>\n",
              "      <td>3</td>\n",
              "      <td>3</td>\n",
              "    </tr>\n",
              "    <tr>\n",
              "      <th>81</th>\n",
              "      <td>97.0</td>\n",
              "      <td>4</td>\n",
              "      <td>1</td>\n",
              "      <td>1</td>\n",
              "      <td>4</td>\n",
              "      <td>4</td>\n",
              "      <td>4</td>\n",
              "    </tr>\n",
              "    <tr>\n",
              "      <th>82</th>\n",
              "      <td>98.0</td>\n",
              "      <td>7</td>\n",
              "      <td>2</td>\n",
              "      <td>1</td>\n",
              "      <td>7</td>\n",
              "      <td>6</td>\n",
              "      <td>7</td>\n",
              "    </tr>\n",
              "    <tr>\n",
              "      <th>83</th>\n",
              "      <td>99.0</td>\n",
              "      <td>13</td>\n",
              "      <td>5</td>\n",
              "      <td>5</td>\n",
              "      <td>13</td>\n",
              "      <td>13</td>\n",
              "      <td>13</td>\n",
              "    </tr>\n",
              "  </tbody>\n",
              "</table>\n",
              "<p>84 rows × 7 columns</p>\n",
              "</div>\n",
              "      <button class=\"colab-df-convert\" onclick=\"convertToInteractive('df-35f0de77-e556-4065-99e0-9de8dabceea4')\"\n",
              "              title=\"Convert this dataframe to an interactive table.\"\n",
              "              style=\"display:none;\">\n",
              "        \n",
              "  <svg xmlns=\"http://www.w3.org/2000/svg\" height=\"24px\"viewBox=\"0 0 24 24\"\n",
              "       width=\"24px\">\n",
              "    <path d=\"M0 0h24v24H0V0z\" fill=\"none\"/>\n",
              "    <path d=\"M18.56 5.44l.94 2.06.94-2.06 2.06-.94-2.06-.94-.94-2.06-.94 2.06-2.06.94zm-11 1L8.5 8.5l.94-2.06 2.06-.94-2.06-.94L8.5 2.5l-.94 2.06-2.06.94zm10 10l.94 2.06.94-2.06 2.06-.94-2.06-.94-.94-2.06-.94 2.06-2.06.94z\"/><path d=\"M17.41 7.96l-1.37-1.37c-.4-.4-.92-.59-1.43-.59-.52 0-1.04.2-1.43.59L10.3 9.45l-7.72 7.72c-.78.78-.78 2.05 0 2.83L4 21.41c.39.39.9.59 1.41.59.51 0 1.02-.2 1.41-.59l7.78-7.78 2.81-2.81c.8-.78.8-2.07 0-2.86zM5.41 20L4 18.59l7.72-7.72 1.47 1.35L5.41 20z\"/>\n",
              "  </svg>\n",
              "      </button>\n",
              "      \n",
              "  <style>\n",
              "    .colab-df-container {\n",
              "      display:flex;\n",
              "      flex-wrap:wrap;\n",
              "      gap: 12px;\n",
              "    }\n",
              "\n",
              "    .colab-df-convert {\n",
              "      background-color: #E8F0FE;\n",
              "      border: none;\n",
              "      border-radius: 50%;\n",
              "      cursor: pointer;\n",
              "      display: none;\n",
              "      fill: #1967D2;\n",
              "      height: 32px;\n",
              "      padding: 0 0 0 0;\n",
              "      width: 32px;\n",
              "    }\n",
              "\n",
              "    .colab-df-convert:hover {\n",
              "      background-color: #E2EBFA;\n",
              "      box-shadow: 0px 1px 2px rgba(60, 64, 67, 0.3), 0px 1px 3px 1px rgba(60, 64, 67, 0.15);\n",
              "      fill: #174EA6;\n",
              "    }\n",
              "\n",
              "    [theme=dark] .colab-df-convert {\n",
              "      background-color: #3B4455;\n",
              "      fill: #D2E3FC;\n",
              "    }\n",
              "\n",
              "    [theme=dark] .colab-df-convert:hover {\n",
              "      background-color: #434B5C;\n",
              "      box-shadow: 0px 1px 3px 1px rgba(0, 0, 0, 0.15);\n",
              "      filter: drop-shadow(0px 1px 2px rgba(0, 0, 0, 0.3));\n",
              "      fill: #FFFFFF;\n",
              "    }\n",
              "  </style>\n",
              "\n",
              "      <script>\n",
              "        const buttonEl =\n",
              "          document.querySelector('#df-35f0de77-e556-4065-99e0-9de8dabceea4 button.colab-df-convert');\n",
              "        buttonEl.style.display =\n",
              "          google.colab.kernel.accessAllowed ? 'block' : 'none';\n",
              "\n",
              "        async function convertToInteractive(key) {\n",
              "          const element = document.querySelector('#df-35f0de77-e556-4065-99e0-9de8dabceea4');\n",
              "          const dataTable =\n",
              "            await google.colab.kernel.invokeFunction('convertToInteractive',\n",
              "                                                     [key], {});\n",
              "          if (!dataTable) return;\n",
              "\n",
              "          const docLinkHtml = 'Like what you see? Visit the ' +\n",
              "            '<a target=\"_blank\" href=https://colab.research.google.com/notebooks/data_table.ipynb>data table notebook</a>'\n",
              "            + ' to learn more about interactive tables.';\n",
              "          element.innerHTML = '';\n",
              "          dataTable['output_type'] = 'display_data';\n",
              "          await google.colab.output.renderOutput(dataTable, element);\n",
              "          const docLink = document.createElement('div');\n",
              "          docLink.innerHTML = docLinkHtml;\n",
              "          element.appendChild(docLink);\n",
              "        }\n",
              "      </script>\n",
              "    </div>\n",
              "  </div>\n",
              "  "
            ]
          },
          "metadata": {},
          "execution_count": 13
        }
      ]
    },
    {
      "cell_type": "markdown",
      "source": [
        "Let's move on to the postal codes now."
      ],
      "metadata": {
        "id": "xdiErNgRiw76"
      }
    },
    {
      "cell_type": "code",
      "source": [
        "#@title {display-mode: \"form\"}\n",
        "customers.groupby('postal_code', as_index=False).count().sort_values('customer_id', ascending=False)"
      ],
      "metadata": {
        "colab": {
          "base_uri": "https://localhost:8080/",
          "height": 419
        },
        "id": "S1TBSj0ze738",
        "outputId": "1dae4762-381e-44e5-edae-97ffb53ec567"
      },
      "execution_count": null,
      "outputs": [
        {
          "output_type": "execute_result",
          "data": {
            "text/plain": [
              "                                              postal_code  customer_id     FN  \\\n",
              "61034   2c29ae653a9282cce4151bd87643c907644e09541abc28...       120303  42874   \n",
              "281937  cc4ed85e30f4977dae47662ddc468cd2eec11472de6fac...          261    109   \n",
              "156090  714976379549eb90aae4a71bca6c7402cc646ae7c40f6c...          159     90   \n",
              "171208  7c1fa3b0ec1d37ce2c3f34f63bd792f3b4494f324b6be5...          157     55   \n",
              "126228  5b7eb31eabebd3277de632b82267286d847fd5d44287ee...          156     42   \n",
              "...                                                   ...          ...    ...   \n",
              "129744  5e14f1b9db2fc96d22ed0a48462e684061ee81ab82b36e...            1      1   \n",
              "271330  c4873af1061bd5be842d810d9d8549941befa4f4aaf56a...            1      0   \n",
              "129746  5e153c2cb31cce8575346a7b165527a58d49d5223cfd64...            1      0   \n",
              "271328  c48723f620fb40095368752f0dc577b5575dea418bea6e...            1      0   \n",
              "0       0000198d2c593b7d3df5a35282b74cf3a487b066286b2b...            1      1   \n",
              "\n",
              "        Active  club_member_status  fashion_news_frequency     age  \n",
              "61034    39886              118281                  114377  118002  \n",
              "281937     104                 261                     261     260  \n",
              "156090      88                 159                     159     158  \n",
              "171208      54                 157                     156     156  \n",
              "126228      41                 156                     156     155  \n",
              "...        ...                 ...                     ...     ...  \n",
              "129744       1                   1                       1       1  \n",
              "271330       0                   1                       1       1  \n",
              "129746       0                   1                       0       1  \n",
              "271328       0                   1                       1       1  \n",
              "0            1                   1                       1       1  \n",
              "\n",
              "[352899 rows x 7 columns]"
            ],
            "text/html": [
              "\n",
              "  <div id=\"df-7b9b7037-82ee-4df6-8137-703dea57681a\">\n",
              "    <div class=\"colab-df-container\">\n",
              "      <div>\n",
              "<style scoped>\n",
              "    .dataframe tbody tr th:only-of-type {\n",
              "        vertical-align: middle;\n",
              "    }\n",
              "\n",
              "    .dataframe tbody tr th {\n",
              "        vertical-align: top;\n",
              "    }\n",
              "\n",
              "    .dataframe thead th {\n",
              "        text-align: right;\n",
              "    }\n",
              "</style>\n",
              "<table border=\"1\" class=\"dataframe\">\n",
              "  <thead>\n",
              "    <tr style=\"text-align: right;\">\n",
              "      <th></th>\n",
              "      <th>postal_code</th>\n",
              "      <th>customer_id</th>\n",
              "      <th>FN</th>\n",
              "      <th>Active</th>\n",
              "      <th>club_member_status</th>\n",
              "      <th>fashion_news_frequency</th>\n",
              "      <th>age</th>\n",
              "    </tr>\n",
              "  </thead>\n",
              "  <tbody>\n",
              "    <tr>\n",
              "      <th>61034</th>\n",
              "      <td>2c29ae653a9282cce4151bd87643c907644e09541abc28...</td>\n",
              "      <td>120303</td>\n",
              "      <td>42874</td>\n",
              "      <td>39886</td>\n",
              "      <td>118281</td>\n",
              "      <td>114377</td>\n",
              "      <td>118002</td>\n",
              "    </tr>\n",
              "    <tr>\n",
              "      <th>281937</th>\n",
              "      <td>cc4ed85e30f4977dae47662ddc468cd2eec11472de6fac...</td>\n",
              "      <td>261</td>\n",
              "      <td>109</td>\n",
              "      <td>104</td>\n",
              "      <td>261</td>\n",
              "      <td>261</td>\n",
              "      <td>260</td>\n",
              "    </tr>\n",
              "    <tr>\n",
              "      <th>156090</th>\n",
              "      <td>714976379549eb90aae4a71bca6c7402cc646ae7c40f6c...</td>\n",
              "      <td>159</td>\n",
              "      <td>90</td>\n",
              "      <td>88</td>\n",
              "      <td>159</td>\n",
              "      <td>159</td>\n",
              "      <td>158</td>\n",
              "    </tr>\n",
              "    <tr>\n",
              "      <th>171208</th>\n",
              "      <td>7c1fa3b0ec1d37ce2c3f34f63bd792f3b4494f324b6be5...</td>\n",
              "      <td>157</td>\n",
              "      <td>55</td>\n",
              "      <td>54</td>\n",
              "      <td>157</td>\n",
              "      <td>156</td>\n",
              "      <td>156</td>\n",
              "    </tr>\n",
              "    <tr>\n",
              "      <th>126228</th>\n",
              "      <td>5b7eb31eabebd3277de632b82267286d847fd5d44287ee...</td>\n",
              "      <td>156</td>\n",
              "      <td>42</td>\n",
              "      <td>41</td>\n",
              "      <td>156</td>\n",
              "      <td>156</td>\n",
              "      <td>155</td>\n",
              "    </tr>\n",
              "    <tr>\n",
              "      <th>...</th>\n",
              "      <td>...</td>\n",
              "      <td>...</td>\n",
              "      <td>...</td>\n",
              "      <td>...</td>\n",
              "      <td>...</td>\n",
              "      <td>...</td>\n",
              "      <td>...</td>\n",
              "    </tr>\n",
              "    <tr>\n",
              "      <th>129744</th>\n",
              "      <td>5e14f1b9db2fc96d22ed0a48462e684061ee81ab82b36e...</td>\n",
              "      <td>1</td>\n",
              "      <td>1</td>\n",
              "      <td>1</td>\n",
              "      <td>1</td>\n",
              "      <td>1</td>\n",
              "      <td>1</td>\n",
              "    </tr>\n",
              "    <tr>\n",
              "      <th>271330</th>\n",
              "      <td>c4873af1061bd5be842d810d9d8549941befa4f4aaf56a...</td>\n",
              "      <td>1</td>\n",
              "      <td>0</td>\n",
              "      <td>0</td>\n",
              "      <td>1</td>\n",
              "      <td>1</td>\n",
              "      <td>1</td>\n",
              "    </tr>\n",
              "    <tr>\n",
              "      <th>129746</th>\n",
              "      <td>5e153c2cb31cce8575346a7b165527a58d49d5223cfd64...</td>\n",
              "      <td>1</td>\n",
              "      <td>0</td>\n",
              "      <td>0</td>\n",
              "      <td>1</td>\n",
              "      <td>0</td>\n",
              "      <td>1</td>\n",
              "    </tr>\n",
              "    <tr>\n",
              "      <th>271328</th>\n",
              "      <td>c48723f620fb40095368752f0dc577b5575dea418bea6e...</td>\n",
              "      <td>1</td>\n",
              "      <td>0</td>\n",
              "      <td>0</td>\n",
              "      <td>1</td>\n",
              "      <td>1</td>\n",
              "      <td>1</td>\n",
              "    </tr>\n",
              "    <tr>\n",
              "      <th>0</th>\n",
              "      <td>0000198d2c593b7d3df5a35282b74cf3a487b066286b2b...</td>\n",
              "      <td>1</td>\n",
              "      <td>1</td>\n",
              "      <td>1</td>\n",
              "      <td>1</td>\n",
              "      <td>1</td>\n",
              "      <td>1</td>\n",
              "    </tr>\n",
              "  </tbody>\n",
              "</table>\n",
              "<p>352899 rows × 7 columns</p>\n",
              "</div>\n",
              "      <button class=\"colab-df-convert\" onclick=\"convertToInteractive('df-7b9b7037-82ee-4df6-8137-703dea57681a')\"\n",
              "              title=\"Convert this dataframe to an interactive table.\"\n",
              "              style=\"display:none;\">\n",
              "        \n",
              "  <svg xmlns=\"http://www.w3.org/2000/svg\" height=\"24px\"viewBox=\"0 0 24 24\"\n",
              "       width=\"24px\">\n",
              "    <path d=\"M0 0h24v24H0V0z\" fill=\"none\"/>\n",
              "    <path d=\"M18.56 5.44l.94 2.06.94-2.06 2.06-.94-2.06-.94-.94-2.06-.94 2.06-2.06.94zm-11 1L8.5 8.5l.94-2.06 2.06-.94-2.06-.94L8.5 2.5l-.94 2.06-2.06.94zm10 10l.94 2.06.94-2.06 2.06-.94-2.06-.94-.94-2.06-.94 2.06-2.06.94z\"/><path d=\"M17.41 7.96l-1.37-1.37c-.4-.4-.92-.59-1.43-.59-.52 0-1.04.2-1.43.59L10.3 9.45l-7.72 7.72c-.78.78-.78 2.05 0 2.83L4 21.41c.39.39.9.59 1.41.59.51 0 1.02-.2 1.41-.59l7.78-7.78 2.81-2.81c.8-.78.8-2.07 0-2.86zM5.41 20L4 18.59l7.72-7.72 1.47 1.35L5.41 20z\"/>\n",
              "  </svg>\n",
              "      </button>\n",
              "      \n",
              "  <style>\n",
              "    .colab-df-container {\n",
              "      display:flex;\n",
              "      flex-wrap:wrap;\n",
              "      gap: 12px;\n",
              "    }\n",
              "\n",
              "    .colab-df-convert {\n",
              "      background-color: #E8F0FE;\n",
              "      border: none;\n",
              "      border-radius: 50%;\n",
              "      cursor: pointer;\n",
              "      display: none;\n",
              "      fill: #1967D2;\n",
              "      height: 32px;\n",
              "      padding: 0 0 0 0;\n",
              "      width: 32px;\n",
              "    }\n",
              "\n",
              "    .colab-df-convert:hover {\n",
              "      background-color: #E2EBFA;\n",
              "      box-shadow: 0px 1px 2px rgba(60, 64, 67, 0.3), 0px 1px 3px 1px rgba(60, 64, 67, 0.15);\n",
              "      fill: #174EA6;\n",
              "    }\n",
              "\n",
              "    [theme=dark] .colab-df-convert {\n",
              "      background-color: #3B4455;\n",
              "      fill: #D2E3FC;\n",
              "    }\n",
              "\n",
              "    [theme=dark] .colab-df-convert:hover {\n",
              "      background-color: #434B5C;\n",
              "      box-shadow: 0px 1px 3px 1px rgba(0, 0, 0, 0.15);\n",
              "      filter: drop-shadow(0px 1px 2px rgba(0, 0, 0, 0.3));\n",
              "      fill: #FFFFFF;\n",
              "    }\n",
              "  </style>\n",
              "\n",
              "      <script>\n",
              "        const buttonEl =\n",
              "          document.querySelector('#df-7b9b7037-82ee-4df6-8137-703dea57681a button.colab-df-convert');\n",
              "        buttonEl.style.display =\n",
              "          google.colab.kernel.accessAllowed ? 'block' : 'none';\n",
              "\n",
              "        async function convertToInteractive(key) {\n",
              "          const element = document.querySelector('#df-7b9b7037-82ee-4df6-8137-703dea57681a');\n",
              "          const dataTable =\n",
              "            await google.colab.kernel.invokeFunction('convertToInteractive',\n",
              "                                                     [key], {});\n",
              "          if (!dataTable) return;\n",
              "\n",
              "          const docLinkHtml = 'Like what you see? Visit the ' +\n",
              "            '<a target=\"_blank\" href=https://colab.research.google.com/notebooks/data_table.ipynb>data table notebook</a>'\n",
              "            + ' to learn more about interactive tables.';\n",
              "          element.innerHTML = '';\n",
              "          dataTable['output_type'] = 'display_data';\n",
              "          await google.colab.output.renderOutput(dataTable, element);\n",
              "          const docLink = document.createElement('div');\n",
              "          docLink.innerHTML = docLinkHtml;\n",
              "          element.appendChild(docLink);\n",
              "        }\n",
              "      </script>\n",
              "    </div>\n",
              "  </div>\n",
              "  "
            ]
          },
          "metadata": {},
          "execution_count": 9
        }
      ]
    }
  ]
}